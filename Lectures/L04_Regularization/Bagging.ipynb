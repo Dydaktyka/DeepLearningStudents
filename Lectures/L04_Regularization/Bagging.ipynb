{
 "cells": [
  {
   "cell_type": "code",
   "execution_count": 1,
   "metadata": {
    "slideshow": {
     "slide_type": "skip"
    }
   },
   "outputs": [],
   "source": [
    "import torch\n",
    "import torchvision\n",
    "from torch import nn\n",
    "import matplotlib.pyplot as plt\n",
    "import numpy as np\n",
    "%matplotlib inline"
   ]
  },
  {
   "cell_type": "code",
   "execution_count": 2,
   "metadata": {
    "slideshow": {
     "slide_type": "skip"
    }
   },
   "outputs": [],
   "source": [
    "from torch._utils import _accumulate\n",
    "def random_split(dataset, lengths):\n",
    "    r\"\"\"\n",
    "    Randomly split a dataset into non-overlapping new datasets of given lengths.\n",
    "\n",
    "    Arguments:\n",
    "        dataset (Dataset): Dataset to be split\n",
    "        lengths (sequence): lengths of splits to be produced\n",
    "    \"\"\"\n",
    "    if sum(lengths) != len(dataset):\n",
    "        raise ValueError(\"Sum of input lengths does not equal the length of the input dataset!\")\n",
    "\n",
    "    indices = torch.randperm(sum(lengths))\n",
    "    return [torch.utils.data.Subset(dataset, indices[offset - length:offset]) for offset, length in zip(_accumulate(lengths), lengths)]"
   ]
  },
  {
   "cell_type": "markdown",
   "metadata": {
    "slideshow": {
     "slide_type": "slide"
    }
   },
   "source": [
    "## FashionMNIST"
   ]
  },
  {
   "cell_type": "code",
   "execution_count": 3,
   "metadata": {
    "slideshow": {
     "slide_type": "slide"
    }
   },
   "outputs": [
    {
     "name": "stdout",
     "output_type": "stream",
     "text": [
      "Using downloaded and verified file: ../data/f_mnist/FashionMNIST/raw/train-images-idx3-ubyte.gz\n",
      "Extracting ../data/f_mnist/FashionMNIST/raw/train-images-idx3-ubyte.gz to ../data/f_mnist/FashionMNIST/raw\n",
      "Downloading http://fashion-mnist.s3-website.eu-central-1.amazonaws.com/train-labels-idx1-ubyte.gz to ../data/f_mnist/FashionMNIST/raw/train-labels-idx1-ubyte.gz\n"
     ]
    },
    {
     "data": {
      "application/vnd.jupyter.widget-view+json": {
       "model_id": "89e4752497bf45b59714807c154cee29",
       "version_major": 2,
       "version_minor": 0
      },
      "text/plain": [
       "HBox(children=(HTML(value=''), FloatProgress(value=1.0, bar_style='info', layout=Layout(width='20px'), max=1.0…"
      ]
     },
     "metadata": {},
     "output_type": "display_data"
    },
    {
     "name": "stdout",
     "output_type": "stream",
     "text": [
      "Extracting ../data/f_mnist/FashionMNIST/raw/train-labels-idx1-ubyte.gz to ../data/f_mnist/FashionMNIST/raw\n",
      "Downloading http://fashion-mnist.s3-website.eu-central-1.amazonaws.com/t10k-images-idx3-ubyte.gz to ../data/f_mnist/FashionMNIST/raw/t10k-images-idx3-ubyte.gz\n"
     ]
    },
    {
     "data": {
      "application/vnd.jupyter.widget-view+json": {
       "model_id": "017ee17c8259480294cd9037539e286b",
       "version_major": 2,
       "version_minor": 0
      },
      "text/plain": [
       "HBox(children=(HTML(value=''), FloatProgress(value=1.0, bar_style='info', layout=Layout(width='20px'), max=1.0…"
      ]
     },
     "metadata": {},
     "output_type": "display_data"
    },
    {
     "name": "stdout",
     "output_type": "stream",
     "text": [
      "Extracting ../data/f_mnist/FashionMNIST/raw/t10k-images-idx3-ubyte.gz to ../data/f_mnist/FashionMNIST/raw\n",
      "Downloading http://fashion-mnist.s3-website.eu-central-1.amazonaws.com/t10k-labels-idx1-ubyte.gz to ../data/f_mnist/FashionMNIST/raw/t10k-labels-idx1-ubyte.gz\n"
     ]
    },
    {
     "data": {
      "application/vnd.jupyter.widget-view+json": {
       "model_id": "ed4f9f65f7f042d7a4e20c46c347b1b7",
       "version_major": 2,
       "version_minor": 0
      },
      "text/plain": [
       "HBox(children=(HTML(value=''), FloatProgress(value=1.0, bar_style='info', layout=Layout(width='20px'), max=1.0…"
      ]
     },
     "metadata": {},
     "output_type": "display_data"
    },
    {
     "name": "stdout",
     "output_type": "stream",
     "text": [
      "Extracting ../data/f_mnist/FashionMNIST/raw/t10k-labels-idx1-ubyte.gz to ../data/f_mnist/FashionMNIST/raw\n",
      "Processing...\n",
      "Done!\n",
      "\n"
     ]
    },
    {
     "name": "stderr",
     "output_type": "stream",
     "text": [
      "/Users/distiller/project/conda/conda-bld/pytorch_1591914893314/work/torch/csrc/utils/tensor_numpy.cpp:141: UserWarning: The given NumPy array is not writeable, and PyTorch does not support non-writeable tensors. This means you can write to the underlying (supposedly non-writeable) NumPy array using the tensor. You may want to copy the array to protect its data or make it writeable before converting it to a tensor. This type of warning will be suppressed for the rest of this program.\n"
     ]
    }
   ],
   "source": [
    "dl_train = torch.utils.data.DataLoader(\n",
    "    torchvision.datasets.FashionMNIST('../data/f_mnist', train=True, download=True))\n",
    "\n",
    "dl_test  = torch.utils.data.DataLoader(\n",
    "    torchvision.datasets.FashionMNIST('../data/f_mnist', train=False, download=True))"
   ]
  },
  {
   "cell_type": "code",
   "execution_count": 4,
   "metadata": {
    "slideshow": {
     "slide_type": "slide"
    }
   },
   "outputs": [],
   "source": [
    "data   = dl_train.dataset.data.to(dtype=torch.float32)\n",
    "labels = dl_train.dataset.targets"
   ]
  },
  {
   "cell_type": "code",
   "execution_count": 5,
   "metadata": {
    "slideshow": {
     "slide_type": "slide"
    }
   },
   "outputs": [
    {
     "name": "stdout",
     "output_type": "stream",
     "text": [
      "\n",
      "\n"
     ]
    },
    {
     "data": {
      "image/png": "[encoded data removed]",
      "text/plain": [
       "<Figure size 2304x288 with 8 Axes>"
      ]
     },
     "metadata": {
      "needs_background": "light"
     },
     "output_type": "display_data"
    }
   ],
   "source": [
    "fig_mnist, ax = plt.subplots(1,8, figsize=(8*4,4))\n",
    "for i in range(8):\n",
    "    ax[i].imshow(data[i].numpy(), cmap='Greys');"
   ]
  },
  {
   "cell_type": "markdown",
   "metadata": {},
   "source": [
    "|Label|Description|\n",
    "|-----|-----------|\n",
    "| 0  |T-shirt/top| \n",
    "| 1  | Trouser   |\n",
    "| 2  | Pullover  |\n",
    "| 3  | Dress     |\n",
    "| 4  | Coat      |\n",
    "| 5  | Sandal   |\n",
    "| 6  | Shirt    |\n",
    "|7 | Sneaker|\n",
    "|8| Bag |\n",
    "|9| Ankle boot|"
   ]
  },
  {
   "cell_type": "code",
   "execution_count": 6,
   "metadata": {},
   "outputs": [
    {
     "data": {
      "text/plain": [
       "tensor([9, 0, 0, 3, 0, 2, 7, 2])"
      ]
     },
     "execution_count": 6,
     "metadata": {},
     "output_type": "execute_result"
    }
   ],
   "source": [
    "labels[0:8]"
   ]
  },
  {
   "cell_type": "code",
   "execution_count": 7,
   "metadata": {
    "slideshow": {
     "slide_type": "slide"
    }
   },
   "outputs": [],
   "source": [
    "dataset = torch.utils.data.TensorDataset( \n",
    "    (data/256.0).view(-1,28*28), \n",
    "    labels)"
   ]
  },
  {
   "cell_type": "code",
   "execution_count": 8,
   "metadata": {
    "slideshow": {
     "slide_type": "-"
    }
   },
   "outputs": [],
   "source": [
    "train_dataset, validation_dataset = random_split(dataset, (50000,10000))"
   ]
  },
  {
   "cell_type": "code",
   "execution_count": 9,
   "metadata": {},
   "outputs": [],
   "source": [
    "train_loader = torch.utils.data.DataLoader(train_dataset, batch_size=100, shuffle=True)"
   ]
  },
  {
   "cell_type": "code",
   "execution_count": 10,
   "metadata": {
    "slideshow": {
     "slide_type": "slide"
    }
   },
   "outputs": [],
   "source": [
    "datasets = [\n",
    "    torch.utils.data.Subset(train_dataset,torch.randint(len(train_dataset),(len(train_dataset),))) for i in range(5)]"
   ]
  },
  {
   "cell_type": "code",
   "execution_count": 11,
   "metadata": {
    "slideshow": {
     "slide_type": "-"
    }
   },
   "outputs": [],
   "source": [
    "train_loaders = [torch.utils.data.DataLoader(d, \n",
    "                                           batch_size=100, \n",
    "                                           shuffle=True) for d in datasets]"
   ]
  },
  {
   "cell_type": "code",
   "execution_count": 12,
   "metadata": {
    "slideshow": {
     "slide_type": "slide"
    }
   },
   "outputs": [],
   "source": [
    "test_data   = dl_test.dataset.data.to(dtype=torch.float32)\n",
    "test_labels = dl_test.dataset.targets\n",
    "test_dataset = torch.utils.data.TensorDataset(\n",
    "    (test_data/256.0).view(-1,28*28), test_labels)"
   ]
  },
  {
   "cell_type": "code",
   "execution_count": 13,
   "metadata": {
    "slideshow": {
     "slide_type": "slide"
    }
   },
   "outputs": [],
   "source": [
    "models = [torch.nn.Sequential(\n",
    "    nn.Linear(28*28,1200), nn.ReLU(),\n",
    "    nn.Linear(1200,1200), nn.ReLU(),\n",
    "    nn.Linear(1200,1200), nn.ReLU(),\n",
    "    nn.Linear(1200,10)\n",
    ") for i in range(len(datasets))]"
   ]
  },
  {
   "cell_type": "code",
   "execution_count": 14,
   "metadata": {
    "slideshow": {
     "slide_type": "slide"
    }
   },
   "outputs": [],
   "source": [
    "optims = [torch.optim.SGD(models[i].parameters(), lr=0.01, momentum=0.6) for i in range(len(datasets))]"
   ]
  },
  {
   "cell_type": "code",
   "execution_count": 15,
   "metadata": {
    "slideshow": {
     "slide_type": "slide"
    }
   },
   "outputs": [],
   "source": [
    "loss_f = nn.CrossEntropyLoss()"
   ]
  },
  {
   "cell_type": "code",
   "execution_count": 16,
   "metadata": {
    "slideshow": {
     "slide_type": "-"
    }
   },
   "outputs": [
    {
     "name": "stdout",
     "output_type": "stream",
     "text": [
      "0 0 1.1347547769546509\n",
      "0 1 0.4568258225917816\n",
      "0 2 0.6285406947135925\n",
      "0 3 0.4487871527671814\n",
      "0 4 0.4679567217826843\n",
      "0 5 0.36799731850624084\n",
      "0 6 0.36184942722320557\n",
      "0 7 0.2979765832424164\n",
      "0 8 0.30160751938819885\n",
      "0 9 0.3309340178966522\n",
      "1 0 0.7715571522712708\n",
      "1 1 0.614430844783783\n",
      "1 2 0.44799643754959106\n",
      "1 3 0.49453139305114746\n",
      "1 4 0.3456646800041199\n",
      "1 5 0.4797808527946472\n",
      "1 6 0.31778356432914734\n",
      "1 7 0.34466731548309326\n",
      "1 8 0.3740965723991394\n",
      "1 9 0.3070373237133026\n",
      "2 0 0.8484892249107361\n",
      "2 1 0.6551143527030945\n",
      "2 2 0.5980786681175232\n",
      "2 3 0.47723567485809326\n",
      "2 4 0.39321964979171753\n",
      "2 5 0.5370053648948669\n",
      "2 6 0.3839387595653534\n",
      "2 7 0.35817456245422363\n",
      "2 8 0.3870549499988556\n",
      "2 9 0.43846595287323\n",
      "3 0 0.7723106145858765\n",
      "3 1 0.6550522446632385\n",
      "3 2 0.4526214301586151\n",
      "3 3 0.3860251307487488\n",
      "3 4 0.4537869989871979\n",
      "3 5 0.33238789439201355\n",
      "3 6 0.33841314911842346\n",
      "3 7 0.28189364075660706\n",
      "3 8 0.3592987358570099\n",
      "3 9 0.27516981959342957\n",
      "4 0 0.888871431350708\n",
      "4 1 0.5899589657783508\n",
      "4 2 0.5217444896697998\n",
      "4 3 0.39660874009132385\n",
      "4 4 0.2751150131225586\n",
      "4 5 0.3706321716308594\n",
      "4 6 0.33962225914001465\n",
      "4 7 0.42257460951805115\n",
      "4 8 0.36529189348220825\n",
      "4 9 0.30984440445899963\n",
      "CPU times: user 2h 2min 54s, sys: 3min 17s, total: 2h 6min 12s\n",
      "Wall time: 11min 52s\n"
     ]
    }
   ],
   "source": [
    "%%time\n",
    "for i in range(len(datasets)):\n",
    "    for e in range(10):\n",
    "        for d in train_loaders[i]:        \n",
    "            optims[i].zero_grad()\n",
    "            features, labels = d\n",
    "            pred = models[i](features)\n",
    "            loss = loss_f(pred, labels)\n",
    "            loss.backward()\n",
    "            optims[i].step()\n",
    "        print(i,e,loss.item())        "
   ]
  },
  {
   "cell_type": "code",
   "execution_count": 17,
   "metadata": {
    "slideshow": {
     "slide_type": "slide"
    }
   },
   "outputs": [
    {
     "name": "stdout",
     "output_type": "stream",
     "text": [
      "tensor(0.8797)\n",
      "tensor(0.8787)\n",
      "tensor(0.8843)\n",
      "tensor(0.8756)\n",
      "tensor(0.8739)\n"
     ]
    }
   ],
   "source": [
    "with torch.no_grad():\n",
    "    for i in range(len(datasets)):\n",
    "        pred = torch.softmax(models[i](datasets[i][:][0]),1)\n",
    "        ac = torch.sum(torch.argmax(pred,1)==datasets[i][:][1]).to(dtype=torch.float32)/len(datasets[i])\n",
    "        print(ac)  "
   ]
  },
  {
   "cell_type": "code",
   "execution_count": 18,
   "metadata": {},
   "outputs": [
    {
     "name": "stdout",
     "output_type": "stream",
     "text": [
      "tensor(0.8596)\n",
      "tensor(0.8627)\n",
      "tensor(0.8660)\n",
      "tensor(0.8621)\n",
      "tensor(0.8571)\n"
     ]
    }
   ],
   "source": [
    "with torch.no_grad():\n",
    "    for i in range(len(datasets)):\n",
    "        pred = torch.softmax(models[i](validation_dataset[:][0]),1)\n",
    "        ac = torch.sum(torch.argmax(pred,1)==validation_dataset[:][1]).to(dtype=torch.float32)/len(test_dataset)\n",
    "        print(ac)    "
   ]
  },
  {
   "cell_type": "code",
   "execution_count": 19,
   "metadata": {
    "slideshow": {
     "slide_type": "slide"
    }
   },
   "outputs": [],
   "source": [
    "def predict_class (model, inp):\n",
    "    pred = torch.softmax(model(inp),dim=1)\n",
    "    return torch.argmax(pred,dim=1)"
   ]
  },
  {
   "cell_type": "code",
   "execution_count": 20,
   "metadata": {},
   "outputs": [],
   "source": [
    "preds = [predict_class(models[i], validation_dataset[:][0]) for i in range(len(datasets))]"
   ]
  },
  {
   "cell_type": "code",
   "execution_count": 21,
   "metadata": {},
   "outputs": [
    {
     "data": {
      "text/plain": [
       "[tensor([6, 2, 3,  ..., 0, 7, 8]),\n",
       " tensor([6, 2, 3,  ..., 0, 7, 8]),\n",
       " tensor([6, 2, 3,  ..., 0, 7, 8]),\n",
       " tensor([6, 2, 3,  ..., 0, 7, 8]),\n",
       " tensor([6, 2, 3,  ..., 0, 7, 8])]"
      ]
     },
     "execution_count": 21,
     "metadata": {},
     "output_type": "execute_result"
    }
   ],
   "source": [
    "preds"
   ]
  },
  {
   "cell_type": "code",
   "execution_count": 22,
   "metadata": {
    "slideshow": {
     "slide_type": "slide"
    }
   },
   "outputs": [],
   "source": [
    "def vote(predictions):\n",
    "    npred=torch.stack(predictions, dim=1).numpy()\n",
    "    v  = np.apply_along_axis(lambda r: np.bincount(r).argmax(), 1, npred)\n",
    "    return torch.from_numpy(v)  "
   ]
  },
  {
   "cell_type": "code",
   "execution_count": 23,
   "metadata": {
    "slideshow": {
     "slide_type": "fragment"
    }
   },
   "outputs": [],
   "source": [
    "gold = vote(preds)"
   ]
  },
  {
   "cell_type": "code",
   "execution_count": 24,
   "metadata": {
    "slideshow": {
     "slide_type": "fragment"
    }
   },
   "outputs": [
    {
     "data": {
      "text/plain": [
       "0.8663"
      ]
     },
     "execution_count": 24,
     "metadata": {},
     "output_type": "execute_result"
    }
   ],
   "source": [
    "torch.sum(gold==validation_dataset[:][1]).item()/len(gold)"
   ]
  },
  {
   "cell_type": "markdown",
   "metadata": {
    "slideshow": {
     "slide_type": "slide"
    }
   },
   "source": [
    "## Dropout "
   ]
  },
  {
   "cell_type": "markdown",
   "metadata": {
    "slideshow": {
     "slide_type": "-"
    }
   },
   "source": [
    "<p style=\"text-align:center\"><img style=\"padding:24pt\" src=\"dropout.png\"/></p>"
   ]
  },
  {
   "cell_type": "code",
   "execution_count": 25,
   "metadata": {
    "slideshow": {
     "slide_type": "slide"
    }
   },
   "outputs": [],
   "source": [
    "model = torch.nn.Sequential(\n",
    "    nn.Linear(28*28,1200), nn.ReLU(),\n",
    "    nn.Dropout(0.5),\n",
    "    nn.Linear(1200,1200), nn.ReLU(),\n",
    "    nn.Dropout(0.5),\n",
    "    nn.Linear(1200,1200), nn.ReLU(),\n",
    "    nn.Dropout(0.5),\n",
    "    nn.Linear(1200,10)\n",
    ")"
   ]
  },
  {
   "cell_type": "code",
   "execution_count": 26,
   "metadata": {
    "slideshow": {
     "slide_type": "slide"
    }
   },
   "outputs": [],
   "source": [
    "optim = torch.optim.SGD(model.parameters(), lr=0.01 , momentum=0.6)"
   ]
  },
  {
   "cell_type": "code",
   "execution_count": 27,
   "metadata": {},
   "outputs": [
    {
     "name": "stdout",
     "output_type": "stream",
     "text": [
      "0 0.9519996643066406\n",
      "1 0.6941864490509033\n",
      "2 0.5505940914154053\n",
      "3 0.47879746556282043\n",
      "4 0.7312870621681213\n",
      "5 0.4455671012401581\n",
      "6 0.5131936073303223\n",
      "7 0.38850337266921997\n",
      "8 0.4207405149936676\n",
      "9 0.5679695010185242\n"
     ]
    }
   ],
   "source": [
    "model.train()\n",
    "for e in range(10):\n",
    "        for d in train_loader:        \n",
    "            optim.zero_grad()\n",
    "            features, labels = d\n",
    "            pred = model(features)\n",
    "            loss = loss_f(pred, labels)\n",
    "            loss.backward()\n",
    "            optim.step()\n",
    "        print(e,loss.item())        "
   ]
  },
  {
   "cell_type": "code",
   "execution_count": 28,
   "metadata": {
    "slideshow": {
     "slide_type": "slide"
    }
   },
   "outputs": [
    {
     "name": "stdout",
     "output_type": "stream",
     "text": [
      "tensor(0.8691)\n",
      "tensor(0.8613)\n"
     ]
    }
   ],
   "source": [
    "model.eval()\n",
    "pred = torch.softmax(model(train_dataset[:][0]),1)\n",
    "ac = torch.sum(torch.argmax(pred,1)==train_dataset[:][1]).to(dtype=torch.float32)/len(train_dataset)\n",
    "print(ac)\n",
    "pred = torch.softmax(model(validation_dataset[:][0]),1)\n",
    "ac = torch.sum(torch.argmax(pred,1)==validation_dataset[:][1]).to(dtype=torch.float32)/len(validation_dataset)\n",
    "print(ac)"
   ]
  },
  {
   "cell_type": "code",
   "execution_count": null,
   "metadata": {},
   "outputs": [],
   "source": []
  }
 ],
 "metadata": {
  "celltoolbar": "Slideshow",
  "kernelspec": {
   "display_name": "Python 3",
   "language": "python",
   "name": "python3"
  },
  "language_info": {
   "codemirror_mode": {
    "name": "ipython",
    "version": 3
   },
   "file_extension": ".py",
   "mimetype": "text/x-python",
   "name": "python",
   "nbconvert_exporter": "python",
   "pygments_lexer": "ipython3",
   "version": "3.8.3"
  }
 },
 "nbformat": 4,
 "nbformat_minor": 4
}
