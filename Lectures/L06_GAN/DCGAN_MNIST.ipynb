{
 "cells": [
  {
   "cell_type": "markdown",
   "id": "assured-integral",
   "metadata": {},
   "source": [
    "# Deep convolutional  GANs"
   ]
  },
  {
   "cell_type": "markdown",
   "id": "endless-terror",
   "metadata": {},
   "source": [
    "<div>\n",
    "   <span style=\"font-size: large;\"> \"GANS in Action\"</span>, Jakub Langr, Vladimir Bok, Manning Publications 2019.  \n",
    "</div>"
   ]
  },
  {
   "cell_type": "code",
   "execution_count": null,
   "id": "macro-brighton",
   "metadata": {},
   "outputs": [],
   "source": [
    "%load_ext autoreload"
   ]
  },
  {
   "cell_type": "code",
   "execution_count": null,
   "id": "dirty-arctic",
   "metadata": {},
   "outputs": [],
   "source": [
    "%autoreload 2"
   ]
  },
  {
   "cell_type": "code",
   "execution_count": null,
   "id": "unable-colombia",
   "metadata": {
    "slideshow": {
     "slide_type": "skip"
    }
   },
   "outputs": [],
   "source": [
    "import itertools\n",
    "from IPython.display import clear_output, display"
   ]
  },
  {
   "cell_type": "code",
   "execution_count": null,
   "id": "acute-resort",
   "metadata": {
    "slideshow": {
     "slide_type": "skip"
    }
   },
   "outputs": [],
   "source": [
    "import numpy as np\n",
    "import matplotlib.pyplot as plt"
   ]
  },
  {
   "cell_type": "code",
   "execution_count": null,
   "id": "thousand-grocery",
   "metadata": {
    "slideshow": {
     "slide_type": "skip"
    }
   },
   "outputs": [],
   "source": [
    "%matplotlib inline"
   ]
  },
  {
   "cell_type": "code",
   "execution_count": null,
   "id": "comfortable-tennis",
   "metadata": {
    "slideshow": {
     "slide_type": "skip"
    }
   },
   "outputs": [],
   "source": [
    "import torch as t\n",
    "import torch.nn as tnn\n",
    "import torch.nn.functional as F\n",
    "\n",
    "import torchvision"
   ]
  },
  {
   "cell_type": "code",
   "execution_count": null,
   "id": "posted-effect",
   "metadata": {},
   "outputs": [],
   "source": [
    "import sys\n",
    "sys.path.append(\"../../src\")"
   ]
  },
  {
   "cell_type": "code",
   "execution_count": null,
   "id": "conceptual-roulette",
   "metadata": {},
   "outputs": [],
   "source": [
    "import GAN.DCGAN_MNIST as dcgan"
   ]
  },
  {
   "cell_type": "code",
   "execution_count": null,
   "id": "streaming-quantity",
   "metadata": {
    "slideshow": {
     "slide_type": "skip"
    }
   },
   "outputs": [],
   "source": [
    "if t.cuda.is_available():\n",
    "    if t.cuda.device_count()>1:\n",
    "        device = t.device('cuda:1')\n",
    "    else:\n",
    "        device = t.device('cuda')   \n",
    "else:\n",
    "    device = t.device('cpu')"
   ]
  },
  {
   "cell_type": "code",
   "execution_count": null,
   "id": "passive-updating",
   "metadata": {},
   "outputs": [],
   "source": [
    "t.cuda.is_available()"
   ]
  },
  {
   "cell_type": "code",
   "execution_count": null,
   "id": "lesbian-treaty",
   "metadata": {},
   "outputs": [],
   "source": [
    "print(device)"
   ]
  },
  {
   "cell_type": "markdown",
   "id": "changing-custom",
   "metadata": {
    "slideshow": {
     "slide_type": "slide"
    }
   },
   "source": [
    "## MNIST "
   ]
  },
  {
   "cell_type": "code",
   "execution_count": null,
   "id": "quarterly-retention",
   "metadata": {},
   "outputs": [],
   "source": [
    "dl_train = t.utils.data.DataLoader(\n",
    "    torchvision.datasets.MNIST('./data/mnist', train=True, download=True))\n",
    "\n",
    "dl_test  = t.utils.data.DataLoader(\n",
    "    torchvision.datasets.MNIST('./data/mnist', train=False, download=True))"
   ]
  },
  {
   "cell_type": "code",
   "execution_count": null,
   "id": "gothic-diagram",
   "metadata": {
    "slideshow": {
     "slide_type": "skip"
    }
   },
   "outputs": [],
   "source": [
    "mnist_train_data   = dl_train.dataset.data.to(dtype=t.float32)\n",
    "mnist_train_labels = dl_train.dataset.targets"
   ]
  },
  {
   "cell_type": "code",
   "execution_count": null,
   "id": "organizational-looking",
   "metadata": {
    "slideshow": {
     "slide_type": "skip"
    }
   },
   "outputs": [],
   "source": [
    "mnist_test_data   = dl_test.dataset.data.to(dtype=t.float32)\n",
    "mnist_test_labels = dl_test.dataset.targets"
   ]
  },
  {
   "cell_type": "code",
   "execution_count": null,
   "id": "micro-response",
   "metadata": {
    "slideshow": {
     "slide_type": "skip"
    }
   },
   "outputs": [],
   "source": [
    "mnist_data = np.concatenate((mnist_train_data, mnist_test_data))\n",
    "mnist_labels = np.concatenate((mnist_train_labels, mnist_test_labels))"
   ]
  },
  {
   "cell_type": "code",
   "execution_count": null,
   "id": "fundamental-munich",
   "metadata": {
    "slideshow": {
     "slide_type": "slide"
    }
   },
   "outputs": [],
   "source": [
    "index=49\n",
    "plt.imshow(mnist_data[index], cmap='Greys')\n",
    "plt.text(22,3,'%d' % (mnist_labels[index],), fontsize=32);"
   ]
  },
  {
   "cell_type": "code",
   "execution_count": null,
   "id": "limiting-belfast",
   "metadata": {
    "slideshow": {
     "slide_type": "slide"
    }
   },
   "outputs": [],
   "source": [
    "mnist_data_rescaled = 2.0*mnist_data.astype('float32')/255.0 - 1.0\n",
    "np.random.shuffle(mnist_data_rescaled)\n",
    "mnist_data_t = t.from_numpy(mnist_data_rescaled[0:60000]).reshape(-1,1,28,28)"
   ]
  },
  {
   "cell_type": "code",
   "execution_count": null,
   "id": "metallic-valuation",
   "metadata": {},
   "outputs": [],
   "source": [
    "mnist_data_t = mnist_data_t.to(device)"
   ]
  },
  {
   "cell_type": "markdown",
   "id": "sporting-crowd",
   "metadata": {
    "slideshow": {
     "slide_type": "skip"
    }
   },
   "source": [
    "I am taking the whole data set. But if you run on the CPU you can consider using a smaller portion e.g \n",
    "```\n",
    "mnist_data_t = t.from_numpy(mnist_data_flatened[0:20000])\n",
    "```"
   ]
  },
  {
   "cell_type": "markdown",
   "id": "durable-farmer",
   "metadata": {
    "slideshow": {
     "slide_type": "slide"
    }
   },
   "source": [
    "## Models"
   ]
  },
  {
   "cell_type": "markdown",
   "id": "inappropriate-cotton",
   "metadata": {
    "slideshow": {
     "slide_type": "slide"
    }
   },
   "source": [
    "### Discriminator"
   ]
  },
  {
   "cell_type": "code",
   "execution_count": null,
   "id": "mexican-happiness",
   "metadata": {},
   "outputs": [],
   "source": [
    "discriminator = dcgan.Discriminator()\n",
    "discriminator.to(device)"
   ]
  },
  {
   "cell_type": "code",
   "execution_count": null,
   "id": "alike-rochester",
   "metadata": {},
   "outputs": [],
   "source": [
    "o = discriminator(mnist_data_t[0:1])\n",
    "o.shape"
   ]
  },
  {
   "cell_type": "markdown",
   "id": "dense-scout",
   "metadata": {},
   "source": [
    "### Transposed convolution"
   ]
  },
  {
   "cell_type": "markdown",
   "id": "cutting-joining",
   "metadata": {},
   "source": [
    "<img src='figures/conv_transposed.svg' width=30% style=\"margin: auto; padding:20px\">"
   ]
  },
  {
   "cell_type": "markdown",
   "id": "remarkable-check",
   "metadata": {},
   "source": [
    "$$\n",
    "\\begin{align}\n",
    "y_0 & = w_0 x_0 + w_1 x_1 + w_2 x_2\\\\\n",
    "y_1 & = w_0 x_1 + w_1 x_2 + w_2 x_3\\\\\n",
    "y_2 & = w_0 x_2 + w_1 x_3 + w_2 x_4\\\\\n",
    "\\end{align}\n",
    "$$"
   ]
  },
  {
   "cell_type": "markdown",
   "id": "assumed-german",
   "metadata": {},
   "source": [
    "<img src='figures/conv_transposed_flip.svg' width=30% style=\"margin: auto; padding:20px\">"
   ]
  },
  {
   "cell_type": "markdown",
   "id": "accessory-tolerance",
   "metadata": {},
   "source": [
    "$$\n",
    "\\begin{align}\n",
    "x_0 & = w_0 y_0\\\\\n",
    "x_1 & = w_1 y_0 + w_0 y_1\\\\\n",
    "x_2 & = w_2 y_0 + w_1 y_1 + w_0 y_2\\\\\n",
    "x_3 & = w_2 y_1 + w_1 y_2\\\\\n",
    "x_4 & = w_2 y_2\n",
    "\\end{align}\n",
    "$$"
   ]
  },
  {
   "cell_type": "markdown",
   "id": "commercial-shelf",
   "metadata": {},
   "source": [
    "<img src='figures/conv_transposed_pad.svg' width=30% style=\"margin: auto; padding:20px\">"
   ]
  },
  {
   "cell_type": "markdown",
   "id": "advanced-usage",
   "metadata": {},
   "source": [
    "### Padding"
   ]
  },
  {
   "cell_type": "markdown",
   "id": "enclosed-formation",
   "metadata": {},
   "source": [
    "<img src='figures/conv_transposed_padded_1.svg' width=30% style=\"margin: auto; padding:20px\">"
   ]
  },
  {
   "cell_type": "markdown",
   "id": "usual-courage",
   "metadata": {},
   "source": [
    "<img src='figures/conv_transposed_padded_2.svg' width=30% style=\"margin: auto; padding:20px\">"
   ]
  },
  {
   "cell_type": "markdown",
   "id": "pharmaceutical-charter",
   "metadata": {},
   "source": [
    "<img src='figures/conv_transposed_padded_3.svg' width=30% style=\"margin: auto; padding:20px\">"
   ]
  },
  {
   "cell_type": "markdown",
   "id": "vertical-beverage",
   "metadata": {},
   "source": [
    "### Strided"
   ]
  },
  {
   "cell_type": "markdown",
   "id": "endless-shade",
   "metadata": {},
   "source": [
    "<img src='figures/conv_transposed_stride_1.svg' width=30% style=\"margin: auto; padding:20px\">"
   ]
  },
  {
   "cell_type": "markdown",
   "id": "illegal-subscription",
   "metadata": {},
   "source": [
    "<img src='figures/conv_transposed_stride_1.svg' width=30% style=\"margin: auto; padding:20px\">"
   ]
  },
  {
   "cell_type": "markdown",
   "id": "loving-fancy",
   "metadata": {},
   "source": [
    "<img src='figures/conv_transposed_stride_2.svg' width=30% style=\"margin: auto; padding:20px\">"
   ]
  },
  {
   "cell_type": "markdown",
   "id": "ecological-glucose",
   "metadata": {},
   "source": [
    "<img src='figures/conv_transposed_stride_3.svg' width=30% style=\"margin: auto; padding:20px\">"
   ]
  },
  {
   "cell_type": "markdown",
   "id": "coordinated-staff",
   "metadata": {},
   "source": [
    "<img src='figures/conv_transposed_stride_4.svg' width=30% style=\"margin: auto; padding:20px\">"
   ]
  },
  {
   "cell_type": "markdown",
   "id": "russian-portland",
   "metadata": {
    "slideshow": {
     "slide_type": "slide"
    }
   },
   "source": [
    "### Generator"
   ]
  },
  {
   "cell_type": "code",
   "execution_count": null,
   "id": "cloudy-prefix",
   "metadata": {},
   "outputs": [],
   "source": [
    "z_dim=100"
   ]
  },
  {
   "cell_type": "code",
   "execution_count": null,
   "id": "handled-relief",
   "metadata": {},
   "outputs": [],
   "source": [
    "generator = dcgan.Generator(z_dim)\n",
    "generator.to(device)"
   ]
  },
  {
   "cell_type": "code",
   "execution_count": null,
   "id": "stuck-suicide",
   "metadata": {},
   "outputs": [],
   "source": [
    "g = generator(t.rand(z_dim, device=device) )"
   ]
  },
  {
   "cell_type": "code",
   "execution_count": null,
   "id": "viral-boating",
   "metadata": {},
   "outputs": [],
   "source": [
    "g.shape"
   ]
  },
  {
   "cell_type": "markdown",
   "id": "conceptual-moral",
   "metadata": {
    "slideshow": {
     "slide_type": "skip"
    }
   },
   "source": [
    "Move data and models to the device (CUDA). "
   ]
  },
  {
   "cell_type": "code",
   "execution_count": null,
   "id": "english-iceland",
   "metadata": {
    "slideshow": {
     "slide_type": "slide"
    }
   },
   "outputs": [],
   "source": [
    "with t.no_grad():\n",
    "    generator.eval()\n",
    "    in_t = t.empty(1,z_dim, device=device).uniform_(-1,1)\n",
    "    out_t = generator(in_t);\n",
    "    plt.imshow(out_t.data.cpu().numpy().squeeze(), cmap='Greys')"
   ]
  },
  {
   "cell_type": "markdown",
   "id": "acceptable-shooting",
   "metadata": {
    "slideshow": {
     "slide_type": "slide"
    }
   },
   "source": [
    "Binary Cross Entropy loss with labels $l_i$ is defined as:\n",
    "$$bce(\\{ p_i \\},\\{ l_ i\\}) = \\frac{1}{n}\\sum_{i=0}^{n-1} \\left(l_i \\log p_i + (1-l_i) \\log(1-p_i)\\right)  $$"
   ]
  },
  {
   "cell_type": "code",
   "execution_count": null,
   "id": "minus-ballot",
   "metadata": {},
   "outputs": [],
   "source": [
    "bce = t.nn.BCELoss()"
   ]
  },
  {
   "cell_type": "code",
   "execution_count": null,
   "id": "specific-superior",
   "metadata": {},
   "outputs": [],
   "source": [
    "t.cuda.empty_cache()"
   ]
  },
  {
   "cell_type": "code",
   "execution_count": null,
   "id": "phantom-heavy",
   "metadata": {},
   "outputs": [],
   "source": [
    "dataset = t.utils.data.TensorDataset(mnist_data_t)"
   ]
  },
  {
   "cell_type": "code",
   "execution_count": null,
   "id": "distributed-semiconductor",
   "metadata": {},
   "outputs": [],
   "source": [
    "if device.type == 'cpu':\n",
    "    mini_batch_size=64\n",
    "else:\n",
    "    mini_batch_size=2048\n",
    "dataloader = t.utils.data.DataLoader(dataset, batch_size=mini_batch_size, shuffle=True)"
   ]
  },
  {
   "cell_type": "code",
   "execution_count": null,
   "id": "affected-illinois",
   "metadata": {
    "slideshow": {
     "slide_type": "slide"
    }
   },
   "outputs": [],
   "source": [
    "with t.no_grad():\n",
    "    discriminator.eval()\n",
    "    generator.eval()\n",
    "    d_loss = 0\n",
    "    g_loss = 0\n",
    "    n_batches = 0\n",
    "    for d, in dataloader:\n",
    "        d_loss+= dcgan.discriminator_loss(discriminator, generator,  d, z_dim, device)\n",
    "        g_loss+= dcgan.generator_loss( discriminator, generator,len(d), z_dim, device) \n",
    "        n_batches+=1\n",
    "print(d_loss.item()/n_batches, g_loss.item()/n_batches)"
   ]
  },
  {
   "cell_type": "code",
   "execution_count": null,
   "id": "affected-retro",
   "metadata": {
    "slideshow": {
     "slide_type": "slide"
    }
   },
   "outputs": [],
   "source": [
    "d_optimizer = t.optim.Adam(discriminator.parameters(), lr=0.0002,betas=(0.5, 0.999))\n",
    "g_optimizer = t.optim.Adam(generator.parameters(), lr=0.0001, betas=(0.5, 0.999))"
   ]
  },
  {
   "cell_type": "code",
   "execution_count": null,
   "id": "employed-instruction",
   "metadata": {
    "slideshow": {
     "slide_type": "slide"
    }
   },
   "outputs": [],
   "source": [
    "import time\n",
    "start = time.time()\n",
    "\n",
    "cols = 8\n",
    "rows = 4 \n",
    "\n",
    "fixed_noise = t.empty(cols*rows,z_dim, device=device).uniform_(-1,1)\n",
    "\n",
    "k_discriminator = 2\n",
    "k_generator = 1\n",
    "\n",
    "\n",
    "n_epochs = 200\n",
    "plt.ioff()\n",
    "for epoch in range(1,n_epochs+1):\n",
    "    discriminator.train()\n",
    "    generator.train()\n",
    "    for d, in dataloader:\n",
    "        d_loss = dcgan.train_discriminator(discriminator, generator, d_optimizer, d, z_dim, k_discriminator, device)\n",
    "        g_loss = dcgan.train_generator(discriminator, generator, g_optimizer, len(d), z_dim, k_generator, device)        \n",
    "      \n",
    "    if epoch % 1 == 0:\n",
    "        clear_output(wait=True)\n",
    "        ellapsed, remaining = dcgan.estimate(start, n_epochs, epoch)\n",
    "        print('%5d %6.2f %6.2f %6.2fs %6.2fs\\n' % (epoch, d_loss.item(), g_loss.item(), ellapsed, remaining))\n",
    "       \n",
    "    if epoch % 5 == 0:\n",
    "        dcgan.gen_and_save(rows, cols, generator, fixed_noise, f\"img/dcgan_{epoch:03d}.png\")\n",
    "            "
   ]
  },
  {
   "cell_type": "code",
   "execution_count": null,
   "id": "computational-privilege",
   "metadata": {
    "slideshow": {
     "slide_type": "skip"
    }
   },
   "outputs": [],
   "source": [
    "#save the generator\n",
    "t.save(generator.state_dict(),\"gan.pt\")"
   ]
  },
  {
   "cell_type": "code",
   "execution_count": null,
   "id": "detailed-psychology",
   "metadata": {},
   "outputs": [],
   "source": [
    "dcgan.gen_and_save(rows, cols, generator, fixed_noise)"
   ]
  },
  {
   "cell_type": "code",
   "execution_count": null,
   "id": "revised-spoke",
   "metadata": {
    "slideshow": {
     "slide_type": "slide"
    }
   },
   "outputs": [],
   "source": [
    "#Display original data\n",
    "cols = 8\n",
    "rows = 4 \n",
    "fig, ax = plt.subplots(rows, cols, figsize=(1.5*cols,1.5*rows))\n",
    "for i, j in itertools.product(range(rows), range(cols) ):\n",
    "    ax[i,j].get_xaxis().set_visible(False)\n",
    "    ax[i,j].get_yaxis().set_visible(False)\n",
    "for i, j in itertools.product(range(rows), range(cols)):  \n",
    "    ax[i,j].imshow(mnist_data[np.random.randint(0,len(mnist_data))], cmap='Greys')    "
   ]
  },
  {
   "cell_type": "markdown",
   "id": "tracked-helmet",
   "metadata": {
    "slideshow": {
     "slide_type": "skip"
    }
   },
   "source": [
    "A demonstration of how to load generator.  "
   ]
  },
  {
   "cell_type": "code",
   "execution_count": null,
   "id": "processed-venezuela",
   "metadata": {
    "slideshow": {
     "slide_type": "skip"
    }
   },
   "outputs": [],
   "source": [
    "generator_loaded = dcgan.Generator(z_dim)"
   ]
  },
  {
   "cell_type": "code",
   "execution_count": null,
   "id": "casual-diversity",
   "metadata": {
    "slideshow": {
     "slide_type": "skip"
    }
   },
   "outputs": [],
   "source": [
    "generator_loaded.load_state_dict(t.load('gan.pt'))\n",
    "generator_loaded.eval()"
   ]
  },
  {
   "cell_type": "code",
   "execution_count": null,
   "id": "ordinary-shopper",
   "metadata": {
    "slideshow": {
     "slide_type": "skip"
    }
   },
   "outputs": [],
   "source": [
    "generator_loaded= generator_loaded.to(device)"
   ]
  },
  {
   "cell_type": "code",
   "execution_count": null,
   "id": "median-pointer",
   "metadata": {
    "slideshow": {
     "slide_type": "skip"
    }
   },
   "outputs": [],
   "source": [
    "in_t = t.empty(1,z_dim, device=device).uniform_(-1,1)\n",
    "out_t = generator_loaded(in_t);\n",
    "plt.imshow(out_t.cpu().data.numpy().reshape(28,28), cmap='Greys');"
   ]
  },
  {
   "cell_type": "code",
   "execution_count": null,
   "id": "continent-identification",
   "metadata": {},
   "outputs": [],
   "source": []
  }
 ],
 "metadata": {
  "kernelspec": {
   "display_name": "Python 3",
   "language": "python",
   "name": "python3"
  }
 },
 "nbformat": 4,
 "nbformat_minor": 5
}
