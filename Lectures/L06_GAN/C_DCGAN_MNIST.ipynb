{
 "cells": [
  {
   "cell_type": "markdown",
   "id": "imported-tennis",
   "metadata": {},
   "source": [
    "# Conditional GANs"
   ]
  },
  {
   "cell_type": "markdown",
   "id": "proud-replication",
   "metadata": {},
   "source": [
    "<div>\n",
    "   <span style=\"font-size: large;\"> \"GANS in Action\"</span>, Jakub Langr, Vladimir Bok, Manning Publications 2019.  \n",
    "</div>"
   ]
  },
  {
   "cell_type": "code",
   "execution_count": null,
   "id": "specialized-necklace",
   "metadata": {},
   "outputs": [],
   "source": [
    "%load_ext autoreload"
   ]
  },
  {
   "cell_type": "code",
   "execution_count": null,
   "id": "apart-magic",
   "metadata": {},
   "outputs": [],
   "source": [
    "%autoreload 2"
   ]
  },
  {
   "cell_type": "code",
   "execution_count": null,
   "id": "parental-information",
   "metadata": {
    "slideshow": {
     "slide_type": "skip"
    }
   },
   "outputs": [],
   "source": [
    "import itertools\n",
    "from IPython.display import clear_output, display"
   ]
  },
  {
   "cell_type": "code",
   "execution_count": null,
   "id": "thermal-feedback",
   "metadata": {
    "slideshow": {
     "slide_type": "skip"
    }
   },
   "outputs": [],
   "source": [
    "import numpy as np\n",
    "import matplotlib.pyplot as plt"
   ]
  },
  {
   "cell_type": "code",
   "execution_count": null,
   "id": "classified-maintenance",
   "metadata": {
    "slideshow": {
     "slide_type": "skip"
    }
   },
   "outputs": [],
   "source": [
    "%matplotlib inline"
   ]
  },
  {
   "cell_type": "code",
   "execution_count": null,
   "id": "italic-fantasy",
   "metadata": {
    "slideshow": {
     "slide_type": "skip"
    }
   },
   "outputs": [],
   "source": [
    "import torch as t\n",
    "import torch.nn as tnn\n",
    "import torch.nn.functional as F\n",
    "\n",
    "import torchvision"
   ]
  },
  {
   "cell_type": "code",
   "execution_count": null,
   "id": "growing-arrangement",
   "metadata": {},
   "outputs": [],
   "source": [
    "import sys\n",
    "sys.path.append(\"../../src\")"
   ]
  },
  {
   "cell_type": "code",
   "execution_count": null,
   "id": "polar-affect",
   "metadata": {},
   "outputs": [],
   "source": [
    "import GAN.C_DCGAN_MNIST as cgan\n",
    "import utils"
   ]
  },
  {
   "cell_type": "code",
   "execution_count": null,
   "id": "little-cooperation",
   "metadata": {
    "slideshow": {
     "slide_type": "skip"
    }
   },
   "outputs": [],
   "source": [
    "if t.cuda.is_available():\n",
    "    if t.cuda.device_count()>1:\n",
    "        device = t.device('cuda:1')\n",
    "    else:\n",
    "        device = t.device('cuda')   \n",
    "else:\n",
    "    device = t.device('cpu')"
   ]
  },
  {
   "cell_type": "code",
   "execution_count": null,
   "id": "acoustic-collectible",
   "metadata": {},
   "outputs": [],
   "source": [
    "t.cuda.is_available()"
   ]
  },
  {
   "cell_type": "code",
   "execution_count": null,
   "id": "anonymous-parks",
   "metadata": {},
   "outputs": [],
   "source": [
    "print(device)"
   ]
  },
  {
   "cell_type": "markdown",
   "id": "handy-decade",
   "metadata": {
    "slideshow": {
     "slide_type": "slide"
    }
   },
   "source": [
    "## MNIST "
   ]
  },
  {
   "cell_type": "code",
   "execution_count": null,
   "id": "paperback-century",
   "metadata": {},
   "outputs": [],
   "source": [
    "dl_train = t.utils.data.DataLoader(\n",
    "    torchvision.datasets.MNIST('./data/mnist', train=True, download=True))\n",
    "\n",
    "dl_test  = t.utils.data.DataLoader(\n",
    "    torchvision.datasets.MNIST('./data/mnist', train=False, download=True))"
   ]
  },
  {
   "cell_type": "code",
   "execution_count": null,
   "id": "tracked-croatia",
   "metadata": {
    "slideshow": {
     "slide_type": "skip"
    }
   },
   "outputs": [],
   "source": [
    "mnist_train_data   = dl_train.dataset.data.to(dtype=t.float32)\n",
    "mnist_train_labels = dl_train.dataset.targets"
   ]
  },
  {
   "cell_type": "code",
   "execution_count": null,
   "id": "sweet-bracelet",
   "metadata": {
    "slideshow": {
     "slide_type": "skip"
    }
   },
   "outputs": [],
   "source": [
    "mnist_test_data   = dl_test.dataset.data.to(dtype=t.float32)\n",
    "mnist_test_labels = dl_test.dataset.targets"
   ]
  },
  {
   "cell_type": "code",
   "execution_count": null,
   "id": "extreme-screw",
   "metadata": {
    "slideshow": {
     "slide_type": "skip"
    }
   },
   "outputs": [],
   "source": [
    "mnist_data = np.concatenate((mnist_train_data, mnist_test_data))\n",
    "mnist_labels = np.concatenate((mnist_train_labels, mnist_test_labels))"
   ]
  },
  {
   "cell_type": "code",
   "execution_count": null,
   "id": "solar-recommendation",
   "metadata": {
    "slideshow": {
     "slide_type": "slide"
    }
   },
   "outputs": [],
   "source": [
    "index=49\n",
    "plt.imshow(mnist_data[index], cmap='Greys')\n",
    "plt.text(22,3,'%d' % (mnist_labels[index],), fontsize=32);"
   ]
  },
  {
   "cell_type": "code",
   "execution_count": null,
   "id": "egyptian-consumer",
   "metadata": {},
   "outputs": [],
   "source": [
    "n_data = 50000"
   ]
  },
  {
   "cell_type": "code",
   "execution_count": null,
   "id": "present-inquiry",
   "metadata": {
    "slideshow": {
     "slide_type": "slide"
    }
   },
   "outputs": [],
   "source": [
    "mnist_data_rescaled = 2.0*mnist_data.astype('float32')/255.0 - 1.0\n",
    "mnist_data_t = t.from_numpy(mnist_data_rescaled[0:n_data]).reshape(-1,1,28,28)"
   ]
  },
  {
   "cell_type": "code",
   "execution_count": null,
   "id": "spanish-telescope",
   "metadata": {},
   "outputs": [],
   "source": [
    "mnist_labels_t = t.from_numpy(mnist_labels[0:n_data] )\n",
    "\n",
    "mnist_one_hot_labels_t = t.zeros(len(mnist_labels_t),10)\n",
    "mnist_one_hot_labels_t.scatter_(1,mnist_labels_t.reshape(-1,1),1);"
   ]
  },
  {
   "cell_type": "code",
   "execution_count": null,
   "id": "international-allah",
   "metadata": {},
   "outputs": [],
   "source": [
    "mnist_data_t = mnist_data_t.to(device)\n",
    "mnist_one_hot_labels_t = mnist_one_hot_labels_t.to(device)"
   ]
  },
  {
   "cell_type": "markdown",
   "id": "focal-surprise",
   "metadata": {
    "slideshow": {
     "slide_type": "skip"
    }
   },
   "source": [
    "I am taking the whole data set. But if you run on the CPU you can consider using a smaller portion e.g \n",
    "```\n",
    "mnist_data_t = t.from_numpy(mnist_data_flatened[0:20000])\n",
    "```"
   ]
  },
  {
   "cell_type": "markdown",
   "id": "confidential-horror",
   "metadata": {
    "slideshow": {
     "slide_type": "slide"
    }
   },
   "source": [
    "## Models"
   ]
  },
  {
   "cell_type": "markdown",
   "id": "individual-michigan",
   "metadata": {
    "slideshow": {
     "slide_type": "slide"
    }
   },
   "source": [
    "### Discriminator"
   ]
  },
  {
   "cell_type": "markdown",
   "id": "utility-trinity",
   "metadata": {},
   "source": [
    "<img src=\"GANs_in_Action/discriminator.jpg\" style=\"margin: auto;padding: 25px;\">"
   ]
  },
  {
   "cell_type": "markdown",
   "id": "fiscal-indication",
   "metadata": {},
   "source": [
    "<img src=\"GANs_in_Action/discriminator_embedding.jpg\" style=\"margin: auto; padding:25px;\">"
   ]
  },
  {
   "cell_type": "code",
   "execution_count": null,
   "id": "acknowledged-blend",
   "metadata": {},
   "outputs": [],
   "source": [
    "discriminator = cgan.Discriminator()\n",
    "discriminator.to(device)"
   ]
  },
  {
   "cell_type": "code",
   "execution_count": null,
   "id": "moved-mailing",
   "metadata": {},
   "outputs": [],
   "source": [
    "mnist_data_t[0:1].shape"
   ]
  },
  {
   "cell_type": "code",
   "execution_count": null,
   "id": "harmful-information",
   "metadata": {},
   "outputs": [],
   "source": [
    "o = discriminator(mnist_data_t[0:1], mnist_one_hot_labels_t[0:1])\n",
    "o.shape"
   ]
  },
  {
   "cell_type": "markdown",
   "id": "opposite-neighborhood",
   "metadata": {
    "slideshow": {
     "slide_type": "slide"
    }
   },
   "source": [
    "### Generator"
   ]
  },
  {
   "cell_type": "markdown",
   "id": "golden-reproduction",
   "metadata": {},
   "source": [
    "<img src=\"GANs_in_Action/generator.jpg\" style=\"margin: auto; padding: 25px;\">"
   ]
  },
  {
   "cell_type": "markdown",
   "id": "alien-dining",
   "metadata": {},
   "source": [
    "<img src=\"GANs_in_Action/generator_embedding.jpg\" style=\"margin: auto; padding: 25px;\">"
   ]
  },
  {
   "cell_type": "code",
   "execution_count": null,
   "id": "owned-fraud",
   "metadata": {},
   "outputs": [],
   "source": [
    "z_dim=100"
   ]
  },
  {
   "cell_type": "code",
   "execution_count": null,
   "id": "ready-philippines",
   "metadata": {},
   "outputs": [],
   "source": [
    "generator = cgan.Generator(z_dim)\n",
    "generator.to(device)"
   ]
  },
  {
   "cell_type": "code",
   "execution_count": null,
   "id": "acting-completion",
   "metadata": {},
   "outputs": [],
   "source": [
    "g = generator(t.rand((2,z_dim), device=device), mnist_one_hot_labels_t[0:2] )"
   ]
  },
  {
   "cell_type": "code",
   "execution_count": null,
   "id": "downtown-albania",
   "metadata": {},
   "outputs": [],
   "source": [
    "g.shape"
   ]
  },
  {
   "cell_type": "markdown",
   "id": "religious-backup",
   "metadata": {
    "slideshow": {
     "slide_type": "skip"
    }
   },
   "source": [
    "Move data and models to the device (CUDA). "
   ]
  },
  {
   "cell_type": "code",
   "execution_count": null,
   "id": "surgical-confirmation",
   "metadata": {
    "slideshow": {
     "slide_type": "slide"
    }
   },
   "outputs": [],
   "source": [
    "with t.no_grad():\n",
    "    generator.eval()\n",
    "    in_t = t.empty(1,z_dim, device=device).uniform_(-1,1)\n",
    "    out_t = generator(in_t, mnist_one_hot_labels_t[0:1]);\n",
    "    plt.imshow(out_t.data.cpu().numpy().squeeze(), cmap='Greys')"
   ]
  },
  {
   "cell_type": "markdown",
   "id": "textile-wesley",
   "metadata": {
    "slideshow": {
     "slide_type": "slide"
    }
   },
   "source": [
    "Binary Cross Entropy loss with labels $l_i$ is defined as:\n",
    "$$bce(\\{ p_i \\},\\{ l_ i\\}) = \\frac{1}{n}\\sum_{i=0}^{n-1} \\left(l_i \\log p_i + (1-l_i) \\log(1-p_i)\\right)  $$"
   ]
  },
  {
   "cell_type": "code",
   "execution_count": null,
   "id": "minimal-license",
   "metadata": {},
   "outputs": [],
   "source": [
    "bce = t.nn.BCELoss()"
   ]
  },
  {
   "cell_type": "code",
   "execution_count": null,
   "id": "vertical-string",
   "metadata": {},
   "outputs": [],
   "source": [
    "t.cuda.empty_cache()"
   ]
  },
  {
   "cell_type": "code",
   "execution_count": null,
   "id": "yellow-publication",
   "metadata": {},
   "outputs": [],
   "source": [
    "mnist_data_t.shape"
   ]
  },
  {
   "cell_type": "code",
   "execution_count": null,
   "id": "legal-tissue",
   "metadata": {},
   "outputs": [],
   "source": [
    "mnist_one_hot_labels_t.shape"
   ]
  },
  {
   "cell_type": "code",
   "execution_count": null,
   "id": "theoretical-granny",
   "metadata": {},
   "outputs": [],
   "source": [
    "plt.imshow(mnist_data_t[0].cpu().numpy().squeeze() )"
   ]
  },
  {
   "cell_type": "code",
   "execution_count": null,
   "id": "environmental-burden",
   "metadata": {},
   "outputs": [],
   "source": [
    "mnist_one_hot_labels_t[0]"
   ]
  },
  {
   "cell_type": "code",
   "execution_count": null,
   "id": "incredible-zambia",
   "metadata": {},
   "outputs": [],
   "source": [
    "dataset = t.utils.data.TensorDataset( mnist_data_t, mnist_one_hot_labels_t)"
   ]
  },
  {
   "cell_type": "code",
   "execution_count": null,
   "id": "pending-disability",
   "metadata": {},
   "outputs": [],
   "source": [
    "if device.type == 'cpu':\n",
    "    mini_batch_size=64\n",
    "else:\n",
    "    mini_batch_size=2048\n",
    "dataloader = t.utils.data.DataLoader(dataset, batch_size=mini_batch_size, shuffle=True)"
   ]
  },
  {
   "cell_type": "code",
   "execution_count": null,
   "id": "animal-accordance",
   "metadata": {
    "slideshow": {
     "slide_type": "slide"
    }
   },
   "outputs": [],
   "source": [
    "with t.no_grad():\n",
    "    discriminator.eval()\n",
    "    generator.eval()\n",
    "    d_loss = 0\n",
    "    g_loss = 0\n",
    "    n_batches = 0\n",
    "    for d,lbl in dataloader:\n",
    "        d_loss+= cgan.discriminator_loss(discriminator, generator,  d, lbl, z_dim, device)\n",
    "        g_loss+= cgan.generator_loss( discriminator, generator,len(d), lbl, z_dim, device) \n",
    "        n_batches+=1\n",
    "print(d_loss.item()/n_batches, g_loss.item()/n_batches)"
   ]
  },
  {
   "cell_type": "code",
   "execution_count": null,
   "id": "functional-samoa",
   "metadata": {
    "slideshow": {
     "slide_type": "slide"
    }
   },
   "outputs": [],
   "source": [
    "d_optimizer = t.optim.Adam(discriminator.parameters(), lr=0.0002,betas=(0.5, 0.999))\n",
    "g_optimizer = t.optim.Adam(generator.parameters(), lr=0.0001, betas=(0.5, 0.999))"
   ]
  },
  {
   "cell_type": "code",
   "execution_count": null,
   "id": "homeless-consciousness",
   "metadata": {},
   "outputs": [],
   "source": [
    "np.arange(10)"
   ]
  },
  {
   "cell_type": "code",
   "execution_count": null,
   "id": "coated-falls",
   "metadata": {
    "slideshow": {
     "slide_type": "slide"
    }
   },
   "outputs": [],
   "source": [
    "import time\n",
    "start = time.time()\n",
    "\n",
    "cols = 5\n",
    "rows = 2 \n",
    "\n",
    "fixed_noise = t.empty(cols*rows,z_dim, device=device).uniform_(-1,1)\n",
    "digits = t.zeros((10,10))\n",
    "digits.scatter_(1,t.arange(10).reshape(-1,1),1)\n",
    "digits = digits.to(device)\n",
    "\n",
    "k_discriminator = 2\n",
    "k_generator = 1\n",
    "\n",
    "\n",
    "n_epochs = 200\n",
    "plt.ioff()\n",
    "for epoch in range(1,n_epochs+1):\n",
    "    discriminator.train()\n",
    "    generator.train()\n",
    "    for d,lbl in dataloader:\n",
    "        d_loss = cgan.train_discriminator(discriminator, generator, d_optimizer, d, lbl, z_dim, k_discriminator, device)\n",
    "        g_loss = cgan.train_generator(discriminator, generator, g_optimizer, len(d), lbl, z_dim, k_generator, device)        \n",
    "      \n",
    "    if epoch % 1 == 0:\n",
    "        clear_output(wait=True)\n",
    "        ellapsed, remaining = utils.estimate(start, n_epochs, epoch)\n",
    "        print('%5d %6.2f %6.2f %6.2fs %6.2fs\\n' % (epoch, d_loss.item(), g_loss.item(), ellapsed, remaining))\n",
    "       \n",
    "    if epoch % 5 == 0:\n",
    "        cgan.gen_and_save(rows, cols, generator, fixed_noise, digits, f\"img/img_{epoch:03d}.png\")\n",
    "            "
   ]
  },
  {
   "cell_type": "code",
   "execution_count": null,
   "id": "final-region",
   "metadata": {},
   "outputs": [],
   "source": [
    "imgs = generator(fixed_noise, digits)"
   ]
  },
  {
   "cell_type": "code",
   "execution_count": null,
   "id": "settled-norfolk",
   "metadata": {},
   "outputs": [],
   "source": [
    "cgan.gen_and_save(rows, cols, generator, fixed_noise, digits, \"a.png\")"
   ]
  },
  {
   "cell_type": "code",
   "execution_count": null,
   "id": "royal-feeling",
   "metadata": {
    "slideshow": {
     "slide_type": "skip"
    }
   },
   "outputs": [],
   "source": [
    "#save the generator\n",
    "t.save(generator.state_dict(),\"gan.pt\")"
   ]
  },
  {
   "cell_type": "code",
   "execution_count": null,
   "id": "equipped-bradford",
   "metadata": {},
   "outputs": [],
   "source": [
    "cgan.gen_and_save(rows, cols, generator, fixed_noise, digits)"
   ]
  },
  {
   "cell_type": "code",
   "execution_count": null,
   "id": "delayed-spider",
   "metadata": {
    "slideshow": {
     "slide_type": "slide"
    }
   },
   "outputs": [],
   "source": [
    "#Display original data\n",
    "cols = 8\n",
    "rows = 4 \n",
    "fig, ax = plt.subplots(rows, cols, figsize=(1.5*cols,1.5*rows))\n",
    "for i, j in itertools.product(range(rows), range(cols) ):\n",
    "    ax[i,j].get_xaxis().set_visible(False)\n",
    "    ax[i,j].get_yaxis().set_visible(False)\n",
    "for i, j in itertools.product(range(rows), range(cols)):  \n",
    "    ax[i,j].imshow(mnist_data[np.random.randint(0,len(mnist_data))], cmap='Greys')    "
   ]
  },
  {
   "cell_type": "markdown",
   "id": "enclosed-motel",
   "metadata": {
    "slideshow": {
     "slide_type": "skip"
    }
   },
   "source": [
    "A demonstration of how to load generator.  "
   ]
  },
  {
   "cell_type": "code",
   "execution_count": null,
   "id": "responsible-latter",
   "metadata": {
    "slideshow": {
     "slide_type": "skip"
    }
   },
   "outputs": [],
   "source": [
    "generator_loaded = cgan.Generator(z_dim)"
   ]
  },
  {
   "cell_type": "code",
   "execution_count": null,
   "id": "individual-habitat",
   "metadata": {
    "slideshow": {
     "slide_type": "skip"
    }
   },
   "outputs": [],
   "source": [
    "generator_loaded.load_state_dict(t.load('gan.pt'))\n",
    "generator_loaded.eval()"
   ]
  },
  {
   "cell_type": "code",
   "execution_count": null,
   "id": "enabling-stand",
   "metadata": {
    "slideshow": {
     "slide_type": "skip"
    }
   },
   "outputs": [],
   "source": [
    "generator_loaded= generator_loaded.to(device)"
   ]
  },
  {
   "cell_type": "code",
   "execution_count": null,
   "id": "brief-prophet",
   "metadata": {
    "slideshow": {
     "slide_type": "skip"
    }
   },
   "outputs": [],
   "source": [
    "d100 = t.stack([digits for i in range(10)],1).reshape(-1,10)"
   ]
  },
  {
   "cell_type": "code",
   "execution_count": null,
   "id": "optical-virus",
   "metadata": {},
   "outputs": [],
   "source": [
    "fake_imgs = generator_loaded(2*t.rand(100,100, device=device)-1, d100)"
   ]
  },
  {
   "cell_type": "code",
   "execution_count": null,
   "id": "static-genome",
   "metadata": {},
   "outputs": [],
   "source": [
    "utils.display_img_grid(10,10,fake_imgs.cpu().data.numpy().reshape(-1,28,28))"
   ]
  },
  {
   "cell_type": "code",
   "execution_count": null,
   "id": "graphic-replacement",
   "metadata": {},
   "outputs": [],
   "source": [
    "real_imgs = mnist_data[np.concatenate([np.random.choice(np.where(mnist_labels==i)[0], 10) for i in range(10)])]/255.0"
   ]
  },
  {
   "cell_type": "code",
   "execution_count": null,
   "id": "compressed-pharmaceutical",
   "metadata": {},
   "outputs": [],
   "source": [
    "utils.display_img_grid(10,10,real_imgs)"
   ]
  },
  {
   "cell_type": "markdown",
   "id": "greater-signal",
   "metadata": {},
   "source": [
    "## Emebedding"
   ]
  },
  {
   "cell_type": "code",
   "execution_count": null,
   "id": "contemporary-migration",
   "metadata": {},
   "outputs": [],
   "source": [
    "class Embedding(tnn.Module):\n",
    "    def __init__(self, in_features, out_features, s=0.01):\n",
    "        super(Embedding, self).__init__()\n",
    "        self.in_features = in_features\n",
    "        self.out_features = out_features\n",
    "        self.weights = tnn.Parameter(t.empty(in_features, out_features).uniform_(-s, s))\n",
    "        self.register_parameter(\"weights\", self.weights)\n",
    "\n",
    "    def forward(self,x):\n",
    "        return self.weights[x]"
   ]
  },
  {
   "cell_type": "code",
   "execution_count": null,
   "id": "reserved-barrel",
   "metadata": {},
   "outputs": [],
   "source": [
    "embedding = Embedding(10,20)"
   ]
  },
  {
   "cell_type": "code",
   "execution_count": null,
   "id": "killing-department",
   "metadata": {},
   "outputs": [],
   "source": [
    "embedding(t.LongTensor([0,3,0])).shape"
   ]
  },
  {
   "cell_type": "code",
   "execution_count": null,
   "id": "insured-footwear",
   "metadata": {},
   "outputs": [],
   "source": []
  }
 ],
 "metadata": {
  "kernelspec": {
   "display_name": "Python 3",
   "language": "python",
   "name": "python3"
  }
 },
 "nbformat": 4,
 "nbformat_minor": 5
}
