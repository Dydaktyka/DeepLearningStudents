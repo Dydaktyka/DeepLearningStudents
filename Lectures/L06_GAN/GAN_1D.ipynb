{
 "cells": [
  {
   "cell_type": "code",
   "execution_count": null,
   "id": "gross-camel",
   "metadata": {
    "slideshow": {
     "slide_type": "skip"
    }
   },
   "outputs": [],
   "source": [
    "import numpy as np\n",
    "import scipy\n",
    "import scipy.stats\n",
    "import torch as t\n",
    "import matplotlib.pyplot as plt"
   ]
  },
  {
   "cell_type": "code",
   "execution_count": null,
   "id": "printable-accused",
   "metadata": {
    "slideshow": {
     "slide_type": "skip"
    }
   },
   "outputs": [],
   "source": [
    "from torch.nn import Sequential, Linear, ReLU, LeakyReLU, Dropout, Sigmoid"
   ]
  },
  {
   "cell_type": "code",
   "execution_count": null,
   "id": "designing-layout",
   "metadata": {
    "slideshow": {
     "slide_type": "skip"
    }
   },
   "outputs": [],
   "source": [
    "%matplotlib inline"
   ]
  },
  {
   "cell_type": "code",
   "execution_count": null,
   "id": "light-anger",
   "metadata": {
    "slideshow": {
     "slide_type": "skip"
    }
   },
   "outputs": [],
   "source": [
    "if t.cuda.is_available():\n",
    "    if t.cuda.device_count()>1:\n",
    "        device = t.device('cuda:1')\n",
    "    else:\n",
    "        device = t.device('cuda')   \n",
    "else:\n",
    "    device = t.device('cpu')"
   ]
  },
  {
   "cell_type": "code",
   "execution_count": null,
   "id": "primary-height",
   "metadata": {
    "slideshow": {
     "slide_type": "slide"
    }
   },
   "outputs": [],
   "source": [
    "d1_dist = scipy.stats.norm(loc=3,scale=2)\n",
    "d2_dist = scipy.stats.norm(loc=0,  scale=0.5)"
   ]
  },
  {
   "cell_type": "code",
   "execution_count": null,
   "id": "identified-option",
   "metadata": {},
   "outputs": [],
   "source": [
    "d1 = d1_dist.rvs(size=50000).astype('float32')\n",
    "d2 = d2_dist.rvs(25000).astype('float32')"
   ]
  },
  {
   "cell_type": "code",
   "execution_count": null,
   "id": "studied-privilege",
   "metadata": {},
   "outputs": [],
   "source": [
    "def p_data(x):\n",
    "    return 2/3*d1_dist.pdf(x)+1/3*d2_dist.pdf(x)"
   ]
  },
  {
   "cell_type": "code",
   "execution_count": null,
   "id": "national-jerusalem",
   "metadata": {
    "slideshow": {
     "slide_type": "slide"
    }
   },
   "outputs": [],
   "source": [
    "data =np.concatenate((d1,d2)) \n",
    "np.random.shuffle(data)\n",
    "data_t = t.from_numpy(data).view(-1,1)"
   ]
  },
  {
   "cell_type": "code",
   "execution_count": null,
   "id": "sensitive-avenue",
   "metadata": {
    "slideshow": {
     "slide_type": "skip"
    }
   },
   "outputs": [],
   "source": [
    "data_t"
   ]
  },
  {
   "cell_type": "code",
   "execution_count": null,
   "id": "dressed-brother",
   "metadata": {
    "slideshow": {
     "slide_type": "skip"
    }
   },
   "outputs": [],
   "source": [
    "ys = np.linspace(-5,10,100).astype('float32')"
   ]
  },
  {
   "cell_type": "code",
   "execution_count": null,
   "id": "twenty-restaurant",
   "metadata": {
    "slideshow": {
     "slide_type": "slide"
    }
   },
   "outputs": [],
   "source": [
    "plt.hist(data, bins=100, density=True);\n",
    "plt.plot(ys, p_data(ys))"
   ]
  },
  {
   "cell_type": "code",
   "execution_count": null,
   "id": "prompt-insider",
   "metadata": {
    "slideshow": {
     "slide_type": "skip"
    }
   },
   "outputs": [],
   "source": [
    "noise_dist=scipy.stats.uniform(loc=0, scale=1)"
   ]
  },
  {
   "cell_type": "markdown",
   "id": "fourth-complex",
   "metadata": {
    "slideshow": {
     "slide_type": "slide"
    }
   },
   "source": [
    "## Inverse cumulant"
   ]
  },
  {
   "cell_type": "code",
   "execution_count": null,
   "id": "novel-exhibit",
   "metadata": {
    "slideshow": {
     "slide_type": "-"
    }
   },
   "outputs": [],
   "source": [
    "us = np.linspace(0,1,100).astype('float32')\n",
    "us_t = t.from_numpy(us).view(-1,1)"
   ]
  },
  {
   "cell_type": "code",
   "execution_count": null,
   "id": "consistent-attraction",
   "metadata": {},
   "outputs": [],
   "source": [
    "def f_generator(u):\n",
    "    return t.log(u/(1-u))"
   ]
  },
  {
   "cell_type": "markdown",
   "id": "looking-sympathy",
   "metadata": {
    "slideshow": {
     "slide_type": "slide"
    }
   },
   "source": [
    "$$ Y = \\log\\left(\\frac{u}{1-u}\\right)$$"
   ]
  },
  {
   "cell_type": "markdown",
   "id": "better-league",
   "metadata": {},
   "source": [
    "$$CDF_{Y}(x)=P(Y<y)$$ "
   ]
  },
  {
   "cell_type": "markdown",
   "id": "determined-floor",
   "metadata": {},
   "source": [
    "$$P(\\log\\left(\\frac{u}{1-u}\\right)<y)$$ "
   ]
  },
  {
   "cell_type": "markdown",
   "id": "quick-sherman",
   "metadata": {},
   "source": [
    "$$P\\left(\\frac{u}{1-u}<e^y\\right)$$ "
   ]
  },
  {
   "cell_type": "markdown",
   "id": "smoking-comfort",
   "metadata": {},
   "source": [
    "$$P\\left(u<e^y-u e^y\\right)$$ "
   ]
  },
  {
   "cell_type": "markdown",
   "id": "norman-conservation",
   "metadata": {
    "slideshow": {
     "slide_type": "slide"
    }
   },
   "source": [
    "$$P\\left(u(1+ e^y)<e^y\\right)$$ "
   ]
  },
  {
   "cell_type": "markdown",
   "id": "sufficient-trailer",
   "metadata": {
    "slideshow": {
     "slide_type": "-"
    }
   },
   "source": [
    "$$P\\left(u<\\frac{e^y}{1+ e^y}\\right)=\\frac{e^y}{1+ e^y}=\\frac{1}{1+ e^{-y}} $$ "
   ]
  },
  {
   "cell_type": "markdown",
   "id": "suited-strain",
   "metadata": {},
   "source": [
    "$$PDF_Y(x) = \\frac{\\partial}{\\partial y}\\frac{1}{1+ e^{-y}}=\\frac{e^{-y}}{(1+e^{-y})^2}$$"
   ]
  },
  {
   "cell_type": "code",
   "execution_count": null,
   "id": "mental-meaning",
   "metadata": {
    "slideshow": {
     "slide_type": "slide"
    }
   },
   "outputs": [],
   "source": [
    "def p_gen(y):\n",
    "    e = np.exp(-y)\n",
    "    return e/((1+e)*(1+e))"
   ]
  },
  {
   "cell_type": "code",
   "execution_count": null,
   "id": "robust-header",
   "metadata": {},
   "outputs": [],
   "source": [
    "p_ys = p_gen(ys).reshape(-1,1)"
   ]
  },
  {
   "cell_type": "code",
   "execution_count": null,
   "id": "narrow-semester",
   "metadata": {},
   "outputs": [],
   "source": [
    "gen = f_generator(t.FloatTensor(10000,1).uniform_(0,1))"
   ]
  },
  {
   "cell_type": "code",
   "execution_count": null,
   "id": "according-access",
   "metadata": {},
   "outputs": [],
   "source": [
    "plt.hist(gen.data.numpy().reshape(-1), bins=100, density=True);\n",
    "plt.plot(ys, p_ys);"
   ]
  },
  {
   "cell_type": "markdown",
   "id": "offshore-rebel",
   "metadata": {
    "slideshow": {
     "slide_type": "slide"
    }
   },
   "source": [
    "### Data"
   ]
  },
  {
   "cell_type": "code",
   "execution_count": null,
   "id": "allied-imaging",
   "metadata": {},
   "outputs": [],
   "source": [
    "n = 1000\n",
    "xs = np.linspace(-5,10,n+1)\n",
    "pdf_data = p_data(xs)\n",
    "cum_data = np.cumsum(pdf_data)*15/n\n",
    "cum_data[0]=0.0\n",
    "cum_data[-1]=1.0"
   ]
  },
  {
   "cell_type": "code",
   "execution_count": null,
   "id": "authorized-tongue",
   "metadata": {},
   "outputs": [],
   "source": [
    "plt.plot(cum_data,xs)"
   ]
  },
  {
   "cell_type": "code",
   "execution_count": null,
   "id": "british-rugby",
   "metadata": {
    "slideshow": {
     "slide_type": "slide"
    }
   },
   "outputs": [],
   "source": [
    "from scipy.interpolate import interp1d"
   ]
  },
  {
   "cell_type": "code",
   "execution_count": null,
   "id": "spatial-insider",
   "metadata": {},
   "outputs": [],
   "source": [
    "inv_cum_data = interp1d(cum_data, xs,3)"
   ]
  },
  {
   "cell_type": "code",
   "execution_count": null,
   "id": "understanding-classroom",
   "metadata": {},
   "outputs": [],
   "source": [
    "fake_data = inv_cum_data(np.random.uniform(0,1,100000))"
   ]
  },
  {
   "cell_type": "code",
   "execution_count": null,
   "id": "unlikely-redhead",
   "metadata": {},
   "outputs": [],
   "source": [
    "plt.hist(fake_data, bins=100, density=True);\n",
    "plt.plot(xs, p_data(xs));"
   ]
  },
  {
   "cell_type": "markdown",
   "id": "automatic-monitor",
   "metadata": {},
   "source": [
    "## Generative Adversarial Network"
   ]
  },
  {
   "cell_type": "code",
   "execution_count": null,
   "id": "involved-trauma",
   "metadata": {},
   "outputs": [],
   "source": [
    "def makeNet(n_layers, n_neurons_in_last_layer):\n",
    "    n = n_layers-1\n",
    "    n_neurons_in_first_layer = n_neurons_in_last_layer*(2**(n-1))\n",
    "    modules=[]\n",
    "    modules.append(Linear(in_features=1, out_features=n_neurons_in_first_layer))\n",
    "    modules.append(LeakyReLU())\n",
    "    for i in range(n-1):\n",
    "        modules.append(Linear(in_features=n_neurons_in_first_layer, out_features=n_neurons_in_first_layer//2))\n",
    "        modules.append(LeakyReLU())\n",
    "        n_neurons_in_first_layer//=2\n",
    "    modules.append(Linear(in_features=n_neurons_in_last_layer, out_features=1))\n",
    "   \n",
    "    return Sequential(*modules)"
   ]
  },
  {
   "cell_type": "code",
   "execution_count": null,
   "id": "small-hormone",
   "metadata": {},
   "outputs": [],
   "source": [
    "discriminator = Sequential(Linear(1,512), LeakyReLU(0.2, inplace=True),\n",
    "                           Linear(512,32), LeakyReLU(0.2, inplace=True),\n",
    "                           Linear(32,1),  Sigmoid()\n",
    "                                     )"
   ]
  },
  {
   "cell_type": "code",
   "execution_count": null,
   "id": "racial-disabled",
   "metadata": {},
   "outputs": [],
   "source": [
    "discriminator=discriminator.to(device)\n",
    "data_t = data_t.to(device)"
   ]
  },
  {
   "cell_type": "code",
   "execution_count": null,
   "id": "breeding-preview",
   "metadata": {},
   "outputs": [],
   "source": [
    "d_optimizer = t.optim.Adam(discriminator.parameters(), lr=0.0002)"
   ]
  },
  {
   "cell_type": "code",
   "execution_count": null,
   "id": "numerical-barrel",
   "metadata": {},
   "outputs": [],
   "source": [
    "bce = t.nn.BCELoss()"
   ]
  },
  {
   "cell_type": "code",
   "execution_count": null,
   "id": "optical-constitution",
   "metadata": {},
   "outputs": [],
   "source": [
    "d_out = discriminator(t.from_numpy(ys).view(-1,1).to(device))"
   ]
  },
  {
   "cell_type": "code",
   "execution_count": null,
   "id": "extended-forth",
   "metadata": {},
   "outputs": [],
   "source": [
    "plt.plot(ys,d_out.data.cpu().numpy().reshape(-1),c='r');\n",
    "plt.plot(ys, p_data(ys)/(p_data(ys)+p_gen(ys)),c='b');"
   ]
  },
  {
   "cell_type": "code",
   "execution_count": null,
   "id": "central-shepherd",
   "metadata": {},
   "outputs": [],
   "source": [
    "generator = makeNet(5,32)"
   ]
  },
  {
   "cell_type": "code",
   "execution_count": null,
   "id": "enormous-picking",
   "metadata": {},
   "outputs": [],
   "source": [
    "print(generator)"
   ]
  },
  {
   "cell_type": "code",
   "execution_count": null,
   "id": "norman-lighter",
   "metadata": {},
   "outputs": [],
   "source": [
    "generator= generator.to(device)"
   ]
  },
  {
   "cell_type": "code",
   "execution_count": null,
   "id": "answering-appreciation",
   "metadata": {},
   "outputs": [],
   "source": [
    "out_t = generator(t.FloatTensor(us_t).to(device));"
   ]
  },
  {
   "cell_type": "code",
   "execution_count": null,
   "id": "paperback-transcription",
   "metadata": {},
   "outputs": [],
   "source": [
    "plt.plot(us, out_t.data.cpu().numpy().reshape(-1))"
   ]
  },
  {
   "cell_type": "code",
   "execution_count": null,
   "id": "aboriginal-debate",
   "metadata": {},
   "outputs": [],
   "source": [
    "g_optimizer = t.optim.Adam(generator.parameters(), lr=0.0002)"
   ]
  },
  {
   "cell_type": "code",
   "execution_count": null,
   "id": "incident-prevention",
   "metadata": {},
   "outputs": [],
   "source": [
    "gen = generator(t.empty(10000,1).uniform_(-1,1).to(device))"
   ]
  },
  {
   "cell_type": "code",
   "execution_count": null,
   "id": "editorial-replication",
   "metadata": {},
   "outputs": [],
   "source": [
    "plt.hist(gen.data.cpu().numpy().reshape(-1), bins=100, density=True);\n",
    "#plt.plot(ys, p_data(ys));"
   ]
  },
  {
   "cell_type": "code",
   "execution_count": null,
   "id": "integrated-tunnel",
   "metadata": {},
   "outputs": [],
   "source": [
    "-np.log(0.5)"
   ]
  },
  {
   "cell_type": "code",
   "execution_count": null,
   "id": "regulated-spread",
   "metadata": {},
   "outputs": [],
   "source": [
    "mini_batch_size = 2048\n",
    "k_discriminator = 4\n",
    "k_generator = 1\n",
    "for epoch in range(1,201):\n",
    "    for batch in range(len(data)//mini_batch_size):\n",
    "        for k_d in range(k_discriminator):\n",
    "            d_optimizer.zero_grad()\n",
    "            kr = np.random.randint(0,len(data)//mini_batch_size )\n",
    "          \n",
    "            d = data_t[kr*mini_batch_size:(kr+1)*mini_batch_size]\n",
    "            real_labels = t.ones(mini_batch_size, 1, device=device)\n",
    "            d_real_loss = bce(discriminator(d), 0.9*real_labels)\n",
    "      \n",
    "            z = t.empty(mini_batch_size,1, device=device).uniform_(-1,1)\n",
    "            g_out = generator(z)\n",
    "            fake_labels = t.zeros(mini_batch_size, 1, device=device)\n",
    "            d_fake_loss = bce(discriminator(g_out), fake_labels)\n",
    "            d_loss = d_real_loss + d_fake_loss\n",
    "            d_loss.backward()\n",
    "            d_optimizer.step()\n",
    "    \n",
    "        g_optimizer.zero_grad()\n",
    "        z = t.empty(mini_batch_size,1, device=device).uniform_(-1,1)\n",
    "        g_out = generator(z)\n",
    "        g_loss = bce(discriminator(g_out), real_labels)\n",
    "        g_loss.backward()\n",
    "        g_optimizer.step()\n",
    "        \n",
    "    if epoch%5 == 0:\n",
    "        with t.no_grad():\n",
    "                z = t.empty(len(data_t),1, device=device).uniform_(-1,1)\n",
    "                real_labels = t.ones(len(data_t),1, device=device)\n",
    "                fake_labels = t.zeros(len(data_t),1, device=device)\n",
    "                g_out =  generator(z)\n",
    "                dg_out = discriminator(g_out)\n",
    "                d_loss =  bce(discriminator(data_t), real_labels)\n",
    "                d_loss +=  bce(dg_out, fake_labels)\n",
    "                \n",
    "                g_loss = bce(dg_out, real_labels)\n",
    "                \n",
    "                print(epoch, d_loss.item(), g_loss.item())     "
   ]
  },
  {
   "cell_type": "code",
   "execution_count": null,
   "id": "moved-spine",
   "metadata": {},
   "outputs": [],
   "source": [
    "gen = generator(t.empty(100000,1).uniform_(-1,1).to(device))"
   ]
  },
  {
   "cell_type": "code",
   "execution_count": null,
   "id": "descending-degree",
   "metadata": {},
   "outputs": [],
   "source": [
    "plt.hist(gen.data.cpu().numpy().reshape(-1), bins=100, density=True);\n",
    "plt.plot(ys, p_data(ys));"
   ]
  },
  {
   "cell_type": "code",
   "execution_count": null,
   "id": "immediate-innocent",
   "metadata": {},
   "outputs": [],
   "source": [
    "d_out = discriminator(t.from_numpy(ys).to(device).view(-1,1))"
   ]
  },
  {
   "cell_type": "code",
   "execution_count": null,
   "id": "divided-brief",
   "metadata": {},
   "outputs": [],
   "source": [
    "plt.plot(ys,d_out.data.cpu().numpy().reshape(-1));\n",
    "plt.axhline(0.5);"
   ]
  },
  {
   "cell_type": "code",
   "execution_count": null,
   "id": "scenic-cornell",
   "metadata": {},
   "outputs": [],
   "source": [
    "out_t = generator(t.linspace(-1,1,100).view(-1,1).to(device));"
   ]
  },
  {
   "cell_type": "code",
   "execution_count": null,
   "id": "related-delicious",
   "metadata": {},
   "outputs": [],
   "source": [
    "plt.plot(np.linspace(-1,1,100), out_t.data.cpu().numpy().reshape(-1))\n",
    "plt.plot(2*cum_data-1, xs);"
   ]
  },
  {
   "cell_type": "code",
   "execution_count": null,
   "id": "silver-oracle",
   "metadata": {},
   "outputs": [],
   "source": []
  }
 ],
 "metadata": {
  "kernelspec": {
   "display_name": "Python 3",
   "language": "python",
   "name": "python3"
  }
 },
 "nbformat": 4,
 "nbformat_minor": 5
}
