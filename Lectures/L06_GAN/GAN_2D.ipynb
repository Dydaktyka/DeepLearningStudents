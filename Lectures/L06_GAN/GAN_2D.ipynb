{
 "cells": [
  {
   "cell_type": "code",
   "execution_count": null,
   "id": "separated-petersburg",
   "metadata": {},
   "outputs": [],
   "source": [
    "import numpy as np\n",
    "import scipy\n",
    "import scipy.stats\n",
    "import torch as t\n",
    "import matplotlib.pyplot as plt\n",
    "from IPython.display import clear_output, display"
   ]
  },
  {
   "cell_type": "code",
   "execution_count": null,
   "id": "pleasant-favorite",
   "metadata": {},
   "outputs": [],
   "source": [
    "%matplotlib inline"
   ]
  },
  {
   "cell_type": "code",
   "execution_count": null,
   "id": "backed-taiwan",
   "metadata": {},
   "outputs": [],
   "source": [
    "if t.cuda.is_available():\n",
    "    if t.cuda.device_count()>1:\n",
    "        device = t.device('cuda:1')\n",
    "    else:\n",
    "        device = t.device('cuda')   \n",
    "else:\n",
    "    device = t.device('cpu')"
   ]
  },
  {
   "cell_type": "code",
   "execution_count": null,
   "id": "whole-arrest",
   "metadata": {},
   "outputs": [],
   "source": [
    "#device=t.device('cpu')"
   ]
  },
  {
   "cell_type": "code",
   "execution_count": null,
   "id": "filled-storage",
   "metadata": {},
   "outputs": [],
   "source": [
    "angle = np.random.uniform(-np.pi,np.pi,(1000,1)).astype('float32')\n",
    "data = np.concatenate((np.cos(angle), np.sin(angle)),axis=1)"
   ]
  },
  {
   "cell_type": "code",
   "execution_count": null,
   "id": "surgical-universe",
   "metadata": {},
   "outputs": [],
   "source": [
    "plt.scatter(data[:,0], data[:,1]);"
   ]
  },
  {
   "cell_type": "code",
   "execution_count": null,
   "id": "designed-support",
   "metadata": {},
   "outputs": [],
   "source": [
    "data_t = t.from_numpy(data)"
   ]
  },
  {
   "cell_type": "code",
   "execution_count": null,
   "id": "identified-heaven",
   "metadata": {},
   "outputs": [],
   "source": [
    "data_t = data_t.to(device)"
   ]
  },
  {
   "cell_type": "code",
   "execution_count": null,
   "id": "talented-slave",
   "metadata": {},
   "outputs": [],
   "source": [
    "from torch.nn import Sequential, Linear, ReLU, LeakyReLU, Dropout, Sigmoid"
   ]
  },
  {
   "cell_type": "code",
   "execution_count": null,
   "id": "governing-democrat",
   "metadata": {},
   "outputs": [],
   "source": [
    "discriminator = Sequential(Linear(2,512), LeakyReLU(0.2, inplace=True),\n",
    "                           Linear(512,32), LeakyReLU(0.2, inplace=True),\n",
    "                                Linear(32,1),  Sigmoid()\n",
    "                                     )"
   ]
  },
  {
   "cell_type": "code",
   "execution_count": null,
   "id": "atlantic-sound",
   "metadata": {},
   "outputs": [],
   "source": [
    "discriminator = discriminator.to(device)"
   ]
  },
  {
   "cell_type": "code",
   "execution_count": null,
   "id": "unlike-daily",
   "metadata": {},
   "outputs": [],
   "source": [
    "d_optimizer = t.optim.Adam(discriminator.parameters(), lr=0.0008)"
   ]
  },
  {
   "cell_type": "code",
   "execution_count": null,
   "id": "understanding-olive",
   "metadata": {},
   "outputs": [],
   "source": [
    "generator = Sequential(Linear(2,512), LeakyReLU(),\n",
    "                               Linear(512,256), LeakyReLU(),\n",
    "                               Linear(256,128), LeakyReLU(),\n",
    "                                Linear(128,64), LeakyReLU(),\n",
    "                                Linear(64,32), LeakyReLU(),\n",
    "                               Linear(32,2)\n",
    "                                     )"
   ]
  },
  {
   "cell_type": "code",
   "execution_count": null,
   "id": "inappropriate-framing",
   "metadata": {},
   "outputs": [],
   "source": [
    "generator= generator.to(device)"
   ]
  },
  {
   "cell_type": "code",
   "execution_count": null,
   "id": "cooked-benefit",
   "metadata": {},
   "outputs": [],
   "source": [
    "out_t = generator(t.empty(1000,2, device=device).uniform_(-1,1));"
   ]
  },
  {
   "cell_type": "code",
   "execution_count": null,
   "id": "visible-casino",
   "metadata": {},
   "outputs": [],
   "source": [
    "plt.scatter(out_t.data.cpu().numpy()[:,0],out_t.data.cpu().numpy()[:,1])"
   ]
  },
  {
   "cell_type": "code",
   "execution_count": null,
   "id": "enclosed-separation",
   "metadata": {},
   "outputs": [],
   "source": [
    "g_optimizer = t.optim.Adam(generator.parameters(), lr=0.0002)"
   ]
  },
  {
   "cell_type": "code",
   "execution_count": null,
   "id": "functional-dominant",
   "metadata": {},
   "outputs": [],
   "source": [
    "bce =t.nn.BCELoss()"
   ]
  },
  {
   "cell_type": "code",
   "execution_count": null,
   "id": "cathedral-armor",
   "metadata": {},
   "outputs": [],
   "source": [
    "z_fixed = t.empty(1000,2, device=device).uniform_(-1,1)\n",
    "\n",
    "mini_batch_size = 100\n",
    "k_discriminator = 4\n",
    "k_generator = 1\n",
    "for epoch in range(1,501):\n",
    "    for batch in range(len(data)//mini_batch_size):\n",
    "        for k_d in range(k_discriminator):\n",
    "            d_optimizer.zero_grad()\n",
    "            kr = np.random.randint(0,len(data)//mini_batch_size )\n",
    "          \n",
    "            d = data_t[kr*mini_batch_size:(kr+1)*mini_batch_size]\n",
    "            real_labels = t.ones(mini_batch_size, 1, device=device)\n",
    "            d_real_loss = bce(discriminator(d), 0.9*real_labels)\n",
    "      \n",
    "            z = t.empty(mini_batch_size,2, device=device).uniform_(-1,1)\n",
    "            g_out = generator(z)\n",
    "            fake_labels = t.zeros(mini_batch_size, 1, device=device)\n",
    "            d_fake_loss = bce(discriminator(g_out), fake_labels)\n",
    "            d_loss = d_real_loss + d_fake_loss\n",
    "            d_loss.backward()\n",
    "            d_optimizer.step()\n",
    "    \n",
    "        g_optimizer.zero_grad()\n",
    "        z = t.empty(mini_batch_size,2, device=device).uniform_(-1,1)\n",
    "        g_out = generator(z)\n",
    "        g_loss = bce(discriminator(g_out), real_labels)\n",
    "        g_loss.backward()\n",
    "        g_optimizer.step()\n",
    "        \n",
    "    if epoch%25 == 0:\n",
    "        with t.no_grad():\n",
    "                z = t.empty(len(data_t),2, device=device).uniform_(-1,1)\n",
    "                real_labels = t.ones(len(data_t),1, device=device)\n",
    "                fake_labels = t.zeros(len(data_t),1, device=device)\n",
    "                g_out =  generator(z)\n",
    "                dg_out = discriminator(g_out)\n",
    "                d_loss =  bce(discriminator(data_t), real_labels)\n",
    "                d_loss +=  bce(dg_out, fake_labels)\n",
    "                \n",
    "                g_loss = bce(dg_out, real_labels)\n",
    "                clear_output()\n",
    "                print(epoch, d_loss.item(), g_loss.item())    \n",
    "                \n",
    "                out_t = generator(z_fixed);\n",
    "                plt.scatter(data[:,0], data[:,1], c='b')\n",
    "                plt.scatter(out_t.data.cpu().numpy()[:,0],out_t.data.cpu().numpy()[:,1],\n",
    "                            c='orange',s=5)\n",
    "              \n",
    "                plt.show()\n",
    "            \n",
    "   \n",
    "    \n",
    "    "
   ]
  },
  {
   "cell_type": "code",
   "execution_count": null,
   "id": "behind-oklahoma",
   "metadata": {},
   "outputs": [],
   "source": [
    "out_t = generator(t.empty(1000,2, device=device).uniform_(-1,1));\n",
    "plt.scatter(out_t.data.cpu().numpy()[:,0],out_t.data.cpu().numpy()[:,1]);"
   ]
  },
  {
   "cell_type": "code",
   "execution_count": null,
   "id": "parliamentary-fight",
   "metadata": {},
   "outputs": [],
   "source": []
  },
  {
   "cell_type": "code",
   "execution_count": null,
   "id": "canadian-samoa",
   "metadata": {},
   "outputs": [],
   "source": []
  }
 ],
 "metadata": {
  "kernelspec": {
   "display_name": "Python 3",
   "language": "python",
   "name": "python3"
  }
 },
 "nbformat": 4,
 "nbformat_minor": 5
}
