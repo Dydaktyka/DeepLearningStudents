{
 "cells": [
  {
   "cell_type": "code",
   "execution_count": null,
   "metadata": {},
   "outputs": [],
   "source": [
    "import pandas as pd\n",
    "import papermill as pm\n",
    "import scrapbook as sb\n",
    "import re\n",
    "from itertools import product"
   ]
  },
  {
   "cell_type": "code",
   "execution_count": null,
   "metadata": {},
   "outputs": [],
   "source": [
    "def encode(f,frm=\"f\",d=None):\n",
    "    s = (\"%\"+frm) % (f,)\n",
    "    if d is not None:\n",
    "        s = s.replace('.',d)\n",
    "    return s\n",
    "\n",
    "floater = re.compile('\\.\\d*f$')\n",
    "\n",
    "\n",
    "    \n",
    "def encoder(params):\n",
    "    prefix=\"\"\n",
    "    fmt_string = \"\"\n",
    "    for name, fmt in params:\n",
    "        fmt_string+=prefix\n",
    "        fmt_string+=name\n",
    "        fmt_string+=\"%\"+fmt\n",
    "        prefix=\"_\"\n",
    "    \n",
    "    def encode(*pars):\n",
    "        return (fmt_string % pars).replace('.','d')\n",
    "    \n",
    "    return encode\n",
    "        \n",
    "    "
   ]
  },
  {
   "cell_type": "code",
   "execution_count": null,
   "metadata": {},
   "outputs": [],
   "source": [
    "lrs = [0.001, 0.01, 0.1, 0.2, 0.5]\n",
    "moms = [0.0, 0.5, 0.9]\n",
    "ns = [16,24]"
   ]
  },
  {
   "cell_type": "code",
   "execution_count": null,
   "metadata": {},
   "outputs": [],
   "source": [
    "enc = encoder((('lr',\"4.3f\"),('mom','3.2f'),('n',\"02d\")))"
   ]
  },
  {
   "cell_type": "code",
   "execution_count": null,
   "metadata": {},
   "outputs": [],
   "source": [
    "for lr, mom, n in product(lrs, moms, ns):\n",
    "        filename = f'optimizers/mnist_SGD_'+enc(lr,mom,n)+'.ipynb'\n",
    "        print(filename)\n",
    "        pm.execute_notebook('MNIST.ipynb',filename, progress_bar=False,\n",
    "                         parameters={'optimizer':'SGD', 'optimizer_parameters':{'lr':lr, 'momentum':mom}});"
   ]
  },
  {
   "cell_type": "code",
   "execution_count": null,
   "metadata": {},
   "outputs": [],
   "source": [
    "book = sb.read_notebooks('optimizers/')"
   ]
  },
  {
   "cell_type": "code",
   "execution_count": null,
   "metadata": {},
   "outputs": [],
   "source": [
    "dfs = []\n",
    "for nb,scraps in book.items():\n",
    "    scraps = scraps.scraps\n",
    "    df = scraps.dataframe\n",
    "    rep = pd.DataFrame.from_records([df['data'].values], columns = [df['name'].values])\n",
    "    #print(rep)\n",
    "    dfs.append(rep)\n",
    "summary = pd.concat(dfs,axis=0).reset_index(drop=True)"
   ]
  },
  {
   "cell_type": "code",
   "execution_count": null,
   "metadata": {},
   "outputs": [],
   "source": [
    "summary"
   ]
  },
  {
   "cell_type": "code",
   "execution_count": null,
   "metadata": {},
   "outputs": [],
   "source": []
  }
 ],
 "metadata": {
  "jupytext": {
   "text_representation": {
    "extension": ".Rmd",
    "format_name": "rmarkdown",
    "format_version": "1.2",
    "jupytext_version": "1.6.0"
   }
  },
  "kernelspec": {
   "display_name": "Python 3",
   "language": "python",
   "name": "python3"
  },
  "language_info": {
   "codemirror_mode": {
    "name": "ipython",
    "version": 3
   },
   "file_extension": ".py",
   "mimetype": "text/x-python",
   "name": "python",
   "nbconvert_exporter": "python",
   "pygments_lexer": "ipython3",
   "version": "3.8.3"
  }
 },
 "nbformat": 4,
 "nbformat_minor": 4
}
