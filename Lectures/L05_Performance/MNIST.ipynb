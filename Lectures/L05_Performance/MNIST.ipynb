{
 "cells": [
  {
   "cell_type": "code",
   "execution_count": null,
   "metadata": {},
   "outputs": [],
   "source": [
    "%load_ext autoreload\n",
    "%autoreload 2"
   ]
  },
  {
   "cell_type": "code",
   "execution_count": 2,
   "metadata": {
    "slideshow": {
     "slide_type": "skip"
    }
   },
   "outputs": [],
   "source": [
    "import torch\n",
    "import torchvision\n",
    "from torch import nn\n",
    "import matplotlib.pyplot as plt\n",
    "import numpy as np\n",
    "%matplotlib inline"
   ]
  },
  {
   "cell_type": "code",
   "execution_count": 3,
   "metadata": {},
   "outputs": [],
   "source": [
    "import scrapbook as sb"
   ]
  },
  {
   "cell_type": "code",
   "execution_count": 4,
   "metadata": {},
   "outputs": [],
   "source": [
    "import sys\n",
    "sys.path.append('../../modules')"
   ]
  },
  {
   "cell_type": "code",
   "execution_count": 5,
   "metadata": {},
   "outputs": [],
   "source": [
    "import mnist"
   ]
  },
  {
   "cell_type": "code",
   "execution_count": 6,
   "metadata": {},
   "outputs": [],
   "source": [
    "digits = mnist.MNIST('../data')"
   ]
  },
  {
   "cell_type": "code",
   "execution_count": 7,
   "metadata": {
    "slideshow": {
     "slide_type": "slide"
    }
   },
   "outputs": [],
   "source": [
    "n_samples = 7000"
   ]
  },
  {
   "cell_type": "code",
   "execution_count": 8,
   "metadata": {},
   "outputs": [],
   "source": [
    "dataset = digits.flat_train_dataset(n_samples)"
   ]
  },
  {
   "cell_type": "code",
   "execution_count": 9,
   "metadata": {
    "slideshow": {
     "slide_type": "fragment"
    }
   },
   "outputs": [],
   "source": [
    "train_dataset, validation_dataset = torch.utils.data.random_split(dataset, (6000,1000))"
   ]
  },
  {
   "cell_type": "code",
   "execution_count": 10,
   "metadata": {
    "slideshow": {
     "slide_type": "fragment"
    }
   },
   "outputs": [],
   "source": [
    "train_loader = torch.utils.data.DataLoader(train_dataset, \n",
    "                                           batch_size = 100, \n",
    "                                           shuffle = True)\n",
    "validation_loader = torch.utils.data.DataLoader(validation_dataset, \n",
    "                                           batch_size = 100, \n",
    "                                           shuffle = True)"
   ]
  },
  {
   "cell_type": "markdown",
   "metadata": {
    "slideshow": {
     "slide_type": "slide"
    }
   },
   "source": [
    "## The model "
   ]
  },
  {
   "cell_type": "markdown",
   "metadata": {
    "slideshow": {
     "slide_type": "skip"
    }
   },
   "source": [
    "We will use a fully  four  fully connected layers with `ReLU` activation layers in between as our model and `softmax` as the last layer.  The model can be easily constructed using the PyTorch `nn.Sequential` class:"
   ]
  },
  {
   "cell_type": "code",
   "execution_count": 11,
   "metadata": {},
   "outputs": [],
   "source": [
    "model = torch.nn.Sequential(\n",
    "    nn.Linear(28*28,1200), nn.ReLU(),\n",
    "    nn.Linear(1200,600), nn.ReLU(),\n",
    "    nn.Linear(600,300), nn.ReLU(),\n",
    "    nn.Linear(300,10)\n",
    ")"
   ]
  },
  {
   "cell_type": "code",
   "execution_count": 12,
   "metadata": {},
   "outputs": [],
   "source": [
    "def accuracy(pred, labels):\n",
    "    return torch.sum(torch.argmax(pred,axis = 1)==labels).to(dtype=torch.float32).item()/len(labels)"
   ]
  },
  {
   "cell_type": "code",
   "execution_count": 13,
   "metadata": {},
   "outputs": [],
   "source": [
    "def model_accuracy(model, dataset):\n",
    "    features, labels = dataset[:]\n",
    "    with torch.no_grad():\n",
    "        pred = model(features)\n",
    "    return accuracy(pred, labels)"
   ]
  },
  {
   "cell_type": "markdown",
   "metadata": {
    "slideshow": {
     "slide_type": "skip"
    }
   },
   "source": [
    "Before we start training we need the loss function:"
   ]
  },
  {
   "cell_type": "code",
   "execution_count": 14,
   "metadata": {
    "slideshow": {
     "slide_type": "skip"
    }
   },
   "outputs": [],
   "source": [
    "ce_loss = torch.nn.CrossEntropyLoss()"
   ]
  },
  {
   "cell_type": "code",
   "execution_count": 15,
   "metadata": {
    "slideshow": {
     "slide_type": "slide"
    }
   },
   "outputs": [],
   "source": [
    "def kaiming_init_uniform(sigma=1):\n",
    "    def init(layer): \n",
    "        if isinstance(layer,torch.nn.modules.linear.Linear):\n",
    "            fan_in = layer.weight.size(1)\n",
    "            s  = np.sqrt(6/fan_in)    \n",
    "            torch.nn.init.uniform_(layer.weight,-sigma*s,sigma*s)\n",
    "            if layer.bias is not None:\n",
    "                torch.nn.init.zeros_(layer.bias)\n",
    "    return init  "
   ]
  },
  {
   "cell_type": "code",
   "execution_count": 16,
   "metadata": {
    "tags": [
     "parameters"
    ]
   },
   "outputs": [],
   "source": [
    "steper = 'Adam'\n",
    "steper_parameters = {'lr': 0.01}"
   ]
  },
  {
   "cell_type": "code",
   "execution_count": 17,
   "metadata": {},
   "outputs": [
    {
     "data": {
      "application/scrapbook.scrap.text+json": {
       "data": "Adam",
       "encoder": "text",
       "name": "steper",
       "version": 1
      }
     },
     "metadata": {
      "scrapbook": {
       "data": true,
       "display": false,
       "name": "steper"
      }
     },
     "output_type": "display_data"
    },
    {
     "data": {
      "application/scrapbook.scrap.json+json": {
       "data": {
        "lr": 0.01
       },
       "encoder": "json",
       "name": "steper_parameters",
       "version": 1
      }
     },
     "metadata": {
      "scrapbook": {
       "data": true,
       "display": false,
       "name": "steper_parameters"
      }
     },
     "output_type": "display_data"
    }
   ],
   "source": [
    "sb.glue('steper',steper)\n",
    "sb.glue('steper_parameters', steper_parameters)"
   ]
  },
  {
   "cell_type": "code",
   "execution_count": 18,
   "metadata": {},
   "outputs": [
    {
     "data": {
      "text/plain": [
       "Sequential(\n",
       "  (0): Linear(in_features=784, out_features=1200, bias=True)\n",
       "  (1): ReLU()\n",
       "  (2): Linear(in_features=1200, out_features=600, bias=True)\n",
       "  (3): ReLU()\n",
       "  (4): Linear(in_features=600, out_features=300, bias=True)\n",
       "  (5): ReLU()\n",
       "  (6): Linear(in_features=300, out_features=10, bias=True)\n",
       ")"
      ]
     },
     "execution_count": 18,
     "metadata": {},
     "output_type": "execute_result"
    }
   ],
   "source": [
    "model.apply(kaiming_init_uniform())"
   ]
  },
  {
   "cell_type": "code",
   "execution_count": 19,
   "metadata": {
    "slideshow": {
     "slide_type": "slide"
    }
   },
   "outputs": [],
   "source": [
    "optim = getattr(torch.optim,steper)(model.parameters(), **steper_parameters)"
   ]
  },
  {
   "cell_type": "code",
   "execution_count": 20,
   "metadata": {
    "slideshow": {
     "slide_type": "-"
    }
   },
   "outputs": [
    {
     "name": "stdout",
     "output_type": "stream",
     "text": [
      "0 0.3594667315483093\n",
      "1 0.19438646733760834\n",
      "2 0.1215486228466034\n",
      "3 0.08176902681589127\n",
      "4 0.3110867440700531\n",
      "5 0.1188136488199234\n",
      "6 0.17061206698417664\n",
      "7 0.028603196144104004\n",
      "8 0.06071077287197113\n",
      "9 0.04918994382023811\n",
      "10 0.1259954273700714\n",
      "11 0.038997452706098557\n",
      "12 0.09828086197376251\n",
      "13 0.018851660192012787\n",
      "14 0.10056978464126587\n",
      "15 0.22952263057231903\n",
      "16 0.006318177096545696\n",
      "17 0.14536398649215698\n",
      "18 0.10743352770805359\n",
      "19 0.08553570508956909\n",
      "20 0.0255085751414299\n",
      "21 0.02918856404721737\n",
      "22 0.0021302709355950356\n",
      "23 0.049616724252700806\n",
      "CPU times: user 8min 10s, sys: 22.5 s, total: 8min 32s\n",
      "Wall time: 49.5 s\n"
     ]
    }
   ],
   "source": [
    "%%time\n",
    "for e in range(16):\n",
    "    for features, labels in train_loader:        \n",
    "        optim.zero_grad()\n",
    "        pred = model(features)\n",
    "        loss = ce_loss(pred, labels)\n",
    "        loss.backward()\n",
    "        optim.step()   \n",
    "    print(e, loss.item())        "
   ]
  },
  {
   "cell_type": "code",
   "execution_count": 21,
   "metadata": {},
   "outputs": [],
   "source": [
    "ac_train = model_accuracy(model, train_dataset)\n",
    "sb.glue(\"ac_train\", ac_train)"
   ]
  },
  {
   "cell_type": "code",
   "execution_count": 22,
   "metadata": {},
   "outputs": [],
   "source": [
    "ac_test = model_accuracy(model, validation_dataset)\n",
    "sb.glue(\"ac_test\", ac_test)"
   ]
  }
 ],
 "metadata": {
  "celltoolbar": "Slideshow",
  "jupytext": {
   "cell_metadata_json": true
  },
  "kernelspec": {
   "display_name": "Python 3",
   "language": "python",
   "name": "python3"
  },
  "language_info": {
   "codemirror_mode": {
    "name": "ipython",
    "version": 3
   },
   "file_extension": ".py",
   "mimetype": "text/x-python",
   "name": "python",
   "nbconvert_exporter": "python",
   "pygments_lexer": "ipython3",
   "version": "3.8.3"
  }
 },
 "nbformat": 4,
 "nbformat_minor": 4
}
