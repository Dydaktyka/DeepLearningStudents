{
 "cells": [
  {
   "cell_type": "markdown",
   "id": "white-sender",
   "metadata": {
    "slideshow": {
     "slide_type": "slide"
    }
   },
   "source": [
    "# Adversarial Examples"
   ]
  },
  {
   "cell_type": "code",
   "execution_count": null,
   "id": "otherwise-personal",
   "metadata": {
    "slideshow": {
     "slide_type": "skip"
    }
   },
   "outputs": [],
   "source": [
    "import os\n",
    "from IPython.display import clear_output, display\n",
    "import numpy as np\n",
    "import matplotlib.pyplot as plt\n",
    "\n",
    "import torch as t\n",
    "from torch.nn import Sequential, Linear, ReLU, LeakyReLU, BatchNorm1d\n",
    "import torchvision\n",
    "\n",
    "import utils as u"
   ]
  },
  {
   "cell_type": "code",
   "execution_count": null,
   "id": "clinical-sampling",
   "metadata": {
    "slideshow": {
     "slide_type": "skip"
    }
   },
   "outputs": [],
   "source": [
    "%matplotlib inline"
   ]
  },
  {
   "cell_type": "code",
   "execution_count": null,
   "id": "equal-search",
   "metadata": {
    "slideshow": {
     "slide_type": "skip"
    }
   },
   "outputs": [],
   "source": [
    "if t.cuda.is_available():\n",
    "    if t.cuda.device_count()>1:\n",
    "        device = t.device('cuda:1')\n",
    "    else:\n",
    "        device = t.device('cuda')   \n",
    "else:\n",
    "    device = t.device('cpu')"
   ]
  },
  {
   "cell_type": "markdown",
   "id": "disciplinary-tulsa",
   "metadata": {
    "slideshow": {
     "slide_type": "slide"
    }
   },
   "source": [
    "## MNIST "
   ]
  },
  {
   "cell_type": "code",
   "execution_count": null,
   "id": "blank-chinese",
   "metadata": {
    "slideshow": {
     "slide_type": "skip"
    }
   },
   "outputs": [],
   "source": [
    "dl_train = t.utils.data.DataLoader(\n",
    "    torchvision.datasets.MNIST('./data/mnist', train=True, download=True))\n",
    "\n",
    "dl_test  = t.utils.data.DataLoader(\n",
    "    torchvision.datasets.MNIST('./data/mnist', train=False, download=True))"
   ]
  },
  {
   "cell_type": "code",
   "execution_count": null,
   "id": "governing-seattle",
   "metadata": {
    "slideshow": {
     "slide_type": "skip"
    }
   },
   "outputs": [],
   "source": [
    "mnist_train_data   = dl_train.dataset.data.to(dtype=t.float32).reshape(-1,28*28)/255.0\n",
    "mnist_train_labels = dl_train.dataset.targets"
   ]
  },
  {
   "cell_type": "code",
   "execution_count": null,
   "id": "governmental-inside",
   "metadata": {
    "slideshow": {
     "slide_type": "skip"
    }
   },
   "outputs": [],
   "source": [
    "mnist_test_data   = dl_test.dataset.data.to(dtype=t.float32).reshape(-1,28*28)/255.0\n",
    "mnist_test_labels = dl_test.dataset.targets"
   ]
  },
  {
   "cell_type": "code",
   "execution_count": null,
   "id": "retained-modern",
   "metadata": {
    "slideshow": {
     "slide_type": "skip"
    }
   },
   "outputs": [],
   "source": [
    "train_dataset = t.utils.data.TensorDataset(mnist_train_data, mnist_train_labels)\n",
    "test_dataset = t.utils.data.TensorDataset(mnist_test_data, mnist_test_labels)"
   ]
  },
  {
   "cell_type": "code",
   "execution_count": null,
   "id": "becoming-confirmation",
   "metadata": {
    "slideshow": {
     "slide_type": "skip"
    }
   },
   "outputs": [],
   "source": [
    "train_loader = t.utils.data.DataLoader(train_dataset, batch_size=128)"
   ]
  },
  {
   "cell_type": "code",
   "execution_count": null,
   "id": "maritime-yugoslavia",
   "metadata": {
    "slideshow": {
     "slide_type": "slide"
    }
   },
   "outputs": [],
   "source": [
    "if os.path.isfile('mnist_home_model.pt'):\n",
    "    model = t.load('mnist_home_model.pt')\n",
    "    pretrained = True\n",
    "else:        \n",
    "    model = u.make_model(32, drop=0.0)\n",
    "    model.apply(u.init_layer)\n",
    "    pretrained = False\n"
   ]
  },
  {
   "cell_type": "markdown",
   "id": "native-valuation",
   "metadata": {
    "slideshow": {
     "slide_type": "slide"
    }
   },
   "source": [
    "```python \n",
    "def make_model(width, drop):\n",
    "    return t.nn.Sequential(t.nn.Linear(28*28, 2*width), \n",
    "                           t.nn.Dropout(drop), t.nn.ReLU(),\n",
    "                           t.nn.Linear(2*width, width), \n",
    "                           t.nn.Dropout(drop),  t.nn.ReLU(),\n",
    "                           t.nn.Linear(width, width),\n",
    "                           t.nn.Dropout(drop),  t.nn.ReLU(),\n",
    "                           t.nn.Linear(width, 10)\n",
    "                   )\n",
    "```"
   ]
  },
  {
   "cell_type": "code",
   "execution_count": null,
   "id": "normal-thesis",
   "metadata": {
    "slideshow": {
     "slide_type": "skip"
    }
   },
   "outputs": [],
   "source": [
    "model.to(device)"
   ]
  },
  {
   "cell_type": "code",
   "execution_count": null,
   "id": "genetic-atmosphere",
   "metadata": {
    "slideshow": {
     "slide_type": "slide"
    }
   },
   "outputs": [],
   "source": [
    "u.accuracy(model, test_dataset[:][0], test_dataset[:][1])"
   ]
  },
  {
   "cell_type": "code",
   "execution_count": null,
   "id": "foreign-mentor",
   "metadata": {
    "slideshow": {
     "slide_type": "skip"
    }
   },
   "outputs": [],
   "source": [
    "ce = t.nn.CrossEntropyLoss()\n",
    "optimizer = t.optim.Adam(model.parameters(), lr=0.0002)"
   ]
  },
  {
   "cell_type": "code",
   "execution_count": null,
   "id": "confidential-trigger",
   "metadata": {
    "slideshow": {
     "slide_type": "skip"
    }
   },
   "outputs": [],
   "source": [
    "%%time\n",
    "if not pretrained:\n",
    "    err_train=[]\n",
    "    err_valid=[]\n",
    "    for epoch in range(20):    \n",
    "        for datum in train_loader:\n",
    "            optimizer.zero_grad()\n",
    "            (features,target) = datum\n",
    "            pred = model(features)\n",
    "            loss = ce(pred, target)\n",
    "            loss.backward()\n",
    "            optimizer.step()\n",
    "\n",
    "        with t.no_grad():\n",
    "            vpred  = model(test_dataset[:][0])\n",
    "            vloss  = ce(vpred,test_dataset[:][1])\n",
    "            err_valid.append(vloss)\n",
    "            pred  = model(train_dataset[:][0])\n",
    "            loss  = ce(pred,train_dataset[:][1])\n",
    "            err_train.append(loss)\n",
    "        clear_output()\n",
    "        print(\"epoch %d %f %f %f\" % (epoch, loss, vloss,u.accuracy(model, test_dataset[:][0],  test_dataset[:][1])))   \n",
    "\n",
    "    plt.plot(err_train,c='b')\n",
    "    plt.plot(err_valid,c='g')"
   ]
  },
  {
   "cell_type": "code",
   "execution_count": null,
   "id": "iraqi-driver",
   "metadata": {
    "slideshow": {
     "slide_type": "-"
    }
   },
   "outputs": [],
   "source": [
    "print(u.accuracy(model, test_dataset[:][0],  test_dataset[:][1]) )\n",
    "print(u.accuracy(model, train_dataset[:][0], train_dataset[:][1]) )"
   ]
  },
  {
   "cell_type": "code",
   "execution_count": null,
   "id": "relative-return",
   "metadata": {
    "slideshow": {
     "slide_type": "skip"
    }
   },
   "outputs": [],
   "source": [
    "if not os.path.isfile('mnist_home_model.pt'):\n",
    "    t.save(model,\"mnist_home_model.pt\")"
   ]
  },
  {
   "cell_type": "code",
   "execution_count": null,
   "id": "fresh-there",
   "metadata": {
    "slideshow": {
     "slide_type": "slide"
    }
   },
   "outputs": [],
   "source": [
    "example = t.load('real_5.pt')\n",
    "fake    = t.load('fake_4.pt')"
   ]
  },
  {
   "cell_type": "code",
   "execution_count": null,
   "id": "professional-breakdown",
   "metadata": {
    "slideshow": {
     "slide_type": "slide"
    }
   },
   "outputs": [],
   "source": [
    "u.display(example);"
   ]
  },
  {
   "cell_type": "code",
   "execution_count": null,
   "id": "efficient-collector",
   "metadata": {
    "slideshow": {
     "slide_type": "fragment"
    }
   },
   "outputs": [],
   "source": [
    "u.prediction(model,example)"
   ]
  },
  {
   "cell_type": "code",
   "execution_count": null,
   "id": "sublime-dominican",
   "metadata": {
    "slideshow": {
     "slide_type": "slide"
    }
   },
   "outputs": [],
   "source": [
    "u.display(fake)"
   ]
  },
  {
   "cell_type": "code",
   "execution_count": null,
   "id": "powered-listing",
   "metadata": {
    "slideshow": {
     "slide_type": "fragment"
    }
   },
   "outputs": [],
   "source": [
    "u.prediction(model,fake)"
   ]
  },
  {
   "cell_type": "markdown",
   "id": "illegal-minister",
   "metadata": {
    "slideshow": {
     "slide_type": "slide"
    }
   },
   "source": [
    "<table>\n",
    "<tr>\n",
    "    <td><img src=\"img/panda_577.png\"/></td>\n",
    "    <td><img src=\"img/nematode_082.png\"/></td>\n",
    "    <td><img src=\"img/gibbon_993.png\"/></td>\n",
    "    </tr>\n",
    "</table>"
   ]
  },
  {
   "cell_type": "markdown",
   "id": "unexpected-language",
   "metadata": {},
   "source": [
    "> \"Explaining and Harnessing Adversarial Examples\", Ian J. Goodfellow, Jonathon Shlens, Christian Szegedy [arXiv:1412.6572](https://arxiv.org/abs/1412.6572)"
   ]
  },
  {
   "cell_type": "markdown",
   "id": "eleven-commissioner",
   "metadata": {
    "slideshow": {
     "slide_type": "slide"
    }
   },
   "source": [
    "## Rubish class"
   ]
  },
  {
   "cell_type": "code",
   "execution_count": null,
   "id": "super-charles",
   "metadata": {
    "slideshow": {
     "slide_type": "slide"
    }
   },
   "outputs": [],
   "source": [
    "A = t.empty(1,28*28,device=device).uniform_(0,1)"
   ]
  },
  {
   "cell_type": "code",
   "execution_count": null,
   "id": "furnished-worker",
   "metadata": {
    "slideshow": {
     "slide_type": "fragment"
    }
   },
   "outputs": [],
   "source": [
    "plt.imshow(A.data.cpu().numpy().reshape(28,28), cmap='Greys')"
   ]
  },
  {
   "cell_type": "code",
   "execution_count": null,
   "id": "statutory-landscape",
   "metadata": {
    "slideshow": {
     "slide_type": "fragment"
    }
   },
   "outputs": [],
   "source": [
    "u.prediction(model, A)"
   ]
  },
  {
   "cell_type": "markdown",
   "id": "listed-triple",
   "metadata": {
    "slideshow": {
     "slide_type": "slide"
    }
   },
   "source": [
    "$$\\newcommand{\\argmin}{\\operatorname{argmin}}$$\n",
    "$$\\argmin_A J(A, target)$$"
   ]
  },
  {
   "cell_type": "code",
   "execution_count": null,
   "id": "advised-subcommittee",
   "metadata": {
    "slideshow": {
     "slide_type": "slide"
    }
   },
   "outputs": [],
   "source": [
    "target = t.LongTensor([4]).to(device)"
   ]
  },
  {
   "cell_type": "code",
   "execution_count": null,
   "id": "final-duplicate",
   "metadata": {
    "slideshow": {
     "slide_type": "fragment"
    }
   },
   "outputs": [],
   "source": [
    "pred = model(A)\n",
    "ce(pred,target)"
   ]
  },
  {
   "cell_type": "code",
   "execution_count": null,
   "id": "spiritual-parks",
   "metadata": {
    "slideshow": {
     "slide_type": "fragment"
    }
   },
   "outputs": [],
   "source": [
    "u.model_detach(model)"
   ]
  },
  {
   "cell_type": "code",
   "execution_count": null,
   "id": "plain-terrain",
   "metadata": {
    "slideshow": {
     "slide_type": "fragment"
    }
   },
   "outputs": [],
   "source": [
    "A.requires_grad_(True);"
   ]
  },
  {
   "cell_type": "code",
   "execution_count": null,
   "id": "conditional-intro",
   "metadata": {
    "slideshow": {
     "slide_type": "fragment"
    }
   },
   "outputs": [],
   "source": [
    "adv_optimizer = t.optim.SGD([A],lr=0.002)"
   ]
  },
  {
   "cell_type": "code",
   "execution_count": null,
   "id": "enhanced-player",
   "metadata": {
    "slideshow": {
     "slide_type": "slide"
    }
   },
   "outputs": [],
   "source": [
    "%%time\n",
    "for i in range(5000):\n",
    "    adv_optimizer.zero_grad()\n",
    "    pred = model(A)\n",
    "    loss =ce(pred,target)\n",
    "    loss.backward()\n",
    "    adv_optimizer.step()\n",
    "    #clear_output()\n",
    "print(loss.item())"
   ]
  },
  {
   "cell_type": "code",
   "execution_count": null,
   "id": "abandoned-senator",
   "metadata": {
    "slideshow": {
     "slide_type": "slide"
    }
   },
   "outputs": [],
   "source": [
    "plt.imshow(A.data.cpu().numpy().reshape(28,28), cmap='Greys');"
   ]
  },
  {
   "cell_type": "code",
   "execution_count": null,
   "id": "certified-monaco",
   "metadata": {
    "slideshow": {
     "slide_type": "fragment"
    }
   },
   "outputs": [],
   "source": [
    "pred = model(A)\n",
    "ce(pred,target)"
   ]
  },
  {
   "cell_type": "code",
   "execution_count": null,
   "id": "handled-venezuela",
   "metadata": {
    "slideshow": {
     "slide_type": "fragment"
    }
   },
   "outputs": [],
   "source": [
    "u.prediction(model, A)"
   ]
  },
  {
   "cell_type": "markdown",
   "id": "fifth-collect",
   "metadata": {
    "slideshow": {
     "slide_type": "slide"
    }
   },
   "source": [
    "## Source/Target  attack"
   ]
  },
  {
   "cell_type": "code",
   "execution_count": null,
   "id": "suffering-hypothetical",
   "metadata": {
    "slideshow": {
     "slide_type": "slide"
    }
   },
   "outputs": [],
   "source": [
    "idx = 490\n",
    "X = train_dataset[idx:idx+1][0].clone()\n",
    "L = train_dataset[idx:idx+1][1]\n",
    "print(L.item())"
   ]
  },
  {
   "cell_type": "code",
   "execution_count": null,
   "id": "indirect-easter",
   "metadata": {
    "slideshow": {
     "slide_type": "fragment"
    }
   },
   "outputs": [],
   "source": [
    "plt.imshow(X.data.cpu().numpy().reshape(28,28), cmap='Greys')"
   ]
  },
  {
   "cell_type": "code",
   "execution_count": null,
   "id": "accessible-samba",
   "metadata": {
    "slideshow": {
     "slide_type": "slide"
    }
   },
   "outputs": [],
   "source": [
    "A = t.empty(1,28*28,device=device).uniform_(0,1)\n",
    "A.requires_grad_(True);"
   ]
  },
  {
   "cell_type": "code",
   "execution_count": null,
   "id": "harmful-chambers",
   "metadata": {},
   "outputs": [],
   "source": [
    "plt.imshow(A.data.cpu().numpy().reshape(28,28), cmap='Greys')"
   ]
  },
  {
   "cell_type": "code",
   "execution_count": null,
   "id": "ideal-button",
   "metadata": {
    "slideshow": {
     "slide_type": "fragment"
    }
   },
   "outputs": [],
   "source": [
    "u.prediction(model, A)"
   ]
  },
  {
   "cell_type": "code",
   "execution_count": null,
   "id": "improved-potato",
   "metadata": {
    "slideshow": {
     "slide_type": "fragment"
    }
   },
   "outputs": [],
   "source": [
    "target = t.LongTensor([4]).to(device)"
   ]
  },
  {
   "cell_type": "code",
   "execution_count": null,
   "id": "trying-costs",
   "metadata": {
    "slideshow": {
     "slide_type": "fragment"
    }
   },
   "outputs": [],
   "source": [
    "pred = model(A)\n",
    "ce(pred,target)"
   ]
  },
  {
   "cell_type": "code",
   "execution_count": null,
   "id": "immediate-investment",
   "metadata": {
    "slideshow": {
     "slide_type": "slide"
    }
   },
   "outputs": [],
   "source": [
    "adv_optimizer = t.optim.Adam([A],lr=0.0001, betas=(0.5, 0.999))"
   ]
  },
  {
   "cell_type": "code",
   "execution_count": null,
   "id": "starting-seminar",
   "metadata": {
    "slideshow": {
     "slide_type": "fragment"
    }
   },
   "outputs": [],
   "source": [
    "%%time\n",
    "for i in range(20000):\n",
    "    adv_optimizer.zero_grad()\n",
    "    pred = model(A)\n",
    "    loss =ce(pred,target)+1.0*t.norm(A-X)\n",
    "    loss.backward()\n",
    "    adv_optimizer.step()\n",
    "    #clear_output()\n",
    "print(loss.item())"
   ]
  },
  {
   "cell_type": "code",
   "execution_count": null,
   "id": "spectacular-genealogy",
   "metadata": {
    "slideshow": {
     "slide_type": "slide"
    }
   },
   "outputs": [],
   "source": [
    "fig,ax = plt.subplots(1,2)\n",
    "ax[0].imshow(A.data.cpu().numpy().reshape(28,28), cmap='Greys')\n",
    "ax[1].imshow(X.data.cpu().numpy().reshape(28,28), cmap='Greys');"
   ]
  },
  {
   "cell_type": "code",
   "execution_count": null,
   "id": "alternate-boxing",
   "metadata": {
    "slideshow": {
     "slide_type": "fragment"
    }
   },
   "outputs": [],
   "source": [
    "pred = model(A)\n",
    "ce(pred,target)"
   ]
  },
  {
   "cell_type": "code",
   "execution_count": null,
   "id": "necessary-apartment",
   "metadata": {
    "slideshow": {
     "slide_type": "fragment"
    }
   },
   "outputs": [],
   "source": [
    "u.prediction(model, A)"
   ]
  },
  {
   "cell_type": "code",
   "execution_count": null,
   "id": "unexpected-execution",
   "metadata": {
    "slideshow": {
     "slide_type": "slide"
    }
   },
   "outputs": [],
   "source": [
    "noise = A-X"
   ]
  },
  {
   "cell_type": "code",
   "execution_count": null,
   "id": "normal-taste",
   "metadata": {
    "slideshow": {
     "slide_type": "fragment"
    }
   },
   "outputs": [],
   "source": [
    "t.max(noise.abs() )"
   ]
  },
  {
   "cell_type": "code",
   "execution_count": null,
   "id": "initial-contributor",
   "metadata": {
    "slideshow": {
     "slide_type": "fragment"
    }
   },
   "outputs": [],
   "source": [
    "plt.imshow(noise.data.cpu().numpy().reshape(28,28), cmap='Greys', vmin=-1, vmax = 1 );"
   ]
  },
  {
   "cell_type": "code",
   "execution_count": null,
   "id": "distinguished-pastor",
   "metadata": {
    "slideshow": {
     "slide_type": "skip"
    }
   },
   "outputs": [],
   "source": [
    "u.prediction(model, X+noise)"
   ]
  },
  {
   "cell_type": "markdown",
   "id": "durable-respondent",
   "metadata": {
    "slideshow": {
     "slide_type": "slide"
    }
   },
   "source": [
    "## Taxonomy "
   ]
  },
  {
   "cell_type": "markdown",
   "id": "sufficient-sally",
   "metadata": {
    "slideshow": {
     "slide_type": "slide"
    }
   },
   "source": [
    "<img src=\"img/taxonomy-lattice.png\" width=\"600\"/>"
   ]
  },
  {
   "cell_type": "markdown",
   "id": "passing-contrast",
   "metadata": {},
   "source": [
    "> \"The Limitations of Deep Learning in Adversarial Settings\", Nicolas Papernot, Patrick McDaniel, Somesh Jha, Matt Fredrikson, Z. Berkay Celik, Ananthram Swami [arXiv:1511.07528](https://arxiv.org/abs/1511.07528)\n"
   ]
  },
  {
   "cell_type": "markdown",
   "id": "virgin-amazon",
   "metadata": {
    "slideshow": {
     "slide_type": "slide"
    }
   },
   "source": [
    "## Real World Examples "
   ]
  },
  {
   "cell_type": "markdown",
   "id": "fifty-harbor",
   "metadata": {},
   "source": [
    "> \"Adversarial examples in the physical world\", Alexey Kurakin, Ian Goodfellow, Samy Bengio [arXiv:1607.02533](https://arxiv.org/abs/1607.02533)"
   ]
  },
  {
   "cell_type": "markdown",
   "id": "employed-chicago",
   "metadata": {
    "slideshow": {
     "slide_type": "slide"
    }
   },
   "source": [
    "<table>\n",
    "    <tr>\n",
    "        <td><img src=\"img/img0413.png\"/></td>\n",
    "        <td><img src=\"img/DemoWasher_Clean.jpg\"/></td>\n",
    "    </tr>\n",
    "</table>    "
   ]
  },
  {
   "cell_type": "markdown",
   "id": "competitive-spring",
   "metadata": {
    "slideshow": {
     "slide_type": "slide"
    }
   },
   "source": [
    "<table>\n",
    "    <tr>\n",
    "        <td><img src=\"img/DemoWasher_Eps4.jpg\"/></td>\n",
    "        <td><img src=\"img/DemoWasher_Eps8.jpg\"/></td>\n",
    "    </tr>\n",
    "</table>    "
   ]
  },
  {
   "cell_type": "markdown",
   "id": "welsh-spine",
   "metadata": {},
   "source": [
    "> \"Robust Physical-World Attacks on Deep Learning Models\", Kevin Eykholt, Ivan Evtimov, Earlence Fernandes, Bo Li, Amir Rahmati, Chaowei Xiao, Atul Prakash, Tadayoshi Kohno, Dawn Song [arXiv:1707.08945](https://arxiv.org/abs/1707.08945)."
   ]
  },
  {
   "cell_type": "markdown",
   "id": "second-teacher",
   "metadata": {
    "slideshow": {
     "slide_type": "slide"
    }
   },
   "source": [
    "<table>\n",
    "    <tr>\n",
    "        <td><img src=\"img/invisible-poster-05ft-0deg.jpg\"/></td>\n",
    "        <td><img src=\"img/invisible-poster-05ft-15deg.jpg\"/></td>\n",
    "    </tr>\n",
    "</table>"
   ]
  },
  {
   "cell_type": "markdown",
   "id": "american-polyester",
   "metadata": {
    "slideshow": {
     "slide_type": "slide"
    }
   },
   "source": [
    "<table>\n",
    "    <tr>\n",
    "        <td><img src=\"img/rightturn-poster-05ft-0deg.jpg\"/></td>\n",
    "        <td><img src=\"img/rightturn-poster-05ft-15deg.jpg\"/></td>\n",
    "    </tr>\n",
    "</table>"
   ]
  },
  {
   "cell_type": "markdown",
   "id": "weighted-oliver",
   "metadata": {
    "slideshow": {
     "slide_type": "slide"
    }
   },
   "source": [
    "<table>\n",
    "    <tr>\n",
    "        <td><img src=\"img/subliminal-graffiti-sticker-05ft-0deg.jpg\"/></td>\n",
    "        <td><img src=\"img/subliminal-graffiti-sticker-05ft-15deg.jpg\"/></td>\n",
    "    </tr>\n",
    "</table>"
   ]
  },
  {
   "cell_type": "markdown",
   "id": "entertaining-bolivia",
   "metadata": {
    "slideshow": {
     "slide_type": "slide"
    }
   },
   "source": [
    "<table>\n",
    "    <tr>\n",
    "        <td><img src=\"img/subliminal-art-sticker-05ft-0deg.jpg\"/></td>\n",
    "        <td><img src=\"img/subliminal-art-sticker-05ft-15deg.jpg\"/></td>\n",
    "    </tr>\n",
    "</table>"
   ]
  },
  {
   "cell_type": "code",
   "execution_count": null,
   "id": "editorial-anthony",
   "metadata": {},
   "outputs": [],
   "source": []
  }
 ],
 "metadata": {
  "jupytext": {
   "cell_metadata_json": true
  },
  "kernelspec": {
   "display_name": "Python 3",
   "language": "python",
   "name": "python3"
  }
 },
 "nbformat": 4,
 "nbformat_minor": 5
}
