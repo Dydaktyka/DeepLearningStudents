{
 "cells": [
  {
   "cell_type": "markdown",
   "id": "manual-narrow",
   "metadata": {
    "slideshow": {
     "slide_type": "slide"
    }
   },
   "source": [
    "# Adversarial Examples by Fast Gradient Sign"
   ]
  },
  {
   "cell_type": "code",
   "execution_count": null,
   "id": "intended-clock",
   "metadata": {
    "slideshow": {
     "slide_type": "skip"
    }
   },
   "outputs": [],
   "source": [
    "from IPython.display import clear_output, display\n",
    "import numpy as np\n",
    "import matplotlib.pyplot as plt\n",
    "\n",
    "import torch as t\n",
    "from torch.nn import Sequential, Linear, ReLU, LeakyReLU\n",
    "import torchvision\n",
    "\n",
    "import os\n",
    "\n",
    "import utils as u"
   ]
  },
  {
   "cell_type": "code",
   "execution_count": null,
   "id": "caroline-steel",
   "metadata": {
    "slideshow": {
     "slide_type": "skip"
    }
   },
   "outputs": [],
   "source": [
    "%matplotlib inline"
   ]
  },
  {
   "cell_type": "code",
   "execution_count": null,
   "id": "manufactured-aggregate",
   "metadata": {
    "slideshow": {
     "slide_type": "skip"
    }
   },
   "outputs": [],
   "source": [
    "if t.cuda.is_available():\n",
    "    if t.cuda.device_count()>1:\n",
    "        device = t.device('cuda:1')\n",
    "    else:\n",
    "        device = t.device('cuda')   \n",
    "else:\n",
    "    device = t.device('cpu')"
   ]
  },
  {
   "cell_type": "code",
   "execution_count": null,
   "id": "weekly-denial",
   "metadata": {
    "slideshow": {
     "slide_type": "skip"
    }
   },
   "outputs": [],
   "source": [
    "#device=t.device('cpu')"
   ]
  },
  {
   "cell_type": "markdown",
   "id": "median-diabetes",
   "metadata": {
    "slideshow": {
     "slide_type": "slide"
    }
   },
   "source": [
    "## MNIST "
   ]
  },
  {
   "cell_type": "code",
   "execution_count": null,
   "id": "formed-schema",
   "metadata": {},
   "outputs": [],
   "source": [
    "dl_train = t.utils.data.DataLoader(\n",
    "    torchvision.datasets.MNIST('./data/mnist', train=True, download=True))\n",
    "\n",
    "dl_test  = t.utils.data.DataLoader(\n",
    "    torchvision.datasets.MNIST('./data/mnist', train=False, download=True))"
   ]
  },
  {
   "cell_type": "code",
   "execution_count": null,
   "id": "musical-comedy",
   "metadata": {
    "slideshow": {
     "slide_type": "skip"
    }
   },
   "outputs": [],
   "source": [
    "mnist_train_data   = dl_train.dataset.data.to(dtype=t.float32).reshape(-1,28*28)/255.0\n",
    "mnist_train_labels = dl_train.dataset.targets"
   ]
  },
  {
   "cell_type": "code",
   "execution_count": null,
   "id": "appointed-briefs",
   "metadata": {
    "slideshow": {
     "slide_type": "skip"
    }
   },
   "outputs": [],
   "source": [
    "mnist_test_data   = dl_test.dataset.data.to(dtype=t.float32).reshape(-1,28*28)/255.0\n",
    "mnist_test_labels = dl_test.dataset.targets"
   ]
  },
  {
   "cell_type": "code",
   "execution_count": null,
   "id": "italic-christianity",
   "metadata": {
    "slideshow": {
     "slide_type": "slide"
    }
   },
   "outputs": [],
   "source": [
    "train_dataset = t.utils.data.TensorDataset(mnist_train_data, mnist_train_labels)\n",
    "test_dataset = t.utils.data.TensorDataset(mnist_test_data, mnist_test_labels)"
   ]
  },
  {
   "cell_type": "code",
   "execution_count": null,
   "id": "received-advertising",
   "metadata": {
    "slideshow": {
     "slide_type": "fragment"
    }
   },
   "outputs": [],
   "source": [
    "train_loader = t.utils.data.DataLoader(train_dataset, batch_size=128)"
   ]
  },
  {
   "cell_type": "code",
   "execution_count": null,
   "id": "limiting-slovakia",
   "metadata": {
    "slideshow": {
     "slide_type": "slide"
    }
   },
   "outputs": [],
   "source": [
    "if os.path.isfile('mnist_home_model.pt'):\n",
    "    model = t.load('mnist_home_model.pt')\n",
    "    pretrained = True\n",
    "else:        \n",
    "    model = utils.make_model(32, drop=0.0)\n",
    "    model.apply(u.init_layer)\n",
    "    pretrained = False\n",
    "    "
   ]
  },
  {
   "cell_type": "code",
   "execution_count": null,
   "id": "joint-amount",
   "metadata": {
    "slideshow": {
     "slide_type": "skip"
    }
   },
   "outputs": [],
   "source": [
    "model.to(device)"
   ]
  },
  {
   "cell_type": "code",
   "execution_count": null,
   "id": "vanilla-courtesy",
   "metadata": {
    "slideshow": {
     "slide_type": "fragment"
    }
   },
   "outputs": [],
   "source": [
    "u.accuracy(model, test_dataset[:][0], test_dataset[:][1])"
   ]
  },
  {
   "cell_type": "code",
   "execution_count": null,
   "id": "worldwide-mineral",
   "metadata": {
    "slideshow": {
     "slide_type": "slide"
    }
   },
   "outputs": [],
   "source": [
    "ce = t.nn.CrossEntropyLoss()"
   ]
  },
  {
   "cell_type": "code",
   "execution_count": null,
   "id": "marine-wright",
   "metadata": {
    "slideshow": {
     "slide_type": "skip"
    }
   },
   "outputs": [],
   "source": [
    "optimizer = t.optim.Adam(model.parameters(), lr=0.0002)"
   ]
  },
  {
   "cell_type": "code",
   "execution_count": null,
   "id": "challenging-retirement",
   "metadata": {
    "slideshow": {
     "slide_type": "skip"
    }
   },
   "outputs": [],
   "source": [
    "%%time\n",
    "if not pretrained:\n",
    "    err_train=[]\n",
    "    err_valid=[]\n",
    "    for epoch in range(50):    \n",
    "        for datum in train_loader:\n",
    "            optimizer.zero_grad()\n",
    "            (features,target) = datum\n",
    "            pred = model(features)\n",
    "            loss = ce(pred, target)\n",
    "            loss.backward()\n",
    "            optimizer.step()\n",
    "\n",
    "        with t.no_grad():\n",
    "            vpred  = model(test_dataset[:][0])\n",
    "            vloss  = ce(vpred,test_dataset[:][1])\n",
    "            err_valid.append(vloss)\n",
    "            pred  = model(train_dataset[:][0])\n",
    "            loss  = ce(pred,train_dataset[:][1])\n",
    "            err_train.append(loss)\n",
    "        clear_output()\n",
    "        print(\"epoch %d %f %f %f %f\" % \n",
    "              (epoch, loss, vloss, \n",
    "                accuracy(model, train_dataset[:][0],  train_dataset[:][1]),\n",
    "               accuracy(model, test_dataset[:][0],  test_dataset[:][1])\n",
    "                                       )   )\n",
    "\n",
    "    plt.plot(err_train,c='b')\n",
    "    plt.plot(err_valid,c='g')"
   ]
  },
  {
   "cell_type": "code",
   "execution_count": null,
   "id": "organized-occasions",
   "metadata": {
    "slideshow": {
     "slide_type": "fragment"
    }
   },
   "outputs": [],
   "source": [
    "vpred  = model(test_dataset[:][0])\n",
    "vloss  = ce(vpred,test_dataset[:][1])\n",
    "pred  = model(train_dataset[:][0])\n",
    "loss  = ce(pred,train_dataset[:][1])\n",
    "print(loss.item(), vloss.item())"
   ]
  },
  {
   "cell_type": "code",
   "execution_count": null,
   "id": "featured-termination",
   "metadata": {
    "slideshow": {
     "slide_type": "fragment"
    }
   },
   "outputs": [],
   "source": [
    "print(u.accuracy(model, test_dataset[:][0],  test_dataset[:][1]) )\n",
    "print(u.accuracy(model, train_dataset[:][0], train_dataset[:][1]) )"
   ]
  },
  {
   "cell_type": "code",
   "execution_count": null,
   "id": "similar-printer",
   "metadata": {
    "slideshow": {
     "slide_type": "skip"
    }
   },
   "outputs": [],
   "source": [
    "if not os.path.isfile('mnist_home_model.pt'):\n",
    "    t.save(model,\"mnist_home_model.pt\")"
   ]
  },
  {
   "cell_type": "code",
   "execution_count": null,
   "id": "thorough-somewhere",
   "metadata": {
    "slideshow": {
     "slide_type": "slide"
    }
   },
   "outputs": [],
   "source": [
    "u.model_detach(model)"
   ]
  },
  {
   "cell_type": "code",
   "execution_count": null,
   "id": "asian-procurement",
   "metadata": {
    "slideshow": {
     "slide_type": "slide"
    }
   },
   "outputs": [],
   "source": [
    "idx = 455\n",
    "X = train_dataset[idx:idx+1][0].clone()\n",
    "L = train_dataset[idx:idx+1][1].clone()"
   ]
  },
  {
   "cell_type": "code",
   "execution_count": null,
   "id": "electronic-context",
   "metadata": {
    "slideshow": {
     "slide_type": "-"
    }
   },
   "outputs": [],
   "source": [
    "plt.imshow(X.data.cpu().numpy().reshape(28,28), cmap='Greys')\n",
    "print(L.item())"
   ]
  },
  {
   "cell_type": "code",
   "execution_count": null,
   "id": "worthy-reconstruction",
   "metadata": {},
   "outputs": [],
   "source": [
    "pred = model(X)\n",
    "ce(pred,L)"
   ]
  },
  {
   "cell_type": "code",
   "execution_count": null,
   "id": "prescription-investigator",
   "metadata": {},
   "outputs": [],
   "source": [
    "u.prediction(model, X)"
   ]
  },
  {
   "cell_type": "markdown",
   "id": "efficient-creation",
   "metadata": {
    "slideshow": {
     "slide_type": "slide"
    }
   },
   "source": [
    "## Noise"
   ]
  },
  {
   "cell_type": "code",
   "execution_count": null,
   "id": "moved-perth",
   "metadata": {
    "slideshow": {
     "slide_type": "fragment"
    }
   },
   "outputs": [],
   "source": [
    "eta = t.empty_like(X).normal_(0,0.1)"
   ]
  },
  {
   "cell_type": "code",
   "execution_count": null,
   "id": "limiting-reservation",
   "metadata": {
    "slideshow": {
     "slide_type": "fragment"
    }
   },
   "outputs": [],
   "source": [
    "X_noisy = t.clamp(X+eta,0,1)"
   ]
  },
  {
   "cell_type": "code",
   "execution_count": null,
   "id": "cross-reset",
   "metadata": {
    "slideshow": {
     "slide_type": "fragment"
    }
   },
   "outputs": [],
   "source": [
    "plt.imshow(X_noisy.detach().numpy().reshape(28,28), cmap='Greys')"
   ]
  },
  {
   "cell_type": "code",
   "execution_count": null,
   "id": "fuzzy-latin",
   "metadata": {
    "slideshow": {
     "slide_type": "fragment"
    }
   },
   "outputs": [],
   "source": [
    "u.prediction(model, X_noisy)"
   ]
  },
  {
   "cell_type": "code",
   "execution_count": null,
   "id": "vulnerable-arkansas",
   "metadata": {
    "slideshow": {
     "slide_type": "slide"
    }
   },
   "outputs": [],
   "source": [
    "%time\n",
    "test_noisy = test_dataset[:][0]+t.empty_like(test_dataset[:][0]).normal_(0.0, 0.1)\n",
    "test_noisy = test_noisy.to(device);"
   ]
  },
  {
   "cell_type": "code",
   "execution_count": null,
   "id": "iraqi-laugh",
   "metadata": {
    "slideshow": {
     "slide_type": "fragment"
    }
   },
   "outputs": [],
   "source": [
    "u.accuracy(model, test_noisy, test_dataset[:][1])"
   ]
  },
  {
   "cell_type": "markdown",
   "id": "judicial-diagnosis",
   "metadata": {
    "slideshow": {
     "slide_type": "slide"
    }
   },
   "source": [
    "## Linearty"
   ]
  },
  {
   "cell_type": "markdown",
   "id": "martial-gentleman",
   "metadata": {},
   "source": [
    "> \"Explaining and Harnessing Adversarial Examples\", Ian J. Goodfellow, Jonathon Shlens, Christian Szegedy [arXiv:1412.6572](https://arxiv.org/abs/1412.6572)"
   ]
  },
  {
   "cell_type": "markdown",
   "id": "different-player",
   "metadata": {
    "slideshow": {
     "slide_type": "slide"
    }
   },
   "source": [
    "$$\\newcommand{\\b}[1]{\\mathbf{#1}}$$\n",
    "$$  J(\\b{x}) = \\mathbf{w}\\cdot \\mathbf{x} $$"
   ]
  },
  {
   "cell_type": "markdown",
   "id": "historical-transaction",
   "metadata": {
    "slideshow": {
     "slide_type": "fragment"
    }
   },
   "source": [
    "$$J(\\b{x}+\\b\\delta)= \\mathbf{w}\\cdot \\mathbf{x} + \\mathbf{w}\\cdot \\mathbf{\\delta}$$"
   ]
  },
  {
   "cell_type": "code",
   "execution_count": null,
   "id": "excellent-providence",
   "metadata": {
    "slideshow": {
     "slide_type": "slide"
    }
   },
   "outputs": [],
   "source": [
    "w = np.random.uniform(-0.25, 0.25,1000)"
   ]
  },
  {
   "cell_type": "code",
   "execution_count": null,
   "id": "alpha-protocol",
   "metadata": {
    "slideshow": {
     "slide_type": "fragment"
    }
   },
   "outputs": [],
   "source": [
    "x = np.random.uniform(0, 1,1000)"
   ]
  },
  {
   "cell_type": "code",
   "execution_count": null,
   "id": "instant-technical",
   "metadata": {
    "slideshow": {
     "slide_type": "fragment"
    }
   },
   "outputs": [],
   "source": [
    "w @ x"
   ]
  },
  {
   "cell_type": "code",
   "execution_count": null,
   "id": "streaming-heater",
   "metadata": {
    "slideshow": {
     "slide_type": "slide"
    }
   },
   "outputs": [],
   "source": [
    "epsilon = 0.2"
   ]
  },
  {
   "cell_type": "code",
   "execution_count": null,
   "id": "quality-brook",
   "metadata": {
    "slideshow": {
     "slide_type": "fragment"
    }
   },
   "outputs": [],
   "source": [
    "noise = np.random.normal(0,epsilon, 1000)"
   ]
  },
  {
   "cell_type": "code",
   "execution_count": null,
   "id": "packed-transfer",
   "metadata": {
    "slideshow": {
     "slide_type": "fragment"
    }
   },
   "outputs": [],
   "source": [
    "w @(x+noise) - w @x"
   ]
  },
  {
   "cell_type": "code",
   "execution_count": null,
   "id": "upset-blowing",
   "metadata": {
    "slideshow": {
     "slide_type": "slide"
    }
   },
   "outputs": [],
   "source": [
    "J_sample =  np.random.normal(0,epsilon, (5000,1000))@w\n",
    "plt.hist(J_sample, bins=100, histtype='step');"
   ]
  },
  {
   "cell_type": "markdown",
   "id": "billion-practice",
   "metadata": {
    "slideshow": {
     "slide_type": "slide"
    }
   },
   "source": [
    "$$\\newcommand{\\sign}{\\operatorname{sign}}$$\n",
    "$$\\eta = \\epsilon\\sign \\b{w}$$"
   ]
  },
  {
   "cell_type": "markdown",
   "id": "pressing-proxy",
   "metadata": {
    "slideshow": {
     "slide_type": "fragment"
    }
   },
   "source": [
    "$$\\b{w}\\cdot\\b{\\eta} = \\epsilon\\sum_{i=1}^N |w_i|  \\sim \\epsilon N $$"
   ]
  },
  {
   "cell_type": "code",
   "execution_count": null,
   "id": "fitting-mortality",
   "metadata": {
    "slideshow": {
     "slide_type": "fragment"
    }
   },
   "outputs": [],
   "source": [
    "adv_noise = epsilon*np.sign(w)"
   ]
  },
  {
   "cell_type": "code",
   "execution_count": null,
   "id": "hairy-sarah",
   "metadata": {
    "slideshow": {
     "slide_type": "fragment"
    }
   },
   "outputs": [],
   "source": [
    "w @(x+adv_noise) - w @x"
   ]
  },
  {
   "cell_type": "markdown",
   "id": "higher-carol",
   "metadata": {
    "slideshow": {
     "slide_type": "slide"
    }
   },
   "source": [
    "### But Neural Networks are highly non-linear? Right?"
   ]
  },
  {
   "cell_type": "markdown",
   "id": "soviet-david",
   "metadata": {
    "slideshow": {
     "slide_type": "fragment"
    }
   },
   "source": [
    "### Wrong! Neural Networks are designed to be quite linear. "
   ]
  },
  {
   "cell_type": "markdown",
   "id": "animated-ukraine",
   "metadata": {
    "slideshow": {
     "slide_type": "slide"
    }
   },
   "source": [
    "### Fast Gradient Sign"
   ]
  },
  {
   "cell_type": "markdown",
   "id": "improving-williams",
   "metadata": {
    "slideshow": {
     "slide_type": "slide"
    }
   },
   "source": [
    "$$J(\\b{X}+\\b{\\delta}) \\approx J(\\b{X})+\\nabla_{\\b{X}} J(\\b{X})\\cdot\\b{\\delta}$$"
   ]
  },
  {
   "cell_type": "markdown",
   "id": "african-isolation",
   "metadata": {
    "slideshow": {
     "slide_type": "fragment"
    }
   },
   "source": [
    "$$\\newcommand{\\grad}{\\operatorname{grad}}$$\n",
    "$$\\nabla_{\\b{X}} J(\\b{X})=\\grad_{\\b{X}} J(\\b{X})\n",
    "\\equiv\\frac{\\partial J(\\b{X})}{\\partial {X_i}},\n",
    "\\quad i=1,\\ldots,N$$"
   ]
  },
  {
   "cell_type": "markdown",
   "id": "synthetic-milwaukee",
   "metadata": {
    "slideshow": {
     "slide_type": "fragment"
    }
   },
   "source": [
    "$$\\delta = \\epsilon \\sign \\nabla_{\\b{X}} J(\\b{X})$$"
   ]
  },
  {
   "cell_type": "code",
   "execution_count": null,
   "id": "generous-present",
   "metadata": {
    "slideshow": {
     "slide_type": "slide"
    }
   },
   "outputs": [],
   "source": [
    "idx = 899\n",
    "X = train_dataset[idx:idx+1][0].clone()\n",
    "L = train_dataset[idx:idx+1][1]\n",
    "print(L.item())"
   ]
  },
  {
   "cell_type": "code",
   "execution_count": null,
   "id": "beautiful-marsh",
   "metadata": {
    "slideshow": {
     "slide_type": "fragment"
    }
   },
   "outputs": [],
   "source": [
    "plt.imshow(X.data.cpu().numpy().reshape(28,28), cmap='Greys')\n",
    "plt.text(22,3,'%d' % (L,), fontsize=32);"
   ]
  },
  {
   "cell_type": "code",
   "execution_count": null,
   "id": "british-spirit",
   "metadata": {
    "slideshow": {
     "slide_type": "slide"
    }
   },
   "outputs": [],
   "source": [
    "def FGS(model,orig, label, eps):\n",
    "    orig.requires_grad_(True);\n",
    "    if orig.grad is not None:\n",
    "        orig.grad.zero_()\n",
    "    loss = ce(model(orig.reshape(1,-1)), label.view(1))\n",
    "    loss.backward() \n",
    "    XG = orig.grad\n",
    "    eta = eps*XG.sign()\n",
    "    orig.requires_grad_(False)\n",
    "    return (orig+eta)"
   ]
  },
  {
   "cell_type": "code",
   "execution_count": null,
   "id": "seventh-beverage",
   "metadata": {
    "slideshow": {
     "slide_type": "slide"
    }
   },
   "outputs": [],
   "source": [
    "%%time\n",
    "AdvX = FGS(model, X,L, 0.05)"
   ]
  },
  {
   "cell_type": "code",
   "execution_count": null,
   "id": "informational-trial",
   "metadata": {
    "slideshow": {
     "slide_type": "fragment"
    }
   },
   "outputs": [],
   "source": [
    "plt.imshow(AdvX.data.cpu().numpy().reshape(28,28), cmap='Greys')\n",
    "plt.text(22,3,'%d' % (L,), fontsize=32);"
   ]
  },
  {
   "cell_type": "code",
   "execution_count": null,
   "id": "noble-juvenile",
   "metadata": {
    "slideshow": {
     "slide_type": "fragment"
    }
   },
   "outputs": [],
   "source": [
    "u.prediction(model, AdvX)"
   ]
  },
  {
   "cell_type": "markdown",
   "id": "ancient-opportunity",
   "metadata": {
    "slideshow": {
     "slide_type": "skip"
    }
   },
   "source": [
    "t.save(X, 'real_5.pt')\n",
    "t.save(AdvX,'fake_4.pt')"
   ]
  },
  {
   "cell_type": "code",
   "execution_count": null,
   "id": "compact-scene",
   "metadata": {
    "slideshow": {
     "slide_type": "slide"
    }
   },
   "outputs": [],
   "source": [
    "%time\n",
    "test_adv = t.stack([FGS(model,x,l,0.05) for x,l in zip(test_dataset[:][0], test_dataset[:][1])],dim=0)\n",
    "test_adv=test_adv.to(device);"
   ]
  },
  {
   "cell_type": "code",
   "execution_count": null,
   "id": "mechanical-encyclopedia",
   "metadata": {
    "slideshow": {
     "slide_type": "fragment"
    }
   },
   "outputs": [],
   "source": [
    "u.accuracy(model, test_adv, test_dataset[:][1])"
   ]
  },
  {
   "cell_type": "code",
   "execution_count": null,
   "id": "treated-profit",
   "metadata": {
    "slideshow": {
     "slide_type": "slide"
    }
   },
   "outputs": [],
   "source": [
    "plt.imshow(test_adv[99].data.cpu().numpy().reshape(28,28), cmap='Greys')\n",
    "u.prediction(model,test_adv[99:100])"
   ]
  },
  {
   "cell_type": "code",
   "execution_count": null,
   "id": "verified-mailing",
   "metadata": {
    "slideshow": {
     "slide_type": "slide"
    }
   },
   "outputs": [],
   "source": [
    "eps =  np.linspace(-0.1,0.1, 100)\n",
    "\n",
    "X.requires_grad=True\n",
    "X.grad.data.zero_()\n",
    "out = model(X)\n",
    "loss = ce(out,L)\n",
    "loss.backward()\n",
    "grad_X = X.grad.data.view(-1)\n"
   ]
  },
  {
   "cell_type": "code",
   "execution_count": null,
   "id": "exciting-circus",
   "metadata": {
    "slideshow": {
     "slide_type": "slide"
    }
   },
   "outputs": [],
   "source": [
    "ls = []\n",
    "eta = grad_X.sign()\n",
    "#eta = t.ones(28*28)\n",
    "print(eta@grad_X)\n",
    "for e in eps:\n",
    "    out = model(X.detach()+e*eta)\n",
    "    loss = ce(out,L)\n",
    "    ls.append(loss.item())"
   ]
  },
  {
   "cell_type": "code",
   "execution_count": null,
   "id": "golden-fault",
   "metadata": {
    "slideshow": {
     "slide_type": "slide"
    }
   },
   "outputs": [],
   "source": [
    "plt.plot(eps, ls)"
   ]
  },
  {
   "cell_type": "code",
   "execution_count": null,
   "id": "smoking-holly",
   "metadata": {
    "slideshow": {
     "slide_type": "slide"
    }
   },
   "outputs": [],
   "source": [
    "outs =[]\n",
    "eta = grad_X.sign()\n",
    "for e in eps:\n",
    "    out = model(X.detach()+e*eta)\n",
    "    outs.append(out)\n",
    "\n",
    "outs = t.stack(outs,0)\n",
    "outs.squeeze_();"
   ]
  },
  {
   "cell_type": "code",
   "execution_count": null,
   "id": "independent-hands",
   "metadata": {
    "slideshow": {
     "slide_type": "slide"
    }
   },
   "outputs": [],
   "source": [
    "\n",
    "for i in range(10):\n",
    "    plt.plot(eps,outs.numpy()[:,i], label='%d' % (i,))\n",
    "plt.axvline(0)   \n",
    "plt.axvline(0.05)\n",
    "plt.legend()    "
   ]
  },
  {
   "cell_type": "markdown",
   "id": "backed-british",
   "metadata": {
    "slideshow": {
     "slide_type": "slide"
    }
   },
   "source": [
    "### But those examples are targeted for specific network?"
   ]
  },
  {
   "cell_type": "markdown",
   "id": "tribal-phone",
   "metadata": {
    "slideshow": {
     "slide_type": "fragment"
    }
   },
   "source": [
    "### Not really ..."
   ]
  },
  {
   "cell_type": "markdown",
   "id": "respected-details",
   "metadata": {
    "slideshow": {
     "slide_type": "slide"
    }
   },
   "source": [
    "## Generalisation"
   ]
  },
  {
   "cell_type": "code",
   "execution_count": null,
   "id": "distinct-connection",
   "metadata": {
    "slideshow": {
     "slide_type": "slide"
    }
   },
   "outputs": [],
   "source": [
    "if os.path.isfile('another_mnist.pt'):\n",
    "    another_model = t.load('another_mnist.pt')\n",
    "    another_pretrained = True\n",
    "else:\n",
    "    another_model = u.make_model(64,0.2)\n",
    "\n",
    "    another_model.apply(u.init_layer)\n",
    "    another_pretrained = False"
   ]
  },
  {
   "cell_type": "code",
   "execution_count": null,
   "id": "christian-bradley",
   "metadata": {
    "slideshow": {
     "slide_type": "skip"
    }
   },
   "outputs": [],
   "source": [
    "another_optimizer=t.optim.Adam(another_model.parameters(), lr=0.0002, betas=[0.5, 0.999])"
   ]
  },
  {
   "cell_type": "code",
   "execution_count": null,
   "id": "monetary-chemistry",
   "metadata": {
    "slideshow": {
     "slide_type": "skip"
    }
   },
   "outputs": [],
   "source": [
    "\n",
    "if not another_pretrained:\n",
    "    err_train=[]\n",
    "    err_valid=[]\n",
    "    for epoch in range(20):    \n",
    "        for datum in train_loader:\n",
    "            another_optimizer.zero_grad()\n",
    "            (features,target) = datum\n",
    "            pred = another_model(features)\n",
    "            loss = ce(pred, target)\n",
    "            loss.backward()\n",
    "            another_optimizer.step()\n",
    "\n",
    "        with t.no_grad():\n",
    "            vpred  = another_model(test_dataset[:][0])\n",
    "            vloss  = ce(vpred,test_dataset[:][1])\n",
    "            err_valid.append(vloss)\n",
    "            pred  = another_model(train_dataset[:][0])\n",
    "            loss  = ce(pred,train_dataset[:][1])\n",
    "            err_train.append(loss)\n",
    "        clear_output()\n",
    "        print(\"epoch %d %f %f %f\" % (epoch, loss, vloss,u.accuracy(another_model, test_dataset[:][0],  test_dataset[:][1])))   \n",
    "\n",
    "    plt.plot(err_train,c='b')\n",
    "    plt.plot(err_valid,c='g')"
   ]
  },
  {
   "cell_type": "code",
   "execution_count": null,
   "id": "automatic-green",
   "metadata": {
    "slideshow": {
     "slide_type": "skip"
    }
   },
   "outputs": [],
   "source": [
    "if not os.path.isfile('another_mnist.pt'):\n",
    "    t.save(another_model, 'another_mnist.pt')"
   ]
  },
  {
   "cell_type": "code",
   "execution_count": null,
   "id": "cellular-scholarship",
   "metadata": {
    "slideshow": {
     "slide_type": "slide"
    }
   },
   "outputs": [],
   "source": [
    "u.accuracy(another_model, test_dataset[:][0], test_dataset[:][1])"
   ]
  },
  {
   "cell_type": "code",
   "execution_count": null,
   "id": "mature-clearance",
   "metadata": {
    "slideshow": {
     "slide_type": "fragment"
    }
   },
   "outputs": [],
   "source": [
    "u.accuracy(another_model, test_adv, test_dataset[:][1])"
   ]
  },
  {
   "cell_type": "markdown",
   "id": "laden-restaurant",
   "metadata": {
    "slideshow": {
     "slide_type": "slide"
    }
   },
   "source": [
    "## Adversarial trening"
   ]
  },
  {
   "cell_type": "code",
   "execution_count": null,
   "id": "collect-dialogue",
   "metadata": {
    "slideshow": {
     "slide_type": "slide"
    }
   },
   "outputs": [],
   "source": [
    "%time\n",
    "train_adv = t.stack([FGS(model,x,l,0.05) for x,l in zip(train_dataset[:][0], \n",
    "                                                                train_dataset[:][1])],dim=0)\n",
    "train_adv = train_adv.to(device);"
   ]
  },
  {
   "cell_type": "code",
   "execution_count": null,
   "id": "saved-belle",
   "metadata": {
    "slideshow": {
     "slide_type": "fragment"
    }
   },
   "outputs": [],
   "source": [
    "adv_dataset = t.utils.data.TensorDataset(train_adv,train_dataset[:][1])"
   ]
  },
  {
   "cell_type": "code",
   "execution_count": null,
   "id": "alien-jenny",
   "metadata": {
    "slideshow": {
     "slide_type": "slide"
    }
   },
   "outputs": [],
   "source": [
    "combined_dataset = t.utils.data.ConcatDataset((train_dataset, adv_dataset))"
   ]
  },
  {
   "cell_type": "code",
   "execution_count": null,
   "id": "usual-justice",
   "metadata": {
    "slideshow": {
     "slide_type": "fragment"
    }
   },
   "outputs": [],
   "source": [
    "combined_loader = t.utils.data.DataLoader(combined_dataset, batch_size=128, shuffle=True)"
   ]
  },
  {
   "cell_type": "code",
   "execution_count": null,
   "id": "confused-security",
   "metadata": {
    "slideshow": {
     "slide_type": "fragment"
    }
   },
   "outputs": [],
   "source": [
    "u.model_atach(model)"
   ]
  },
  {
   "cell_type": "code",
   "execution_count": null,
   "id": "requested-tourist",
   "metadata": {
    "slideshow": {
     "slide_type": "slide"
    }
   },
   "outputs": [],
   "source": [
    "err_train=[]\n",
    "err_valid=[]\n",
    "for epoch in range(1,21):    \n",
    "    for datum in combined_loader:\n",
    "        optimizer.zero_grad()\n",
    "        (features,target) = datum\n",
    "        pred = model(features)\n",
    "        loss = ce(pred, target)\n",
    "        loss.backward()\n",
    "        optimizer.step()\n",
    "\n",
    "    with t.no_grad():\n",
    "        vpred  = model(test_dataset[:][0])\n",
    "        vloss  = ce(vpred,test_dataset[:][1])\n",
    "        err_valid.append(vloss)\n",
    "        pred  = model(train_dataset[:][0])\n",
    "        loss  = ce(pred,train_dataset[:][1])\n",
    "        err_train.append(loss)\n",
    "    clear_output()\n",
    "    print(\"epoch %d %f %f %f\" % (epoch, loss, vloss,u.accuracy(another_model, test_dataset[:][0],  test_dataset[:][1])))   "
   ]
  },
  {
   "cell_type": "code",
   "execution_count": null,
   "id": "constant-session",
   "metadata": {
    "slideshow": {
     "slide_type": "slide"
    }
   },
   "outputs": [],
   "source": [
    "plt.plot(err_train,c='b')\n",
    "plt.plot(err_valid,c='g')"
   ]
  },
  {
   "cell_type": "code",
   "execution_count": null,
   "id": "adaptive-pastor",
   "metadata": {
    "slideshow": {
     "slide_type": "slide"
    }
   },
   "outputs": [],
   "source": [
    "u.accuracy(model, test_dataset[:][0], test_dataset[:][1])"
   ]
  },
  {
   "cell_type": "code",
   "execution_count": null,
   "id": "tribal-emphasis",
   "metadata": {
    "slideshow": {
     "slide_type": "fragment"
    }
   },
   "outputs": [],
   "source": [
    "u.accuracy(model, test_adv, test_dataset[:][1])"
   ]
  },
  {
   "cell_type": "code",
   "execution_count": null,
   "id": "geological-absorption",
   "metadata": {
    "slideshow": {
     "slide_type": "fragment"
    }
   },
   "outputs": [],
   "source": [
    "%time\n",
    "test_adv = t.stack([FGS(model,x,l,0.05) for x,l in zip(test_dataset[:][0], test_dataset[:][1])],dim=0)\n",
    "test_adv  =test_adv.to(device);"
   ]
  },
  {
   "cell_type": "code",
   "execution_count": null,
   "id": "improved-syracuse",
   "metadata": {
    "slideshow": {
     "slide_type": "fragment"
    }
   },
   "outputs": [],
   "source": [
    "u.accuracy(model, test_adv, test_dataset[:][1])"
   ]
  },
  {
   "cell_type": "markdown",
   "id": "structured-crown",
   "metadata": {
    "slideshow": {
     "slide_type": "slide"
    }
   },
   "source": [
    "## Targeted Fast Gradient Sign (T-FGS)"
   ]
  },
  {
   "cell_type": "markdown",
   "id": "organized-tiger",
   "metadata": {},
   "source": [
    "> \"Adversarial examples in the physical world\", Alexey Kurakin, Ian Goodfellow, Samy Bengio [arXiv:1607.02533](https://arxiv.org/abs/1607.02533)"
   ]
  },
  {
   "cell_type": "code",
   "execution_count": null,
   "id": "bibliographic-prospect",
   "metadata": {
    "slideshow": {
     "slide_type": "slide"
    }
   },
   "outputs": [],
   "source": [
    "model = t.load('mnist_home_model.pt')\n",
    "u.model_detach(model)"
   ]
  },
  {
   "cell_type": "code",
   "execution_count": null,
   "id": "alpine-studio",
   "metadata": {
    "slideshow": {
     "slide_type": "slide"
    }
   },
   "outputs": [],
   "source": [
    "idx = 89\n",
    "Y = train_dataset[idx:idx+1][0].clone()\n",
    "L = train_dataset[idx:idx+1][1]\n",
    "print(L.item())"
   ]
  },
  {
   "cell_type": "code",
   "execution_count": null,
   "id": "attached-conditioning",
   "metadata": {
    "slideshow": {
     "slide_type": "fragment"
    }
   },
   "outputs": [],
   "source": [
    "plt.imshow(Y.numpy().reshape(28,28), cmap='Greys')"
   ]
  },
  {
   "cell_type": "code",
   "execution_count": null,
   "id": "human-bones",
   "metadata": {
    "slideshow": {
     "slide_type": "fragment"
    }
   },
   "outputs": [],
   "source": [
    "u.prediction(model, Y)"
   ]
  },
  {
   "cell_type": "code",
   "execution_count": null,
   "id": "pressed-trader",
   "metadata": {
    "slideshow": {
     "slide_type": "slide"
    }
   },
   "outputs": [],
   "source": [
    "T = t.LongTensor([3])"
   ]
  },
  {
   "cell_type": "markdown",
   "id": "corresponding-venice",
   "metadata": {
    "slideshow": {
     "slide_type": "fragment"
    }
   },
   "source": [
    "$$ J(X, T) $$"
   ]
  },
  {
   "cell_type": "markdown",
   "id": "perfect-doubt",
   "metadata": {
    "slideshow": {
     "slide_type": "fragment"
    }
   },
   "source": [
    "$$ X-\\epsilon \\nabla_X J(X, T) $$"
   ]
  },
  {
   "cell_type": "code",
   "execution_count": null,
   "id": "specialized-numbers",
   "metadata": {
    "slideshow": {
     "slide_type": "slide"
    }
   },
   "outputs": [],
   "source": [
    "def T_FGS(model,orig, label, target, eps):\n",
    "    orig.requires_grad_(True);\n",
    "    if orig.grad is not None:\n",
    "        orig.grad.zero_()\n",
    "    loss = ce(model(orig.reshape(1,-1)), target.view(1))\n",
    "    loss.backward() \n",
    "    XG = orig.grad\n",
    "    eta = eps*XG.sign()\n",
    "    orig.requires_grad_(False)\n",
    "    return t.clamp(orig-eta, 0,1)"
   ]
  },
  {
   "cell_type": "code",
   "execution_count": null,
   "id": "heavy-decline",
   "metadata": {
    "slideshow": {
     "slide_type": "slide"
    }
   },
   "outputs": [],
   "source": [
    "Y_adv = T_FGS(model, Y,L,T,0.15)"
   ]
  },
  {
   "cell_type": "code",
   "execution_count": null,
   "id": "isolated-married",
   "metadata": {
    "slideshow": {
     "slide_type": "fragment"
    }
   },
   "outputs": [],
   "source": [
    "plt.imshow(Y_adv.numpy().reshape(28,28), cmap='Greys')"
   ]
  },
  {
   "cell_type": "code",
   "execution_count": null,
   "id": "dense-government",
   "metadata": {
    "slideshow": {
     "slide_type": "fragment"
    }
   },
   "outputs": [],
   "source": [
    "u.prediction(model,Y_adv)"
   ]
  },
  {
   "cell_type": "markdown",
   "id": "animal-invitation",
   "metadata": {
    "slideshow": {
     "slide_type": "slide"
    }
   },
   "source": [
    "$$ X_0=X$$\n",
    "$$ X_{i+1}-\\epsilon \\nabla_X J(X_i, T) $$"
   ]
  },
  {
   "cell_type": "code",
   "execution_count": null,
   "id": "conceptual-freedom",
   "metadata": {
    "slideshow": {
     "slide_type": "slide"
    }
   },
   "outputs": [],
   "source": [
    "def T_FGS_I(model,orig, label, target, eps, n_iter=3):\n",
    "    i_eps = eps/n_iter\n",
    "    adv = orig\n",
    "    for i in range(n_iter):\n",
    "        adv=T_FGS(model, adv, label, target, i_eps)\n",
    "    return adv    \n",
    "        \n",
    "    "
   ]
  },
  {
   "cell_type": "code",
   "execution_count": null,
   "id": "going-devon",
   "metadata": {
    "slideshow": {
     "slide_type": "slide"
    }
   },
   "outputs": [],
   "source": [
    "Y_adv = T_FGS_I(model, Y,L,T,0.1)"
   ]
  },
  {
   "cell_type": "code",
   "execution_count": null,
   "id": "powered-chess",
   "metadata": {
    "slideshow": {
     "slide_type": "fragment"
    }
   },
   "outputs": [],
   "source": [
    "plt.imshow(Y_adv.numpy().reshape(28,28), cmap='Greys');"
   ]
  },
  {
   "cell_type": "code",
   "execution_count": null,
   "id": "southeast-mississippi",
   "metadata": {
    "slideshow": {
     "slide_type": "fragment"
    }
   },
   "outputs": [],
   "source": [
    "u.prediction(model,Y_adv)"
   ]
  },
  {
   "cell_type": "code",
   "execution_count": null,
   "id": "duplicate-outreach",
   "metadata": {},
   "outputs": [],
   "source": []
  },
  {
   "cell_type": "code",
   "execution_count": null,
   "id": "annual-vampire",
   "metadata": {},
   "outputs": [],
   "source": []
  }
 ],
 "metadata": {
  "jupytext": {
   "cell_metadata_json": true
  },
  "kernelspec": {
   "display_name": "Python 3",
   "language": "python",
   "name": "python3"
  }
 },
 "nbformat": 4,
 "nbformat_minor": 5
}
