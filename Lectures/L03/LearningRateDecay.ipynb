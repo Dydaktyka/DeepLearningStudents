{
 "cells": [
  {
   "cell_type": "code",
   "execution_count": null,
   "metadata": {
    "slideshow": {
     "slide_type": "skip"
    }
   },
   "outputs": [],
   "source": [
    "import numpy as np\n",
    "import torch\n",
    "import matplotlib.pyplot as plt\n",
    "%matplotlib inline"
   ]
  },
  {
   "cell_type": "markdown",
   "metadata": {
    "slideshow": {
     "slide_type": "slide"
    }
   },
   "source": [
    "## Learning Rate Decay"
   ]
  },
  {
   "cell_type": "markdown",
   "metadata": {},
   "source": [
    "[Setting the learning rate of your neural network.](https://www.jeremyjordan.me/nn-learning-rate/)"
   ]
  },
  {
   "cell_type": "code",
   "execution_count": null,
   "metadata": {
    "slideshow": {
     "slide_type": "slide"
    }
   },
   "outputs": [],
   "source": [
    "def f(x, a = 1):\n",
    "    return 0.5*a*x*x +0.05*x*x*x\n",
    "\n",
    "def grad_f(x, a=1):\n",
    "    return a*x +0.05/3*x*x"
   ]
  },
  {
   "cell_type": "code",
   "execution_count": null,
   "metadata": {
    "slideshow": {
     "slide_type": "slide"
    }
   },
   "outputs": [],
   "source": [
    "x  = 2\n",
    "a=13/3.0\n",
    "xs = np.linspace(-4,4,200)\n",
    "a=13/3.0\n",
    "ys = f(xs,a)\n",
    "fig, ax = plt.subplots(1,3,figsize=(24,8))\n",
    "\n",
    "ys = f(xs,a)\n",
    "etas = [0.1, 0.2, 0.48]\n",
    "for k in range(len(etas)):\n",
    "    x=2\n",
    "    ax[k].plot(xs,ys)\n",
    "    ax[k].scatter([x], [f(x,a)],facecolor='green', s=100)\n",
    " \n",
    "    for i in  range(7):\n",
    "        x_next= x - etas[k]*grad_f(x,a)\n",
    "        ax[k].plot([x, x_next], [f(x,a),f(x_next,a)],c='red')\n",
    "        x= x_next\n",
    "        ax[k].scatter([x], [f(x,a)],c='red')            \n",
    "plt.close()"
   ]
  },
  {
   "cell_type": "code",
   "execution_count": null,
   "metadata": {
    "slideshow": {
     "slide_type": "slide"
    }
   },
   "outputs": [],
   "source": [
    "fig"
   ]
  },
  {
   "cell_type": "code",
   "execution_count": null,
   "metadata": {
    "slideshow": {
     "slide_type": "slide"
    }
   },
   "outputs": [],
   "source": [
    "t = torch.FloatTensor([0])\n",
    "t.requires_grad_(True)"
   ]
  },
  {
   "cell_type": "code",
   "execution_count": null,
   "metadata": {
    "slideshow": {
     "slide_type": "slide"
    }
   },
   "outputs": [],
   "source": [
    "sgd = torch.optim.SGD([{'params': [t],'initial_lr':0.1, 'lr':0.05}])\n",
    "scheduler = torch.optim.lr_scheduler.StepLR(sgd,4,gamma=0.5)"
   ]
  },
  {
   "cell_type": "code",
   "execution_count": null,
   "metadata": {
    "slideshow": {
     "slide_type": "fragment"
    }
   },
   "outputs": [],
   "source": [
    "sgd.param_groups[0]"
   ]
  },
  {
   "cell_type": "code",
   "execution_count": null,
   "metadata": {
    "slideshow": {
     "slide_type": "fragment"
    }
   },
   "outputs": [],
   "source": [
    "lrs = []\n",
    "for e in range(40):\n",
    "    sgd.zero_grad()\n",
    "    sgd.step()\n",
    "    lrs.append( sgd.param_groups[0]['lr'])\n",
    "    scheduler.step()"
   ]
  },
  {
   "cell_type": "code",
   "execution_count": null,
   "metadata": {
    "slideshow": {
     "slide_type": "slide"
    }
   },
   "outputs": [],
   "source": [
    "plt.scatter(range(len(lrs)),lrs)\n",
    "plt.grid();"
   ]
  },
  {
   "cell_type": "code",
   "execution_count": null,
   "metadata": {
    "slideshow": {
     "slide_type": "slide"
    }
   },
   "outputs": [],
   "source": [
    "def decay(sched, n_epochs):\n",
    "    lrs = []\n",
    "    for e in range(n_epochs):\n",
    "        sgd.zero_grad()\n",
    "        sgd.step()\n",
    "        lrs.append( sgd.param_groups[0]['lr'])\n",
    "        sched.step()\n",
    "    return lrs    "
   ]
  },
  {
   "cell_type": "code",
   "execution_count": null,
   "metadata": {
    "slideshow": {
     "slide_type": "slide"
    }
   },
   "outputs": [],
   "source": [
    "sgd = torch.optim.SGD([{'params': [t],'initial_lr':0.01, 'lr':0.05}])\n",
    "scheduler =  torch.optim.lr_scheduler.ExponentialLR(sgd,gamma=0.9)\n",
    "lrs = decay(scheduler,40)\n",
    "plt.plot(lrs);"
   ]
  },
  {
   "cell_type": "markdown",
   "metadata": {
    "slideshow": {
     "slide_type": "slide"
    }
   },
   "source": [
    "[SGDR: Stochastic Gradient Descent with Warm Restarts](https://arxiv.org/abs/1608.03983)"
   ]
  },
  {
   "cell_type": "code",
   "execution_count": null,
   "metadata": {
    "slideshow": {
     "slide_type": "-"
    }
   },
   "outputs": [],
   "source": [
    "sgd = torch.optim.SGD([{'params': [t],'initial_lr':0.01, 'lr':0.05}])\n",
    "scheduler =  torch.optim.lr_scheduler.CosineAnnealingLR(sgd,40,eta_min=0.0001)\n",
    "lrs = decay(scheduler,40)\n",
    "plt.plot(lrs);"
   ]
  },
  {
   "cell_type": "markdown",
   "metadata": {
    "slideshow": {
     "slide_type": "slide"
    }
   },
   "source": [
    "[SGDR: Stochastic Gradient Descent with Warm Restarts](https://arxiv.org/abs/1608.03983)"
   ]
  },
  {
   "cell_type": "code",
   "execution_count": null,
   "metadata": {
    "slideshow": {
     "slide_type": "-"
    }
   },
   "outputs": [],
   "source": [
    "sgd = torch.optim.SGD([{'params': [t],'initial_lr':0.01, 'lr':0.05}])\n",
    "scheduler =  torch.optim.lr_scheduler.CosineAnnealingWarmRestarts(sgd, 100, T_mult=1, eta_min=0.001)\n",
    "lrs = decay(scheduler,600)\n",
    "plt.plot(lrs);"
   ]
  },
  {
   "cell_type": "markdown",
   "metadata": {
    "slideshow": {
     "slide_type": "slide"
    }
   },
   "source": [
    "[Cyclical Learning Rates for Training Neural Networks](https://arxiv.org/abs/1506.01186)"
   ]
  },
  {
   "cell_type": "code",
   "execution_count": null,
   "metadata": {
    "slideshow": {
     "slide_type": "-"
    }
   },
   "outputs": [],
   "source": [
    "sgd = torch.optim.SGD([{'params': [t],'initial_lr':0.0001, 'lr':0.05}])\n",
    "scheduler =  torch.optim.lr_scheduler.CyclicLR(sgd, 0.0001, 0.1, step_size_up=100, step_size_down=100, mode='exp_range', gamma=0.999)\n",
    "lrs = decay(scheduler,600)\n",
    "plt.plot(lrs);"
   ]
  },
  {
   "cell_type": "markdown",
   "metadata": {
    "slideshow": {
     "slide_type": "slide"
    }
   },
   "source": [
    "[Super-Convergence: Very Fast Training of Neural Networks Using Large Learning Rates](https://arxiv.org/abs/1708.07120)"
   ]
  },
  {
   "cell_type": "code",
   "execution_count": null,
   "metadata": {
    "slideshow": {
     "slide_type": "-"
    }
   },
   "outputs": [],
   "source": [
    "sgd = torch.optim.SGD([{'params': [t],'initial_lr':0.01, 'lr':0.05}])\n",
    "scheduler =  torch.optim.lr_scheduler.OneCycleLR(sgd,  0.1, total_steps=600, anneal_strategy='cos')\n",
    "lrs = decay(scheduler,600)\n",
    "plt.plot(lrs);"
   ]
  },
  {
   "cell_type": "code",
   "execution_count": null,
   "metadata": {},
   "outputs": [],
   "source": []
  }
 ],
 "metadata": {
  "celltoolbar": "Slideshow",
  "jupytext": {
   "cell_metadata_json": true
  },
  "kernelspec": {
   "display_name": "Python 3",
   "language": "python",
   "name": "python3"
  },
  "language_info": {
   "codemirror_mode": {
    "name": "ipython",
    "version": 3
   },
   "file_extension": ".py",
   "mimetype": "text/x-python",
   "name": "python",
   "nbconvert_exporter": "python",
   "pygments_lexer": "ipython3",
   "version": "3.8.3"
  }
 },
 "nbformat": 4,
 "nbformat_minor": 4
}
