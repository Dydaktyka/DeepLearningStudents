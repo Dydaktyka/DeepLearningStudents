{
 "cells": [
  {
   "cell_type": "code",
   "execution_count": null,
   "metadata": {
    "slideshow": {
     "slide_type": "skip"
    }
   },
   "outputs": [],
   "source": [
    "%load_ext autoreload\n",
    "%autoreload 2"
   ]
  },
  {
   "cell_type": "markdown",
   "metadata": {
    "slideshow": {
     "slide_type": "skip"
    }
   },
   "source": [
    "<img src='../img/boromir.png'>"
   ]
  },
  {
   "cell_type": "code",
   "execution_count": null,
   "metadata": {
    "slideshow": {
     "slide_type": "skip"
    }
   },
   "outputs": [],
   "source": [
    "import numpy as np\n",
    "import matplotlib.pyplot as plt\n",
    "%matplotlib inline\n",
    "import torch, torchvision\n",
    "import utils"
   ]
  },
  {
   "cell_type": "markdown",
   "metadata": {
    "slideshow": {
     "slide_type": "slide"
    }
   },
   "source": [
    "# Optimizers"
   ]
  },
  {
   "cell_type": "markdown",
   "metadata": {},
   "source": [
    "[An overview of gradient descent optimization algorithms](http://ruder.io/optimizing-gradient-descent/)"
   ]
  },
  {
   "cell_type": "markdown",
   "metadata": {
    "slideshow": {
     "slide_type": "slide"
    }
   },
   "source": [
    "## Gradient Descent"
   ]
  },
  {
   "cell_type": "markdown",
   "metadata": {
    "slideshow": {
     "slide_type": "fragment"
    }
   },
   "source": [
    "$$\\begin{align}\n",
    "\\theta_{t+1}& = \\theta^{t}-\\eta\\nabla_\\theta L(\\theta_t)\n",
    "\\end{align}\n",
    "$$"
   ]
  },
  {
   "cell_type": "code",
   "execution_count": null,
   "metadata": {
    "slideshow": {
     "slide_type": "slide"
    }
   },
   "outputs": [],
   "source": [
    "data = np.load(\"../data/sgd_data.npy\").astype('float32')"
   ]
  },
  {
   "cell_type": "code",
   "execution_count": null,
   "metadata": {},
   "outputs": [],
   "source": [
    "sin_example = utils.SinFitExample(data)"
   ]
  },
  {
   "cell_type": "code",
   "execution_count": null,
   "metadata": {},
   "outputs": [],
   "source": [
    "sin_example.display_data();"
   ]
  },
  {
   "cell_type": "code",
   "execution_count": null,
   "metadata": {
    "slideshow": {
     "slide_type": "skip"
    }
   },
   "outputs": [],
   "source": [
    "def fitf(x,o,t):\n",
    "    return np.sin(x*o+t)\n",
    "\n",
    "def fitf_tensor(x,o,t):\n",
    "    return np.moveaxis(np.sin(np.tensordot(np.atleast_1d(x),o,0)+t),0,-1)\n",
    "\n",
    "def mse(f, x, y, o, t):\n",
    "        err = f(x,o,t)-y\n",
    "        return 0.5*np.sum(err*err, axis=-1)/len(x)"
   ]
  },
  {
   "cell_type": "code",
   "execution_count": null,
   "metadata": {
    "slideshow": {
     "slide_type": "skip"
    }
   },
   "outputs": [],
   "source": [
    "t_rxs = torch.from_numpy(data[:400,0])\n",
    "t_rys = torch.from_numpy(data[:400,1])"
   ]
  },
  {
   "cell_type": "code",
   "execution_count": null,
   "metadata": {
    "slideshow": {
     "slide_type": "skip"
    }
   },
   "outputs": [],
   "source": [
    "loss_f = torch.nn.MSELoss()"
   ]
  },
  {
   "cell_type": "code",
   "execution_count": null,
   "metadata": {
    "slideshow": {
     "slide_type": "slide"
    }
   },
   "outputs": [],
   "source": [
    "rdataset = torch.utils.data.TensorDataset(t_rxs, t_rys)"
   ]
  },
  {
   "cell_type": "code",
   "execution_count": null,
   "metadata": {
    "slideshow": {
     "slide_type": "slide"
    }
   },
   "outputs": [],
   "source": [
    "onebatchloader = torch.utils.data.DataLoader(rdataset, batch_size=len(rdataset), shuffle=False);"
   ]
  },
  {
   "cell_type": "code",
   "execution_count": null,
   "metadata": {
    "slideshow": {
     "slide_type": "-"
    }
   },
   "outputs": [],
   "source": [
    "p = torch.FloatTensor([3.2,-0.4])\n",
    "p.requires_grad_(True)\n",
    "gd = torch.optim.SGD([p], lr=0.2)\n",
    "sin_example.run_example(p, gd, onebatchloader);"
   ]
  },
  {
   "cell_type": "code",
   "execution_count": null,
   "metadata": {
    "slideshow": {
     "slide_type": "slide"
    }
   },
   "outputs": [],
   "source": [
    "batch_data_loader = torch.utils.data.DataLoader(rdataset, batch_size=50, shuffle=True)"
   ]
  },
  {
   "cell_type": "code",
   "execution_count": null,
   "metadata": {},
   "outputs": [],
   "source": [
    "p = torch.FloatTensor([3.2,-0.4])\n",
    "p.requires_grad_(True)\n",
    "gd = torch.optim.SGD([p], lr=0.2)\n",
    "sin_example.run_example(p, gd, batch_data_loader);"
   ]
  },
  {
   "cell_type": "markdown",
   "metadata": {
    "slideshow": {
     "slide_type": "slide"
    }
   },
   "source": [
    "## \"Ravine\""
   ]
  },
  {
   "cell_type": "code",
   "execution_count": null,
   "metadata": {
    "slideshow": {
     "slide_type": "fragment"
    }
   },
   "outputs": [],
   "source": [
    "rav_par = np.asarray([1.0,10.0]).astype('float32')"
   ]
  },
  {
   "cell_type": "code",
   "execution_count": null,
   "metadata": {
    "slideshow": {
     "slide_type": "fragment"
    }
   },
   "outputs": [],
   "source": [
    "ravine_example = utils.RavineExample(rav_par)"
   ]
  },
  {
   "cell_type": "code",
   "execution_count": null,
   "metadata": {
    "slideshow": {
     "slide_type": "slide"
    }
   },
   "outputs": [],
   "source": [
    "p = torch.FloatTensor([-8, 3])\n",
    "p.requires_grad_(True);\n",
    "gd = torch.optim.SGD([p], lr=0.02)\n",
    "ravine_example.run_example(p, gd,100,1.0 );"
   ]
  },
  {
   "cell_type": "markdown",
   "metadata": {
    "slideshow": {
     "slide_type": "slide"
    }
   },
   "source": [
    "## Gradient Descent with Momentum"
   ]
  },
  {
   "cell_type": "markdown",
   "metadata": {
    "slideshow": {
     "slide_type": "fragment"
    }
   },
   "source": [
    "$$\\begin{align}\n",
    "v_{t+1}& = \\mu v_{t} + (1-\\beta)\\nabla_\\theta L(\\theta_t)\\\\\n",
    "\\theta_{t+1}& = \\theta_{t}-\\eta v_{t+1}\n",
    "\\end{align}\n",
    "$$"
   ]
  },
  {
   "cell_type": "code",
   "execution_count": null,
   "metadata": {
    "slideshow": {
     "slide_type": "slide"
    }
   },
   "outputs": [],
   "source": [
    "p = torch.FloatTensor([-8, 3])\n",
    "p.requires_grad_(True);\n",
    "gd = torch.optim.SGD([p], lr=0.021, momentum=0.9)\n",
    "ravine_example.run_example(p, gd,100,1.0 );"
   ]
  },
  {
   "cell_type": "code",
   "execution_count": null,
   "metadata": {
    "slideshow": {
     "slide_type": "slide"
    }
   },
   "outputs": [],
   "source": [
    "p = torch.FloatTensor([3.2,-0.4])\n",
    "p.requires_grad_(True)\n",
    "gd = torch.optim.SGD([p], lr=0.01, momentum=0.9)\n",
    "sin_example.run_example(p, gd, batch_data_loader);"
   ]
  },
  {
   "cell_type": "markdown",
   "metadata": {
    "slideshow": {
     "slide_type": "slide"
    }
   },
   "source": [
    "$$\\begin{align}\n",
    "v_{t+1}& = \\mu v_{t} + (1-\\beta)\\nabla_\\theta L(\\theta_t)\\\\\n",
    "\\theta_{t+1}& = \\theta_{t}-\\eta v_{t+1}\n",
    "\\end{align}\n",
    "$$"
   ]
  },
  {
   "cell_type": "markdown",
   "metadata": {
    "slideshow": {
     "slide_type": "fragment"
    }
   },
   "source": [
    "$$v_{t+1} = \\mu v_{t} + (1-\\beta)g_t$$"
   ]
  },
  {
   "cell_type": "markdown",
   "metadata": {
    "slideshow": {
     "slide_type": "fragment"
    }
   },
   "source": [
    "$$v_1 = (1-\\beta)g_0$$"
   ]
  },
  {
   "cell_type": "markdown",
   "metadata": {
    "slideshow": {
     "slide_type": "fragment"
    }
   },
   "source": [
    "$$v_2 = \\mu (1-\\beta)g_0+(1-\\beta) g_1$$"
   ]
  },
  {
   "cell_type": "markdown",
   "metadata": {
    "slideshow": {
     "slide_type": "fragment"
    }
   },
   "source": [
    "$$v_3 = \\mu\\left(\\mu (1-\\beta)g_0+(1-\\beta) g_1\\right)+(1-\\beta)g_2$$"
   ]
  },
  {
   "cell_type": "markdown",
   "metadata": {
    "slideshow": {
     "slide_type": "slide"
    }
   },
   "source": [
    "$$v_3 = \\mu^2 (1-\\beta)g_0+\\mu (1-\\beta) g_1\n",
    "+(1-\\beta)g_2$$"
   ]
  },
  {
   "cell_type": "markdown",
   "metadata": {
    "slideshow": {
     "slide_type": "fragment"
    }
   },
   "source": [
    "$$v_t = (1-\\beta)\\sum_{i=1}^t \\mu^{i-1}g_{t-i}$$"
   ]
  },
  {
   "cell_type": "code",
   "execution_count": null,
   "metadata": {
    "slideshow": {
     "slide_type": "slide"
    }
   },
   "outputs": [],
   "source": [
    "ns = np.arange(0,100)\n",
    "for mu in [0.9, 0.7,0.5, 0.25]:\n",
    "    plt.plot(ns,mu**ns,'.', label=\"%4.2f\" % (mu,))\n",
    "plt.legend();"
   ]
  },
  {
   "cell_type": "markdown",
   "metadata": {
    "slideshow": {
     "slide_type": "slide"
    }
   },
   "source": [
    "## Nesterov Accelerated Gradient Descent"
   ]
  },
  {
   "cell_type": "markdown",
   "metadata": {},
   "source": [
    "<p style=\"text-align:center;\"> <img src=\"nesterov.jpg\" /></p>"
   ]
  },
  {
   "cell_type": "markdown",
   "metadata": {
    "slideshow": {
     "slide_type": "slide"
    }
   },
   "source": [
    "$$\\begin{align}\n",
    "v_{t+1}& = \\mu v_{t} + \\nabla_\\theta L(\\theta_t-\\eta \\mu v_t)\\\\\n",
    "\\theta_{t+1}& = \\theta_{t}-\\eta v_{t+1}\n",
    "\\end{align}\n",
    "$$"
   ]
  },
  {
   "cell_type": "markdown",
   "metadata": {
    "slideshow": {
     "slide_type": "fragment"
    }
   },
   "source": [
    "$$r_t = \\theta_t-\\eta\\mu v_t$$\n",
    "$$\\theta_t = r_t+\\eta\\mu v_t$$"
   ]
  },
  {
   "cell_type": "markdown",
   "metadata": {
    "slideshow": {
     "slide_type": "fragment"
    }
   },
   "source": [
    "$$\\begin{align}\n",
    "v_{t+1}& = \\mu v_{t} + \\nabla_r L(r)\\\\\n",
    "r_{t+1}& = r_{t}-\\eta\\left(\\nabla_r L(r) +\\mu v^{t+1}\\right)\n",
    "\\end{align}\n",
    "$$"
   ]
  },
  {
   "cell_type": "code",
   "execution_count": null,
   "metadata": {
    "slideshow": {
     "slide_type": "slide"
    }
   },
   "outputs": [],
   "source": [
    "p = torch.FloatTensor([-8, 3])\n",
    "p.requires_grad_(True);\n",
    "gd = torch.optim.SGD([p], lr=0.01, momentum=0.9, nesterov=True)\n",
    "ravine_example.run_example(p, gd,100,1.0 );"
   ]
  },
  {
   "cell_type": "code",
   "execution_count": null,
   "metadata": {
    "slideshow": {
     "slide_type": "slide"
    }
   },
   "outputs": [],
   "source": [
    "p = torch.FloatTensor([3.2,-0.4])\n",
    "p.requires_grad_(True)\n",
    "gd = torch.optim.SGD([p], lr=0.01, momentum=0.9, nesterov=True)\n",
    "sin_example.run_example(p, gd, batch_data_loader);"
   ]
  },
  {
   "cell_type": "markdown",
   "metadata": {
    "slideshow": {
     "slide_type": "slide"
    }
   },
   "source": [
    "## Adaptive gradient: Adagrad"
   ]
  },
  {
   "cell_type": "markdown",
   "metadata": {
    "slideshow": {
     "slide_type": "fragment"
    }
   },
   "source": [
    "$$\\begin{align}\n",
    "v_{t+1}& =\\nabla_\\theta L(\\theta^t)\\\\\n",
    "G_{t+1}&=G_{t}+\\left(\\nabla_\\theta L(\\theta_t)\\right)^2\\\\\n",
    "\\theta_{t+1}& = \\theta_{t}-\\frac{\\eta}{\\sqrt{G_{t+1}+\\epsilon}} v_{t+1}\n",
    "\\end{align}\n",
    "$$"
   ]
  },
  {
   "cell_type": "code",
   "execution_count": null,
   "metadata": {
    "slideshow": {
     "slide_type": "slide"
    }
   },
   "outputs": [],
   "source": [
    "p = torch.FloatTensor([-8, 3])\n",
    "p.requires_grad_(True);\n",
    "gd = torch.optim.Adagrad([p], lr=2.0)\n",
    "ravine_example.run_example(p, gd,100,1.0 );"
   ]
  },
  {
   "cell_type": "code",
   "execution_count": null,
   "metadata": {
    "slideshow": {
     "slide_type": "slide"
    }
   },
   "outputs": [],
   "source": [
    "p = torch.FloatTensor([3.4,-0.4])\n",
    "p.requires_grad_(True)\n",
    "gd = torch.optim.Adagrad([p], lr=.1)\n",
    "sin_example.run_example(p, gd, batch_data_loader);"
   ]
  },
  {
   "cell_type": "markdown",
   "metadata": {
    "slideshow": {
     "slide_type": "slide"
    }
   },
   "source": [
    "## RMSProp"
   ]
  },
  {
   "cell_type": "markdown",
   "metadata": {
    "slideshow": {
     "slide_type": "fragment"
    }
   },
   "source": [
    "$$\\begin{align}\n",
    "v_{t+1}& =\\nabla_\\theta L(\\theta_t)\\\\\n",
    "E[g^2]_{t+1}&=\\gamma E[g^2]_t+(1-\\gamma)\\left(\\nabla_\\theta L(\\theta_t)\\right)^2\\\\\n",
    "\\theta_{t+1}& = \\theta_{t}-\\frac{\\eta}{\\sqrt{E[g^2]_{t+1}+\\epsilon}} v_{t+1}\n",
    "\\end{align}\n",
    "$$"
   ]
  },
  {
   "cell_type": "code",
   "execution_count": null,
   "metadata": {
    "slideshow": {
     "slide_type": "slide"
    }
   },
   "outputs": [],
   "source": [
    "p = torch.FloatTensor([-8, 3])\n",
    "p.requires_grad_(True);\n",
    "gd = torch.optim.RMSprop([p], lr=1.0)\n",
    "ravine_example.run_example(p, gd,100,1.0 );"
   ]
  },
  {
   "cell_type": "code",
   "execution_count": null,
   "metadata": {
    "slideshow": {
     "slide_type": "slide"
    }
   },
   "outputs": [],
   "source": [
    "p = torch.FloatTensor([3.2,-0.4])\n",
    "p.requires_grad_(True)\n",
    "gd = torch.optim.RMSprop([p], lr=0.1)\n",
    "sin_example.run_example(p, gd, batch_data_loader);"
   ]
  },
  {
   "cell_type": "markdown",
   "metadata": {
    "slideshow": {
     "slide_type": "slide"
    }
   },
   "source": [
    "## Adadelta"
   ]
  },
  {
   "cell_type": "markdown",
   "metadata": {
    "slideshow": {
     "slide_type": "skip"
    }
   },
   "source": [
    "Units do not match! "
   ]
  },
  {
   "cell_type": "markdown",
   "metadata": {
    "slideshow": {
     "slide_type": "fragment"
    }
   },
   "source": [
    "$$\\begin{align}\n",
    "v^{t+1}& =\\nabla_\\theta L(\\theta^t)\\\\\n",
    "E[g^2]_{t+1}&=\\gamma E[g^2]_t+(1-\\gamma)\\left(\\nabla_\\theta L(\\theta^t)\\right)^2\\\\\n",
    "E[\\Delta\\theta^2]_t & = \\gamma E[\\Delta\\theta]_{t-1} +(1-\\gamma)\\Delta\\theta^2_t\\\\\n",
    "\\theta_{t+1}& = \\theta_{t}-\\frac{\\eta E[\\Delta\\theta^2]_t}{\\sqrt{E[g^2]_{t+1}+\\epsilon}} v_{t+1}\n",
    "\\end{align}\n",
    "$$"
   ]
  },
  {
   "cell_type": "code",
   "execution_count": null,
   "metadata": {
    "slideshow": {
     "slide_type": "slide"
    }
   },
   "outputs": [],
   "source": [
    "p = torch.FloatTensor([-8, 3])\n",
    "p.requires_grad_(True);\n",
    "gd = torch.optim.Adadelta([p], lr=4.0)\n",
    "ravine_example.run_example(p, gd,2100,1.0 );"
   ]
  },
  {
   "cell_type": "code",
   "execution_count": null,
   "metadata": {
    "slideshow": {
     "slide_type": "slide"
    }
   },
   "outputs": [],
   "source": [
    "p = torch.FloatTensor([3.2,-0.4])\n",
    "p.requires_grad_(True)\n",
    "gd = torch.optim.Adadelta([p], lr=4.0)\n",
    "sin_example.run_example(p, gd, batch_data_loader);"
   ]
  },
  {
   "cell_type": "markdown",
   "metadata": {
    "slideshow": {
     "slide_type": "slide"
    }
   },
   "source": [
    "### Adam: Adaptive Momentum Estimation "
   ]
  },
  {
   "cell_type": "markdown",
   "metadata": {
    "slideshow": {
     "slide_type": "fragment"
    }
   },
   "source": [
    "$$\\begin{split}\n",
    "m_t &= \\beta_1 m_{t-1} + (1-\\beta_1) g_t \\\\\n",
    "v_t &= \\beta_2 v_{t-1} + (1-\\beta_2) g^2_t \\\\\n",
    "\\end{split}\n",
    "$$"
   ]
  },
  {
   "cell_type": "markdown",
   "metadata": {
    "slideshow": {
     "slide_type": "fragment"
    }
   },
   "source": [
    "$$\\theta_{t+1} = \\theta_t -\\frac{\\eta}{\\sqrt{v}+\\epsilon}m_t $$"
   ]
  },
  {
   "cell_type": "code",
   "execution_count": null,
   "metadata": {
    "slideshow": {
     "slide_type": "slide"
    }
   },
   "outputs": [],
   "source": [
    "p = torch.FloatTensor([-8, 3])\n",
    "p.requires_grad_(True);\n",
    "gd = torch.optim.Adam([p], lr=0.1)\n",
    "ravine_example.run_example(p, gd,2100,1.0 );"
   ]
  },
  {
   "cell_type": "code",
   "execution_count": null,
   "metadata": {
    "slideshow": {
     "slide_type": "slide"
    }
   },
   "outputs": [],
   "source": [
    "p = torch.FloatTensor([3.2,-0.4])\n",
    "p.requires_grad_(True)\n",
    "gd = torch.optim.Adam([p], lr=0.1)\n",
    "sin_example.run_example(p, gd, batch_data_loader);"
   ]
  },
  {
   "cell_type": "code",
   "execution_count": null,
   "metadata": {},
   "outputs": [],
   "source": []
  }
 ],
 "metadata": {
  "celltoolbar": "Slideshow",
  "jupytext": {
   "cell_metadata_json": true
  },
  "kernelspec": {
   "display_name": "Python 3",
   "language": "python",
   "name": "python3"
  },
  "language_info": {
   "codemirror_mode": {
    "name": "ipython",
    "version": 3
   },
   "file_extension": ".py",
   "mimetype": "text/x-python",
   "name": "python",
   "nbconvert_exporter": "python",
   "pygments_lexer": "ipython3",
   "version": "3.8.3"
  }
 },
 "nbformat": 4,
 "nbformat_minor": 4
}
