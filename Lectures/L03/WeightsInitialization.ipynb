{
 "cells": [
  {
   "cell_type": "code",
   "execution_count": null,
   "metadata": {
    "slideshow": {
     "slide_type": "skip"
    }
   },
   "outputs": [],
   "source": [
    "%load_ext autoreload\n",
    "%autoreload 2"
   ]
  },
  {
   "cell_type": "markdown",
   "metadata": {
    "slideshow": {
     "slide_type": "slide"
    }
   },
   "source": [
    "<img src='../img/boromir.png'>"
   ]
  },
  {
   "cell_type": "code",
   "execution_count": null,
   "metadata": {
    "slideshow": {
     "slide_type": "slide"
    }
   },
   "outputs": [],
   "source": [
    "import torch\n",
    "import torchvision\n",
    "import matplotlib.pyplot as plt\n",
    "import numpy as np\n",
    "from torch import nn\n",
    "%matplotlib inline"
   ]
  },
  {
   "cell_type": "code",
   "execution_count": null,
   "metadata": {
    "slideshow": {
     "slide_type": "-"
    }
   },
   "outputs": [],
   "source": [
    "import sys\n",
    "sys.path.append('../../modules/')\n",
    "import mnist"
   ]
  },
  {
   "cell_type": "markdown",
   "metadata": {
    "slideshow": {
     "slide_type": "slide"
    }
   },
   "source": [
    "## MNIST"
   ]
  },
  {
   "cell_type": "code",
   "execution_count": null,
   "metadata": {
    "slideshow": {
     "slide_type": "skip"
    }
   },
   "outputs": [],
   "source": [
    "mnist_set = mnist.MNIST('../data/')"
   ]
  },
  {
   "cell_type": "code",
   "execution_count": null,
   "metadata": {
    "slideshow": {
     "slide_type": "skip"
    }
   },
   "outputs": [],
   "source": [
    "data, labels = mnist_set.random_data(12000)\n",
    "data = 2*data-1"
   ]
  },
  {
   "cell_type": "code",
   "execution_count": null,
   "metadata": {
    "slideshow": {
     "slide_type": "slide"
    }
   },
   "outputs": [],
   "source": [
    "fig_mnist, ax = plt.subplots(1,8, figsize=(8*4,4))\n",
    "for i in range(8):\n",
    "    ax[i].imshow(data[i].numpy(), cmap='Greys');\n",
    "    ax[i].set_title(labels[i].item(), fontsize=16)"
   ]
  },
  {
   "cell_type": "code",
   "execution_count": null,
   "metadata": {
    "slideshow": {
     "slide_type": "skip"
    }
   },
   "outputs": [],
   "source": [
    "dataset = torch.utils.data.TensorDataset(data.view(-1,28*28), labels) "
   ]
  },
  {
   "cell_type": "code",
   "execution_count": null,
   "metadata": {
    "slideshow": {
     "slide_type": "skip"
    }
   },
   "outputs": [],
   "source": [
    "train_dataset, test_dataset = torch.utils.data.random_split(dataset, (10000,2000))"
   ]
  },
  {
   "cell_type": "code",
   "execution_count": null,
   "metadata": {
    "slideshow": {
     "slide_type": "skip"
    }
   },
   "outputs": [],
   "source": [
    "train_loader = torch.utils.data.DataLoader(train_dataset, batch_size=100,drop_last=True)"
   ]
  },
  {
   "cell_type": "markdown",
   "metadata": {
    "slideshow": {
     "slide_type": "slide"
    }
   },
   "source": [
    "## Model"
   ]
  },
  {
   "cell_type": "code",
   "execution_count": null,
   "metadata": {
    "slideshow": {
     "slide_type": "slide"
    }
   },
   "outputs": [],
   "source": [
    "model = nn.Sequential(\n",
    "nn.Linear(28*28,1200), nn.ReLU(),\n",
    "nn.Linear(1200,600), nn.ReLU(),\n",
    "nn.Linear(600,300), nn.ReLU(),\n",
    "nn.Linear(300,10)\n",
    ")"
   ]
  },
  {
   "cell_type": "code",
   "execution_count": null,
   "metadata": {
    "slideshow": {
     "slide_type": "slide"
    }
   },
   "outputs": [],
   "source": [
    "def accuracy(pred, labels):\n",
    "    return torch.sum(torch.argmax(pred,axis = 1)==labels).to(dtype=torch.float32).item()/len(labels)\n",
    "\n",
    "def model_accuracy(model, dataset):\n",
    "    features, labels = dataset[:]\n",
    "    with torch.no_grad():\n",
    "        pred = model(features)\n",
    "    return accuracy(pred, labels)"
   ]
  },
  {
   "cell_type": "code",
   "execution_count": null,
   "metadata": {
    "slideshow": {
     "slide_type": "slide"
    }
   },
   "outputs": [],
   "source": [
    "loss_f = nn.CrossEntropyLoss()"
   ]
  },
  {
   "cell_type": "code",
   "execution_count": null,
   "metadata": {
    "slideshow": {
     "slide_type": "-"
    }
   },
   "outputs": [],
   "source": [
    "optim = torch.optim.SGD(model.parameters(), lr=0.1)"
   ]
  },
  {
   "cell_type": "code",
   "execution_count": null,
   "metadata": {
    "slideshow": {
     "slide_type": "-"
    }
   },
   "outputs": [],
   "source": [
    "errors = []\n",
    "batches = 0\n",
    "epochs = 0"
   ]
  },
  {
   "cell_type": "code",
   "execution_count": null,
   "metadata": {
    "slideshow": {
     "slide_type": "slide"
    }
   },
   "outputs": [],
   "source": [
    "%%time\n",
    "for e in range(5):\n",
    "    for f,l in train_loader:        \n",
    "        optim.zero_grad()\n",
    "        pred = model(f)\n",
    "        loss = loss_f(pred, l)\n",
    "        errors.append(loss.item())\n",
    "        loss.backward()\n",
    "        optim.step()\n",
    "        batches += 1\n",
    "    epochs += 1   \n",
    "    print(loss.item())        "
   ]
  },
  {
   "cell_type": "code",
   "execution_count": null,
   "metadata": {
    "slideshow": {
     "slide_type": "slide"
    }
   },
   "outputs": [],
   "source": [
    "plt.plot(np.linspace(0,epochs, batches),errors);"
   ]
  },
  {
   "cell_type": "code",
   "execution_count": null,
   "metadata": {},
   "outputs": [],
   "source": [
    "model_accuracy(model, train_dataset)"
   ]
  },
  {
   "cell_type": "code",
   "execution_count": null,
   "metadata": {},
   "outputs": [],
   "source": [
    "model_accuracy(model, test_dataset)"
   ]
  },
  {
   "cell_type": "markdown",
   "metadata": {
    "slideshow": {
     "slide_type": "slide"
    }
   },
   "source": [
    "## How are the weights initialized ? "
   ]
  },
  {
   "cell_type": "code",
   "execution_count": null,
   "metadata": {
    "slideshow": {
     "slide_type": "slide"
    }
   },
   "outputs": [],
   "source": [
    "model = nn.Sequential(\n",
    "nn.Linear(28*28,1200), nn.ReLU(),\n",
    "nn.Linear(1200,600), nn.ReLU(),\n",
    "nn.Linear(600,300), nn.ReLU(),\n",
    "nn.Linear(300,10)\n",
    ")"
   ]
  },
  {
   "cell_type": "code",
   "execution_count": null,
   "metadata": {
    "slideshow": {
     "slide_type": "fragment"
    }
   },
   "outputs": [],
   "source": [
    "for layer in model.modules():\n",
    "    if isinstance(layer,torch.nn.modules.linear.Linear):\n",
    "                  print( torch.std_mean(layer.weight))\n",
    "    "
   ]
  },
  {
   "cell_type": "code",
   "execution_count": null,
   "metadata": {
    "slideshow": {
     "slide_type": "slide"
    }
   },
   "outputs": [],
   "source": [
    "modules = model.modules()\n",
    "next(modules)\n",
    "layer = next(modules)\n",
    "print(layer)"
   ]
  },
  {
   "cell_type": "code",
   "execution_count": null,
   "metadata": {
    "slideshow": {
     "slide_type": "slide"
    }
   },
   "outputs": [],
   "source": [
    "plt.hist(layer.weight.detach().numpy().ravel(),bins=100);"
   ]
  },
  {
   "cell_type": "code",
   "execution_count": null,
   "metadata": {},
   "outputs": [],
   "source": [
    "1/layer.weight.max().item()**2"
   ]
  },
  {
   "cell_type": "markdown",
   "metadata": {
    "slideshow": {
     "slide_type": "skip"
    }
   },
   "source": [
    "Pytorch LinearLayer weights are initalized from uniform distribution "
   ]
  },
  {
   "cell_type": "markdown",
   "metadata": {
    "slideshow": {
     "slide_type": "slide"
    }
   },
   "source": [
    "$$\\mathcal{U}(-\\sqrt{k},\\sqrt{k}),\\quad k =\\frac{1}{n_{in}}$$"
   ]
  },
  {
   "cell_type": "markdown",
   "metadata": {
    "slideshow": {
     "slide_type": "slide"
    }
   },
   "source": [
    "## Wanishing or exploding gradients"
   ]
  },
  {
   "cell_type": "code",
   "execution_count": null,
   "metadata": {
    "slideshow": {
     "slide_type": "slide"
    }
   },
   "outputs": [],
   "source": [
    "def init_layer_uniform(sigma):\n",
    "    def init(layer): \n",
    "        if isinstance(layer,torch.nn.modules.linear.Linear):\n",
    "            torch.nn.init.uniform_(layer.weight,-sigma,sigma)\n",
    "            if layer.bias is not None:\n",
    "                torch.nn.init.zeros_(layer.bias)\n",
    "    return init  \n",
    "\n",
    "def init_layer_gauss(sigma):\n",
    "    def init(layer): \n",
    "        if isinstance(layer,torch.nn.modules.linear.Linear):\n",
    "            torch.nn.init.normal__(layer.weight,0,sigma)\n",
    "            if layer.bias is not None:\n",
    "                torch.nn.init.zeros_(layer.bias)\n",
    "    return init  "
   ]
  },
  {
   "cell_type": "code",
   "execution_count": null,
   "metadata": {
    "slideshow": {
     "slide_type": "slide"
    }
   },
   "outputs": [],
   "source": [
    "model.apply(init_layer_uniform(0.12));\n",
    "optim = torch.optim.SGD(model.parameters(), lr=0.1)\n",
    "errors = []\n",
    "batches = 0\n",
    "epochs = 0\n",
    "for e in range(5):\n",
    "    for f,l in train_loader:        \n",
    "        optim.zero_grad()\n",
    "        pred = model(f)\n",
    "        loss = loss_f(pred, l)\n",
    "        errors.append(loss.item())\n",
    "        loss.backward()\n",
    "        optim.step()\n",
    "        batches += 1\n",
    "    epochs += 1   \n",
    "    print(loss.item())        "
   ]
  },
  {
   "cell_type": "code",
   "execution_count": null,
   "metadata": {
    "slideshow": {
     "slide_type": "slide"
    }
   },
   "outputs": [],
   "source": [
    "plt.plot(np.linspace(0,epochs, batches),errors);"
   ]
  },
  {
   "cell_type": "code",
   "execution_count": null,
   "metadata": {},
   "outputs": [],
   "source": [
    "model_accuracy(model, train_dataset)"
   ]
  },
  {
   "cell_type": "code",
   "execution_count": null,
   "metadata": {},
   "outputs": [],
   "source": [
    "model_accuracy(model, test_dataset)"
   ]
  },
  {
   "cell_type": "markdown",
   "metadata": {
    "slideshow": {
     "slide_type": "slide"
    }
   },
   "source": [
    "## Input variance"
   ]
  },
  {
   "cell_type": "code",
   "execution_count": null,
   "metadata": {
    "slideshow": {
     "slide_type": "fragment"
    }
   },
   "outputs": [],
   "source": [
    "torch.var(train_dataset[:][0])"
   ]
  },
  {
   "cell_type": "code",
   "execution_count": null,
   "metadata": {
    "slideshow": {
     "slide_type": "fragment"
    }
   },
   "outputs": [],
   "source": [
    "for sigma in [0.01, 0.05, 0.1, 0.15, 0.2, 0.5 ]:\n",
    "    model.apply(init_layer_uniform(sigma))\n",
    "    mnist_out = model(train_dataset[:][0])\n",
    "    print(f\"{sigma:4.2f}, {torch.var(mnist_out.detach()):.6g}\" )"
   ]
  },
  {
   "cell_type": "markdown",
   "metadata": {
    "slideshow": {
     "slide_type": "slide"
    }
   },
   "source": [
    "$$\\newcommand{\\var}{\\operatorname{var}}\n",
    "\\renewcommand{\\E}{\\operatorname{E}}$$\n",
    "$$x^{l}_i = f(y^{l}_i), \n",
    "\\qquad y^{l}_i =\\sum_{j=1}^{n_{l-1}} w^{l}_{ij}x^{l-1}_j$$"
   ]
  },
  {
   "cell_type": "markdown",
   "metadata": {},
   "source": [
    "$$w^l_{ij} \\sim \\text{i.i.d}\\qquad \\E[w]=0$$"
   ]
  },
  {
   "cell_type": "markdown",
   "metadata": {
    "slideshow": {
     "slide_type": "slide"
    }
   },
   "source": [
    "$$\\E[y^{l}_i] = \\sum_{j=1}^{n_{l-1}} \\E[w^{l}_{ij}x^{l-1}_j] = \n",
    "\\sum_{j=1}^{n_{l-1}} \\E[w^{l}_{ij}]\\E[x^{l-1}_j]=0$$"
   ]
  },
  {
   "cell_type": "markdown",
   "metadata": {
    "slideshow": {
     "slide_type": "fragment"
    }
   },
   "source": [
    "$$\\var[y^{l}_i ]= \\E[(y^{l}_i-\\E[y^{l}_i ])^2] = \\E[(y^{l}_i)^2]$$ "
   ]
  },
  {
   "cell_type": "markdown",
   "metadata": {
    "slideshow": {
     "slide_type": "slide"
    }
   },
   "source": [
    "$$\\var[y^{l}_i] = \n",
    "\\E\\left[\\left(\n",
    "\\sum_{j=1}^{n_{l-1}} w^{l}_{ij}x^{l-1}_j\n",
    "\\right)^2\\right]\n",
    "$$"
   ]
  },
  {
   "cell_type": "markdown",
   "metadata": {
    "slideshow": {
     "slide_type": "fragment"
    }
   },
   "source": [
    "$$\\var[y^{l}_i] = \n",
    "\\E\\left[\\left(\n",
    "\\sum_{j=1}^{n_{l-1}} w^{l}_{ij}x^{l-1}_j\n",
    "\\right)\n",
    "\\left(\n",
    "\\sum_{k=1}^{n_{l-1}} w^{l}_{ik}x^{l-1}_k\n",
    "\\right)\n",
    "\\right]\n",
    "$$"
   ]
  },
  {
   "cell_type": "markdown",
   "metadata": {
    "slideshow": {
     "slide_type": "fragment"
    }
   },
   "source": [
    "$$\\var[y^{l}_i] = \n",
    "\\E\\left[\n",
    "\\sum_{j,k=1}^{n_{l-1}} w^{l}_{ij}x^{l-1}_j\n",
    " w^{l}_{ik}x^{l-1}_k\n",
    "\\right]= \n",
    "\\sum_{j,k=1}^{n_{l-1}} \\E\\left[\n",
    " w^{l}_{ij}x^{l-1}_j\n",
    " w^{l}_{ik}x^{l-1}_k\n",
    "\\right]\n",
    "$$"
   ]
  },
  {
   "cell_type": "markdown",
   "metadata": {
    "slideshow": {
     "slide_type": "slide"
    }
   },
   "source": [
    "$$\\var[y^{l}_i] = \n",
    "\\sum_{j,k=1}^{n_{l-1}} \n",
    "E\\left[w^{l}_{ij} w^{l}_{ik}\\right]\n",
    "E\\left[\n",
    "x^{l-1}_k x^{l-1}_j\n",
    "\\right]\n",
    "$$"
   ]
  },
  {
   "cell_type": "markdown",
   "metadata": {
    "slideshow": {
     "slide_type": "fragment"
    }
   },
   "source": [
    "$$E\\left[w^{l}_{ij} w^{l}_{ik}\\right]=\\delta_{jk}E[(w^l_{ij})^2]= \\delta_{jk} Var [w^l]$$"
   ]
  },
  {
   "cell_type": "markdown",
   "metadata": {
    "slideshow": {
     "slide_type": "fragment"
    }
   },
   "source": [
    "$$\\var[y^{l}_i] = \n",
    "\\sum_{j,k=1}^{n_{l-1}} \n",
    "\\delta_{jk}Var [w^l]\n",
    "E\\left[\n",
    "x^{l-1}_k x^{l-1}_j\n",
    "\\right] = \n",
    "\\sum_{j}^{n_{l-1}} \n",
    "Var [w^l]\n",
    "E\\left[\n",
    "(x^{l-1}_j)^2\n",
    "\\right] = \n",
    "n_{l-1} \\var [w^{l}]E[(x^{l-1})^2]\n",
    "$$"
   ]
  },
  {
   "cell_type": "markdown",
   "metadata": {
    "slideshow": {
     "slide_type": "slide"
    }
   },
   "source": [
    "$$n_{l-1} \\var [w^{l}] = 1\\qquad \\sigma_w = \\frac{1}{\\sqrt{n_{l-1}}} $$"
   ]
  },
  {
   "cell_type": "markdown",
   "metadata": {
    "slideshow": {
     "slide_type": "slide"
    }
   },
   "source": [
    "### Uniform distribution"
   ]
  },
  {
   "cell_type": "markdown",
   "metadata": {
    "slideshow": {
     "slide_type": "-"
    }
   },
   "source": [
    "$$w\\in (-a, a),\\quad P(w)=\\frac{1}{2 a}$$"
   ]
  },
  {
   "cell_type": "markdown",
   "metadata": {
    "slideshow": {
     "slide_type": "fragment"
    }
   },
   "source": [
    "$$\\sigma_w^2 = \\var[w]=\\frac{1}{2a}\\int\\limits_{-a}^a w^2 \n",
    "=\\frac{1}{2 a}\\frac{1}{3} 2 a^3 =\\frac{1}{3}a^2\n",
    "$$"
   ]
  },
  {
   "cell_type": "markdown",
   "metadata": {
    "slideshow": {
     "slide_type": "fragment"
    }
   },
   "source": [
    "$$a = \\sqrt{3} \\sigma_w$$"
   ]
  },
  {
   "cell_type": "markdown",
   "metadata": {
    "slideshow": {
     "slide_type": "fragment"
    }
   },
   "source": [
    "$$a = \\sqrt{\\frac{3}{n_{l-1}}}$$"
   ]
  },
  {
   "cell_type": "markdown",
   "metadata": {
    "slideshow": {
     "slide_type": "slide"
    }
   },
   "source": [
    "## Xavier intialisation"
   ]
  },
  {
   "cell_type": "markdown",
   "metadata": {},
   "source": [
    "$$w\\in (-a, a),\\qquad a=\\sqrt{\\frac{6}{n_l+n_{l-1}}}$$"
   ]
  },
  {
   "cell_type": "markdown",
   "metadata": {
    "slideshow": {
     "slide_type": "slide"
    }
   },
   "source": [
    "## Kaiming/He initalization"
   ]
  },
  {
   "cell_type": "markdown",
   "metadata": {
    "slideshow": {
     "slide_type": "fragment"
    }
   },
   "source": [
    "$$\\newcommand{\\relu}{\\operatorname{relu}}$$\n",
    "$$x^{l-1} = \\relu(y^{l-1})=\\max(0,y^{l-1}),\\qquad P(y^{l-1})=P(-y^{l-1})$$"
   ]
  },
  {
   "cell_type": "markdown",
   "metadata": {
    "slideshow": {
     "slide_type": "slide"
    }
   },
   "source": [
    "$$\\E[(x^{l-1})^2]=\\int\\limits_0^\\infty\\!\\!\\text{d}y^{l-1} \\,\\max(0,y^{l-1})^2=\\int\\limits_0^\\infty\\!\\!\\text{d}y^{l-1}P (y^{l-1})\\,(y^l)^2=\n",
    "\\frac{1}{2}\\int\\limits_{-\\infty}^\\infty\\!\\!\\text{d}y^{l-1} P(y)\\,(y^{l-1})^2=\\frac{1}{2}\\var[y^{l-1}]$$"
   ]
  },
  {
   "cell_type": "markdown",
   "metadata": {
    "slideshow": {
     "slide_type": "fragment"
    }
   },
   "source": [
    "$$\\var[w^{l}]E[(x^l)^2]=\\frac{1}{2}n_l \\var[w^l]\\var[y^{l-1}]\n",
    "$$"
   ]
  },
  {
   "cell_type": "markdown",
   "metadata": {
    "slideshow": {
     "slide_type": "fragment"
    }
   },
   "source": [
    "$$\\var[y^L]=\n",
    "\\var[y^1]\\left(\\prod_2^L\\frac{1}{2} n_l \\var[w^{l}]\\right)\n",
    "=\\sum_{j=0}^{n_0}E[(x^0_j)^2] \\var[w^1] \\left(\\prod_2^L\\frac{1}{2} n_l \\var[w^{l}]\\right)$$"
   ]
  },
  {
   "cell_type": "markdown",
   "metadata": {
    "slideshow": {
     "slide_type": "slide"
    }
   },
   "source": [
    "$$\\left(\\prod_2^L\\frac{1}{2} n_l \\var[w^{l}]\\right) = 1$$"
   ]
  },
  {
   "cell_type": "markdown",
   "metadata": {
    "slideshow": {
     "slide_type": "fragment"
    }
   },
   "source": [
    "$$\\var[w^{l}] = \\frac{2}{n_l}$$"
   ]
  },
  {
   "cell_type": "markdown",
   "metadata": {
    "slideshow": {
     "slide_type": "fragment"
    }
   },
   "source": [
    "$$\\sigma_w=\\sqrt{\\frac{2}{n_{l-1}}},\\qquad a = \\sqrt{\\frac{6}{n_{l-1}}}$$"
   ]
  },
  {
   "cell_type": "code",
   "execution_count": null,
   "metadata": {
    "slideshow": {
     "slide_type": "fragment"
    }
   },
   "outputs": [],
   "source": [
    "torch.nn.init.calculate_gain('relu')"
   ]
  },
  {
   "cell_type": "code",
   "execution_count": null,
   "metadata": {
    "slideshow": {
     "slide_type": "slide"
    }
   },
   "outputs": [],
   "source": [
    "def xavier_init_gauss(sigma=1):\n",
    "    def init(layer): \n",
    "        if isinstance(layer,torch.nn.modules.linear.Linear):\n",
    "            fan_in = layer.weight.size(1)\n",
    "            s  = np.sqrt(1/fan_in)    \n",
    "            torch.nn.init.normal_(layer.weight,0,s*sigma)\n",
    "            if layer.bias is not None:\n",
    "                torch.nn.init.zeros_(layer.bias)\n",
    "    return init  "
   ]
  },
  {
   "cell_type": "code",
   "execution_count": null,
   "metadata": {
    "slideshow": {
     "slide_type": "-"
    }
   },
   "outputs": [],
   "source": [
    "def xavier_init_uniform(sigma=1):\n",
    "    def init(layer): \n",
    "        if isinstance(layer,torch.nn.modules.linear.Linear):\n",
    "            fan_in = layer.weight.size(1)\n",
    "            s  = np.sqrt(3/fan_in)    \n",
    "            torch.nn.init.uniform_(layer.weight,-sigma*s,sigma*s)\n",
    "            if layer.bias is not None:\n",
    "                torch.nn.init.zeros_(layer.bias)\n",
    "    return init  "
   ]
  },
  {
   "cell_type": "code",
   "execution_count": null,
   "metadata": {
    "slideshow": {
     "slide_type": "slide"
    }
   },
   "outputs": [],
   "source": [
    "def kaiming_init_gauss(sigma=1):\n",
    "    def init(layer): \n",
    "        if isinstance(layer,torch.nn.modules.linear.Linear):\n",
    "            fan_in = layer.weight.size(1)\n",
    "            s  = np.sqrt(2/fan_in)    \n",
    "            torch.nn.init.normal_(layer.weight,0,s*sigma)\n",
    "            if layer.bias is not None:\n",
    "                torch.nn.init.zeros_(layer.bias)\n",
    "    return init  "
   ]
  },
  {
   "cell_type": "code",
   "execution_count": null,
   "metadata": {
    "slideshow": {
     "slide_type": "-"
    }
   },
   "outputs": [],
   "source": [
    "def kaiming_init_uniform(sigma=1):\n",
    "    def init(layer): \n",
    "        if isinstance(layer,torch.nn.modules.linear.Linear):\n",
    "            fan_in = layer.weight.size(1)\n",
    "            s  = np.sqrt(6/fan_in)    \n",
    "            torch.nn.init.uniform_(layer.weight,-sigma*s,sigma*s)\n",
    "            if layer.bias is not None:\n",
    "                torch.nn.init.zeros_(layer.bias)\n",
    "    return init  "
   ]
  },
  {
   "cell_type": "code",
   "execution_count": null,
   "metadata": {
    "slideshow": {
     "slide_type": "slide"
    }
   },
   "outputs": [],
   "source": [
    "model.apply(kaiming_init_uniform())"
   ]
  },
  {
   "cell_type": "code",
   "execution_count": null,
   "metadata": {
    "slideshow": {
     "slide_type": "slide"
    }
   },
   "outputs": [],
   "source": [
    "optim = torch.optim.SGD(model.parameters(), lr=0.1)"
   ]
  },
  {
   "cell_type": "code",
   "execution_count": null,
   "metadata": {
    "slideshow": {
     "slide_type": "skip"
    }
   },
   "outputs": [],
   "source": [
    "errors = []\n",
    "batches = 0\n",
    "epochs = 0"
   ]
  },
  {
   "cell_type": "code",
   "execution_count": null,
   "metadata": {
    "slideshow": {
     "slide_type": "slide"
    }
   },
   "outputs": [],
   "source": [
    "%%time\n",
    "for e in range(5):\n",
    "    for f,l in train_loader:        \n",
    "        optim.zero_grad()\n",
    "        pred = model(f)\n",
    "        loss = loss_f(pred, l)\n",
    "        errors.append(loss.item())\n",
    "        loss.backward()\n",
    "        optim.step()\n",
    "        batches += 1\n",
    "    epochs += 1   \n",
    "    print(loss.item())        "
   ]
  },
  {
   "cell_type": "code",
   "execution_count": null,
   "metadata": {
    "slideshow": {
     "slide_type": "slide"
    }
   },
   "outputs": [],
   "source": [
    "plt.plot(np.linspace(0,epochs, batches),errors);"
   ]
  },
  {
   "cell_type": "code",
   "execution_count": null,
   "metadata": {},
   "outputs": [],
   "source": [
    "model_accuracy(model, train_dataset)"
   ]
  },
  {
   "cell_type": "code",
   "execution_count": null,
   "metadata": {},
   "outputs": [],
   "source": [
    "model_accuracy(model, test_dataset)"
   ]
  },
  {
   "cell_type": "code",
   "execution_count": null,
   "metadata": {
    "slideshow": {
     "slide_type": "slide"
    }
   },
   "outputs": [],
   "source": [
    "for init in [xavier_init_uniform(), xavier_init_gauss(), kaiming_init_uniform(), kaiming_init_gauss()]:\n",
    "    model.apply(init)\n",
    "    optim = torch.optim.SGD(model.parameters(), lr=0.1)\n",
    "    for e in range(5):\n",
    "        for f,l in train_loader:        \n",
    "            optim.zero_grad()\n",
    "            pred = model(f)\n",
    "            loss = loss_f(pred, l)\n",
    "            errors.append(loss.item())\n",
    "            loss.backward()\n",
    "            optim.step()\n",
    "            batches += 1\n",
    "        epochs += 1   \n",
    "    print( model_accuracy(model, train_dataset), model_accuracy(model, test_dataset))"
   ]
  },
  {
   "cell_type": "code",
   "execution_count": null,
   "metadata": {},
   "outputs": [],
   "source": []
  }
 ],
 "metadata": {
  "celltoolbar": "Slideshow",
  "jupytext": {
   "cell_metadata_json": true
  },
  "kernelspec": {
   "display_name": "Python 3",
   "language": "python",
   "name": "python3"
  },
  "language_info": {
   "codemirror_mode": {
    "name": "ipython",
    "version": 3
   },
   "file_extension": ".py",
   "mimetype": "text/x-python",
   "name": "python",
   "nbconvert_exporter": "python",
   "pygments_lexer": "ipython3",
   "version": "3.8.3"
  }
 },
 "nbformat": 4,
 "nbformat_minor": 4
}
