{
 "cells": [
  {
   "cell_type": "code",
   "execution_count": null,
   "metadata": {
    "slideshow": {
     "slide_type": "skip"
    }
   },
   "outputs": [],
   "source": [
    "import numpy as np\n",
    "import matplotlib.pyplot as plt\n",
    "%matplotlib inline"
   ]
  },
  {
   "cell_type": "markdown",
   "metadata": {
    "slideshow": {
     "slide_type": "slide"
    }
   },
   "source": [
    "# Representation/features selection "
   ]
  },
  {
   "cell_type": "markdown",
   "metadata": {
    "slideshow": {
     "slide_type": "skip"
    }
   },
   "source": [
    "Closely tied with the concept of learning is a concept of *representation*. "
   ]
  },
  {
   "cell_type": "code",
   "execution_count": null,
   "metadata": {
    "slideshow": {
     "slide_type": "slide"
    }
   },
   "outputs": [],
   "source": [
    "features = np.load(\"../data/spirals_features.npy\")\n",
    "labels = np.load(\"../data/spirals_labels.npy\")"
   ]
  },
  {
   "cell_type": "code",
   "execution_count": null,
   "metadata": {},
   "outputs": [],
   "source": [
    "red  = features[labels==0]\n",
    "blue = features[labels==1]"
   ]
  },
  {
   "cell_type": "code",
   "execution_count": null,
   "metadata": {},
   "outputs": [],
   "source": [
    "plt.plot(red[:,0], red[:,1],'.r')\n",
    "plt.plot(blue[:,0], blue[:,1],'.b')"
   ]
  },
  {
   "cell_type": "code",
   "execution_count": null,
   "metadata": {
    "slideshow": {
     "slide_type": "slide"
    }
   },
   "outputs": [],
   "source": [
    "plt.plot(np.arctan2(red[:,0], red[:,1]), np.linalg.norm(red, axis=1),'.r')\n",
    "plt.plot(np.arctan2(blue[:,0], blue[:,1]), np.linalg.norm(blue, axis=1),'.b');"
   ]
  },
  {
   "cell_type": "code",
   "execution_count": null,
   "metadata": {
    "slideshow": {
     "slide_type": "slide"
    }
   },
   "outputs": [],
   "source": [
    "n = len(red)\n",
    "plt.plot(np.arange(n), np.arctan2(red[:,0],red[:,1])   +  np.linalg.norm(red, axis=1), '.r')\n",
    "plt.plot(np.arange(n), np.arctan2(blue[:,0],blue[:,1]) +  np.linalg.norm(blue, axis=1),'.b')"
   ]
  },
  {
   "cell_type": "code",
   "execution_count": null,
   "metadata": {
    "slideshow": {
     "slide_type": "slide"
    }
   },
   "outputs": [],
   "source": [
    "import torch\n",
    "import torch.nn as nn\n",
    "import torch.nn.functional as F\n",
    "import torchvision"
   ]
  },
  {
   "cell_type": "code",
   "execution_count": null,
   "metadata": {
    "slideshow": {
     "slide_type": "fragment"
    }
   },
   "outputs": [],
   "source": [
    "size = 128\n",
    "model = nn.Sequential(nn.Linear(in_features=2, out_features=size),\n",
    "                      nn.ReLU(), \n",
    "                      nn.Linear(in_features=size, out_features=size),\n",
    "                      nn.ReLU(), \n",
    "                      nn.Linear(in_features=size, out_features=size//2),\n",
    "                      nn.ReLU(), \n",
    "                      nn.Linear(in_features=size//2, out_features=1), \n",
    "                      nn.Sigmoid())"
   ]
  },
  {
   "cell_type": "code",
   "execution_count": null,
   "metadata": {
    "slideshow": {
     "slide_type": "fragment"
    }
   },
   "outputs": [],
   "source": [
    "t_data = torch.from_numpy(features.astype('float32'))"
   ]
  },
  {
   "cell_type": "code",
   "execution_count": null,
   "metadata": {
    "slideshow": {
     "slide_type": "fragment"
    }
   },
   "outputs": [],
   "source": [
    "t_labels = torch.from_numpy(labels.astype('float32')).view(-1,1)"
   ]
  },
  {
   "cell_type": "code",
   "execution_count": null,
   "metadata": {
    "slideshow": {
     "slide_type": "slide"
    }
   },
   "outputs": [],
   "source": [
    "dataset = torch.utils.data.TensorDataset(t_data, t_labels)"
   ]
  },
  {
   "cell_type": "code",
   "execution_count": null,
   "metadata": {
    "slideshow": {
     "slide_type": "fragment"
    }
   },
   "outputs": [],
   "source": [
    "train_data, test_data = torch.utils.data.random_split(dataset,(750,250))"
   ]
  },
  {
   "cell_type": "code",
   "execution_count": null,
   "metadata": {
    "slideshow": {
     "slide_type": "fragment"
    }
   },
   "outputs": [],
   "source": [
    "train_loader = torch.utils.data.DataLoader(train_data, batch_size=50)"
   ]
  },
  {
   "cell_type": "code",
   "execution_count": null,
   "metadata": {
    "slideshow": {
     "slide_type": "slide"
    }
   },
   "outputs": [],
   "source": [
    "loss_f = nn.BCELoss()"
   ]
  },
  {
   "cell_type": "code",
   "execution_count": null,
   "metadata": {
    "slideshow": {
     "slide_type": "fragment"
    }
   },
   "outputs": [],
   "source": [
    "sgd = torch.optim.SGD(model.parameters(), lr =0.001, momentum=0.2)"
   ]
  },
  {
   "cell_type": "code",
   "execution_count": null,
   "metadata": {
    "slideshow": {
     "slide_type": "slide"
    }
   },
   "outputs": [],
   "source": [
    "%%time\n",
    "for epoch in range(2000):\n",
    "    for batch in train_loader:\n",
    "        sgd.zero_grad()\n",
    "        f,l = batch\n",
    "        pred = model(f)\n",
    "        loss =   loss_f(pred,l) \n",
    "        loss.backward()\n",
    "        sgd.step()\n",
    "print(loss)        "
   ]
  },
  {
   "cell_type": "code",
   "execution_count": null,
   "metadata": {},
   "outputs": [],
   "source": [
    "pred_valid = model(test_data[:][0])\n",
    "pred_class = (pred_valid>0.5).long()\n",
    "torch.sum(pred_class == test_data[:][1].long()).item()/len(test_data)"
   ]
  },
  {
   "cell_type": "code",
   "execution_count": null,
   "metadata": {
    "slideshow": {
     "slide_type": "slide"
    }
   },
   "outputs": [],
   "source": [
    "def polar(xy):\n",
    "    phi = np.arctan2(xy[:,1], xy[:,0])\n",
    "    r   = np.linalg.norm(xy, axis=1)\n",
    "    return np.stack((phi,r), axis=1)\n",
    "\n",
    "def cartesian(fir):\n",
    "    x = fir[:,1]*np.cos(fir[:,0])\n",
    "    y = fir[:,1]*np.sin(fir[:,0])\n",
    "    \n",
    "    return np.stack((x,y), axis=1)"
   ]
  },
  {
   "cell_type": "code",
   "execution_count": null,
   "metadata": {
    "slideshow": {
     "slide_type": "skip"
    }
   },
   "outputs": [],
   "source": []
  },
  {
   "cell_type": "code",
   "execution_count": null,
   "metadata": {
    "slideshow": {
     "slide_type": "slide"
    }
   },
   "outputs": [],
   "source": [
    "size = 128\n",
    "polar_model = nn.Sequential(nn.Linear(in_features=2, out_features=size),\n",
    "                      nn.ReLU(), \n",
    "                      nn.Linear(in_features=size, out_features=size),\n",
    "                      nn.ReLU(), \n",
    "                      nn.Linear(in_features=size, out_features=size//2),\n",
    "                      nn.ReLU(), \n",
    "                      nn.Linear(in_features=size//2, out_features=1), \n",
    "                      nn.Sigmoid())"
   ]
  },
  {
   "cell_type": "code",
   "execution_count": null,
   "metadata": {
    "slideshow": {
     "slide_type": "slide"
    }
   },
   "outputs": [],
   "source": [
    "t_data_polar = torch.from_numpy(polar(features.astype('float32')))"
   ]
  },
  {
   "cell_type": "code",
   "execution_count": null,
   "metadata": {
    "slideshow": {
     "slide_type": "fragment"
    }
   },
   "outputs": [],
   "source": [
    "dataset_polar = torch.utils.data.TensorDataset(t_data_polar, t_labels)"
   ]
  },
  {
   "cell_type": "code",
   "execution_count": null,
   "metadata": {
    "slideshow": {
     "slide_type": "fragment"
    }
   },
   "outputs": [],
   "source": [
    "train_data_polar, test_data_polar = torch.utils.data.random_split(dataset_polar,(750,250))"
   ]
  },
  {
   "cell_type": "code",
   "execution_count": null,
   "metadata": {
    "slideshow": {
     "slide_type": "fragment"
    }
   },
   "outputs": [],
   "source": [
    "train_loader_polar = torch.utils.data.DataLoader(train_data_polar, batch_size=50)"
   ]
  },
  {
   "cell_type": "code",
   "execution_count": null,
   "metadata": {
    "slideshow": {
     "slide_type": "slide"
    }
   },
   "outputs": [],
   "source": [
    "loss_f = nn.BCELoss()"
   ]
  },
  {
   "cell_type": "code",
   "execution_count": null,
   "metadata": {},
   "outputs": [],
   "source": [
    "sgd_polar = torch.optim.SGD(polar_model.parameters(), lr =0.001, momentum=0.2)"
   ]
  },
  {
   "cell_type": "code",
   "execution_count": null,
   "metadata": {
    "slideshow": {
     "slide_type": "slide"
    }
   },
   "outputs": [],
   "source": [
    "%%time\n",
    "for epoch in range(2000):\n",
    "    for batch in train_loader_polar:\n",
    "        sgd_polar.zero_grad()\n",
    "        f,l = batch\n",
    "        pred = polar_model(f)\n",
    "        loss =   loss_f(pred,l) \n",
    "        loss.backward()\n",
    "        sgd_polar.step()\n",
    "print(loss)        "
   ]
  },
  {
   "cell_type": "code",
   "execution_count": null,
   "metadata": {},
   "outputs": [],
   "source": [
    "pred_valid = polar_model(test_data_polar[:][0])\n",
    "pred_class = (pred_valid>0.5).long()\n",
    "torch.sum(pred_class == test_data_polar[:][1].long()).item()/len(test_data)"
   ]
  },
  {
   "cell_type": "code",
   "execution_count": null,
   "metadata": {
    "slideshow": {
     "slide_type": "skip"
    }
   },
   "outputs": [],
   "source": []
  },
  {
   "cell_type": "code",
   "execution_count": null,
   "metadata": {
    "slideshow": {
     "slide_type": "skip"
    }
   },
   "outputs": [],
   "source": []
  }
 ],
 "metadata": {
  "celltoolbar": "Slideshow",
  "jupytext": {
   "cell_metadata_json": true
  },
  "kernelspec": {
   "display_name": "Python 3",
   "language": "python",
   "name": "python3"
  },
  "language_info": {
   "codemirror_mode": {
    "name": "ipython",
    "version": 3
   },
   "file_extension": ".py",
   "mimetype": "text/x-python",
   "name": "python",
   "nbconvert_exporter": "python",
   "pygments_lexer": "ipython3",
   "version": "3.8.3"
  }
 },
 "nbformat": 4,
 "nbformat_minor": 4
}
